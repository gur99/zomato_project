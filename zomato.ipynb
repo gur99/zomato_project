{
 "cells": [
  {
   "cell_type": "markdown",
   "id": "11356146",
   "metadata": {},
   "source": [
    "# Zomato Project "
   ]
  },
  {
   "cell_type": "code",
   "execution_count": 7,
   "id": "0a74aaec",
   "metadata": {},
   "outputs": [],
   "source": [
    "#  These lines import essential Python libraries for the project:\n",
    "# - pandas (pd): used for handling and analyzing structured data (DataFrames, CSV files, etc.)\n",
    "# - numpy (np): used for numerical operations and handling arrays\n",
    "# - matplotlib.pyplot (plt): used for creating visualizations and plots\n",
    "# - seaborn (sns): built on top of matplotlib, used for advanced and visually appealing statistical plots \n",
    "\n",
    "import pandas as pd \n",
    "import numpy as np\n",
    "import matplotlib.pyplot as plt\n",
    "import seaborn as sns"
   ]
  },
  {
   "cell_type": "code",
   "execution_count": 8,
   "id": "6dcd68b2",
   "metadata": {},
   "outputs": [],
   "source": [
    "#  Imports the sqlite3 library, which allows Python to connect to and interact with SQLite databases.\n",
    "#  It's often used to read data stored in .sqlite or .db files for analysis in data science projects.\n",
    "import sqlite3"
   ]
  },
  {
   "cell_type": "code",
   "execution_count": 9,
   "id": "1477aa6f",
   "metadata": {},
   "outputs": [],
   "source": [
    "# Creates a connection to the SQLite database file located at Data/zomato_rawdata.sqlite.\n",
    "# * why adding the 'r' before path to file?\n",
    "#  it tells Python not to treat backslashes (\\) as special escape characters — just to take the string exactly as written.\n",
    "connection = sqlite3.connect(r'Data/zomato_rawdata.sqlite')"
   ]
  },
  {
   "cell_type": "code",
   "execution_count": 10,
   "id": "6a504292",
   "metadata": {},
   "outputs": [],
   "source": [
    "# Runs an SQL query that selects all rows and columns from the table USERS,\n",
    "# and loads the result into a pandas DataFrame called df for further analysis in Python.\n",
    "df = pd.read_sql_query(\"SELECT * FROM USERS\" , connection)"
   ]
  },
  {
   "cell_type": "code",
   "execution_count": 11,
   "id": "36e70b38",
   "metadata": {},
   "outputs": [
    {
     "data": {
      "text/html": [
       "<div>\n",
       "<style scoped>\n",
       "    .dataframe tbody tr th:only-of-type {\n",
       "        vertical-align: middle;\n",
       "    }\n",
       "\n",
       "    .dataframe tbody tr th {\n",
       "        vertical-align: top;\n",
       "    }\n",
       "\n",
       "    .dataframe thead th {\n",
       "        text-align: right;\n",
       "    }\n",
       "</style>\n",
       "<table border=\"1\" class=\"dataframe\">\n",
       "  <thead>\n",
       "    <tr style=\"text-align: right;\">\n",
       "      <th></th>\n",
       "      <th>index</th>\n",
       "      <th>url</th>\n",
       "      <th>address</th>\n",
       "      <th>name</th>\n",
       "      <th>online_order</th>\n",
       "      <th>book_table</th>\n",
       "      <th>rate</th>\n",
       "      <th>votes</th>\n",
       "      <th>phone</th>\n",
       "      <th>location</th>\n",
       "      <th>rest_type</th>\n",
       "      <th>dish_liked</th>\n",
       "      <th>cuisines</th>\n",
       "      <th>approx_cost(for two people)</th>\n",
       "      <th>reviews_list</th>\n",
       "      <th>menu_item</th>\n",
       "      <th>listed_in(type)</th>\n",
       "      <th>listed_in(city)</th>\n",
       "    </tr>\n",
       "  </thead>\n",
       "  <tbody>\n",
       "    <tr>\n",
       "      <th>0</th>\n",
       "      <td>0</td>\n",
       "      <td>https://www.zomato.com/bangalore/jalsa-banasha...</td>\n",
       "      <td>942, 21st Main Road, 2nd Stage, Banashankari, ...</td>\n",
       "      <td>Jalsa</td>\n",
       "      <td>Yes</td>\n",
       "      <td>Yes</td>\n",
       "      <td>4.1/5</td>\n",
       "      <td>775</td>\n",
       "      <td>080 42297555\\r\\n+91 9743772233</td>\n",
       "      <td>Banashankari</td>\n",
       "      <td>Casual Dining</td>\n",
       "      <td>Pasta, Lunch Buffet, Masala Papad, Paneer Laja...</td>\n",
       "      <td>North Indian, Mughlai, Chinese</td>\n",
       "      <td>800</td>\n",
       "      <td>[('Rated 4.0', 'RATED\\n  A beautiful place to ...</td>\n",
       "      <td>[]</td>\n",
       "      <td>Buffet</td>\n",
       "      <td>Banashankari</td>\n",
       "    </tr>\n",
       "    <tr>\n",
       "      <th>1</th>\n",
       "      <td>1</td>\n",
       "      <td>https://www.zomato.com/bangalore/spice-elephan...</td>\n",
       "      <td>2nd Floor, 80 Feet Road, Near Big Bazaar, 6th ...</td>\n",
       "      <td>Spice Elephant</td>\n",
       "      <td>Yes</td>\n",
       "      <td>No</td>\n",
       "      <td>4.1/5</td>\n",
       "      <td>787</td>\n",
       "      <td>080 41714161</td>\n",
       "      <td>Banashankari</td>\n",
       "      <td>Casual Dining</td>\n",
       "      <td>Momos, Lunch Buffet, Chocolate Nirvana, Thai G...</td>\n",
       "      <td>Chinese, North Indian, Thai</td>\n",
       "      <td>800</td>\n",
       "      <td>[('Rated 4.0', 'RATED\\n  Had been here for din...</td>\n",
       "      <td>[]</td>\n",
       "      <td>Buffet</td>\n",
       "      <td>Banashankari</td>\n",
       "    </tr>\n",
       "    <tr>\n",
       "      <th>2</th>\n",
       "      <td>2</td>\n",
       "      <td>https://www.zomato.com/SanchurroBangalore?cont...</td>\n",
       "      <td>1112, Next to KIMS Medical College, 17th Cross...</td>\n",
       "      <td>San Churro Cafe</td>\n",
       "      <td>Yes</td>\n",
       "      <td>No</td>\n",
       "      <td>3.8/5</td>\n",
       "      <td>918</td>\n",
       "      <td>+91 9663487993</td>\n",
       "      <td>Banashankari</td>\n",
       "      <td>Cafe, Casual Dining</td>\n",
       "      <td>Churros, Cannelloni, Minestrone Soup, Hot Choc...</td>\n",
       "      <td>Cafe, Mexican, Italian</td>\n",
       "      <td>800</td>\n",
       "      <td>[('Rated 3.0', \"RATED\\n  Ambience is not that ...</td>\n",
       "      <td>[]</td>\n",
       "      <td>Buffet</td>\n",
       "      <td>Banashankari</td>\n",
       "    </tr>\n",
       "    <tr>\n",
       "      <th>3</th>\n",
       "      <td>3</td>\n",
       "      <td>https://www.zomato.com/bangalore/addhuri-udupi...</td>\n",
       "      <td>1st Floor, Annakuteera, 3rd Stage, Banashankar...</td>\n",
       "      <td>Addhuri Udupi Bhojana</td>\n",
       "      <td>No</td>\n",
       "      <td>No</td>\n",
       "      <td>3.7/5</td>\n",
       "      <td>88</td>\n",
       "      <td>+91 9620009302</td>\n",
       "      <td>Banashankari</td>\n",
       "      <td>Quick Bites</td>\n",
       "      <td>Masala Dosa</td>\n",
       "      <td>South Indian, North Indian</td>\n",
       "      <td>300</td>\n",
       "      <td>[('Rated 4.0', \"RATED\\n  Great food and proper...</td>\n",
       "      <td>[]</td>\n",
       "      <td>Buffet</td>\n",
       "      <td>Banashankari</td>\n",
       "    </tr>\n",
       "    <tr>\n",
       "      <th>4</th>\n",
       "      <td>4</td>\n",
       "      <td>https://www.zomato.com/bangalore/grand-village...</td>\n",
       "      <td>10, 3rd Floor, Lakshmi Associates, Gandhi Baza...</td>\n",
       "      <td>Grand Village</td>\n",
       "      <td>No</td>\n",
       "      <td>No</td>\n",
       "      <td>3.8/5</td>\n",
       "      <td>166</td>\n",
       "      <td>+91 8026612447\\r\\n+91 9901210005</td>\n",
       "      <td>Basavanagudi</td>\n",
       "      <td>Casual Dining</td>\n",
       "      <td>Panipuri, Gol Gappe</td>\n",
       "      <td>North Indian, Rajasthani</td>\n",
       "      <td>600</td>\n",
       "      <td>[('Rated 4.0', 'RATED\\n  Very good restaurant ...</td>\n",
       "      <td>[]</td>\n",
       "      <td>Buffet</td>\n",
       "      <td>Banashankari</td>\n",
       "    </tr>\n",
       "  </tbody>\n",
       "</table>\n",
       "</div>"
      ],
      "text/plain": [
       "   index                                                url  \\\n",
       "0      0  https://www.zomato.com/bangalore/jalsa-banasha...   \n",
       "1      1  https://www.zomato.com/bangalore/spice-elephan...   \n",
       "2      2  https://www.zomato.com/SanchurroBangalore?cont...   \n",
       "3      3  https://www.zomato.com/bangalore/addhuri-udupi...   \n",
       "4      4  https://www.zomato.com/bangalore/grand-village...   \n",
       "\n",
       "                                             address                   name  \\\n",
       "0  942, 21st Main Road, 2nd Stage, Banashankari, ...                  Jalsa   \n",
       "1  2nd Floor, 80 Feet Road, Near Big Bazaar, 6th ...         Spice Elephant   \n",
       "2  1112, Next to KIMS Medical College, 17th Cross...        San Churro Cafe   \n",
       "3  1st Floor, Annakuteera, 3rd Stage, Banashankar...  Addhuri Udupi Bhojana   \n",
       "4  10, 3rd Floor, Lakshmi Associates, Gandhi Baza...          Grand Village   \n",
       "\n",
       "  online_order book_table   rate  votes                             phone  \\\n",
       "0          Yes        Yes  4.1/5    775    080 42297555\\r\\n+91 9743772233   \n",
       "1          Yes         No  4.1/5    787                      080 41714161   \n",
       "2          Yes         No  3.8/5    918                    +91 9663487993   \n",
       "3           No         No  3.7/5     88                    +91 9620009302   \n",
       "4           No         No  3.8/5    166  +91 8026612447\\r\\n+91 9901210005   \n",
       "\n",
       "       location            rest_type  \\\n",
       "0  Banashankari        Casual Dining   \n",
       "1  Banashankari        Casual Dining   \n",
       "2  Banashankari  Cafe, Casual Dining   \n",
       "3  Banashankari          Quick Bites   \n",
       "4  Basavanagudi        Casual Dining   \n",
       "\n",
       "                                          dish_liked  \\\n",
       "0  Pasta, Lunch Buffet, Masala Papad, Paneer Laja...   \n",
       "1  Momos, Lunch Buffet, Chocolate Nirvana, Thai G...   \n",
       "2  Churros, Cannelloni, Minestrone Soup, Hot Choc...   \n",
       "3                                        Masala Dosa   \n",
       "4                                Panipuri, Gol Gappe   \n",
       "\n",
       "                         cuisines approx_cost(for two people)  \\\n",
       "0  North Indian, Mughlai, Chinese                         800   \n",
       "1     Chinese, North Indian, Thai                         800   \n",
       "2          Cafe, Mexican, Italian                         800   \n",
       "3      South Indian, North Indian                         300   \n",
       "4        North Indian, Rajasthani                         600   \n",
       "\n",
       "                                        reviews_list menu_item  \\\n",
       "0  [('Rated 4.0', 'RATED\\n  A beautiful place to ...        []   \n",
       "1  [('Rated 4.0', 'RATED\\n  Had been here for din...        []   \n",
       "2  [('Rated 3.0', \"RATED\\n  Ambience is not that ...        []   \n",
       "3  [('Rated 4.0', \"RATED\\n  Great food and proper...        []   \n",
       "4  [('Rated 4.0', 'RATED\\n  Very good restaurant ...        []   \n",
       "\n",
       "  listed_in(type) listed_in(city)  \n",
       "0          Buffet    Banashankari  \n",
       "1          Buffet    Banashankari  \n",
       "2          Buffet    Banashankari  \n",
       "3          Buffet    Banashankari  \n",
       "4          Buffet    Banashankari  "
      ]
     },
     "execution_count": 11,
     "metadata": {},
     "output_type": "execute_result"
    }
   ],
   "source": [
    "# Displays the first five rows of the DataFrame df.\n",
    "df.head()"
   ]
  },
  {
   "cell_type": "code",
   "execution_count": 12,
   "id": "179c1b3f",
   "metadata": {},
   "outputs": [
    {
     "data": {
      "text/plain": [
       "(51717, 18)"
      ]
     },
     "execution_count": 12,
     "metadata": {},
     "output_type": "execute_result"
    }
   ],
   "source": [
    "# Returns a tuple showing the number of rows and columns in the DataFrame df.\n",
    "# It helps understand the dataset’s size — for example, (1000, 12) means 1000 rows and 12 columns.\n",
    "df.shape"
   ]
  },
  {
   "cell_type": "code",
   "execution_count": 13,
   "id": "d340e15b",
   "metadata": {},
   "outputs": [],
   "source": [
    "# Removes the column named 'index' from the DataFrame df.\n",
    "df = df.drop(columns=['index'])"
   ]
  },
  {
   "cell_type": "code",
   "execution_count": 14,
   "id": "9f992c27",
   "metadata": {},
   "outputs": [
    {
     "data": {
      "text/html": [
       "<div>\n",
       "<style scoped>\n",
       "    .dataframe tbody tr th:only-of-type {\n",
       "        vertical-align: middle;\n",
       "    }\n",
       "\n",
       "    .dataframe tbody tr th {\n",
       "        vertical-align: top;\n",
       "    }\n",
       "\n",
       "    .dataframe thead th {\n",
       "        text-align: right;\n",
       "    }\n",
       "</style>\n",
       "<table border=\"1\" class=\"dataframe\">\n",
       "  <thead>\n",
       "    <tr style=\"text-align: right;\">\n",
       "      <th></th>\n",
       "      <th>url</th>\n",
       "      <th>address</th>\n",
       "      <th>name</th>\n",
       "      <th>online_order</th>\n",
       "      <th>book_table</th>\n",
       "      <th>rate</th>\n",
       "      <th>votes</th>\n",
       "      <th>phone</th>\n",
       "      <th>location</th>\n",
       "      <th>rest_type</th>\n",
       "      <th>dish_liked</th>\n",
       "      <th>cuisines</th>\n",
       "      <th>approx_cost(for two people)</th>\n",
       "      <th>reviews_list</th>\n",
       "      <th>menu_item</th>\n",
       "      <th>listed_in(type)</th>\n",
       "      <th>listed_in(city)</th>\n",
       "    </tr>\n",
       "  </thead>\n",
       "  <tbody>\n",
       "    <tr>\n",
       "      <th>0</th>\n",
       "      <td>https://www.zomato.com/bangalore/jalsa-banasha...</td>\n",
       "      <td>942, 21st Main Road, 2nd Stage, Banashankari, ...</td>\n",
       "      <td>Jalsa</td>\n",
       "      <td>Yes</td>\n",
       "      <td>Yes</td>\n",
       "      <td>4.1/5</td>\n",
       "      <td>775</td>\n",
       "      <td>080 42297555\\r\\n+91 9743772233</td>\n",
       "      <td>Banashankari</td>\n",
       "      <td>Casual Dining</td>\n",
       "      <td>Pasta, Lunch Buffet, Masala Papad, Paneer Laja...</td>\n",
       "      <td>North Indian, Mughlai, Chinese</td>\n",
       "      <td>800</td>\n",
       "      <td>[('Rated 4.0', 'RATED\\n  A beautiful place to ...</td>\n",
       "      <td>[]</td>\n",
       "      <td>Buffet</td>\n",
       "      <td>Banashankari</td>\n",
       "    </tr>\n",
       "    <tr>\n",
       "      <th>1</th>\n",
       "      <td>https://www.zomato.com/bangalore/spice-elephan...</td>\n",
       "      <td>2nd Floor, 80 Feet Road, Near Big Bazaar, 6th ...</td>\n",
       "      <td>Spice Elephant</td>\n",
       "      <td>Yes</td>\n",
       "      <td>No</td>\n",
       "      <td>4.1/5</td>\n",
       "      <td>787</td>\n",
       "      <td>080 41714161</td>\n",
       "      <td>Banashankari</td>\n",
       "      <td>Casual Dining</td>\n",
       "      <td>Momos, Lunch Buffet, Chocolate Nirvana, Thai G...</td>\n",
       "      <td>Chinese, North Indian, Thai</td>\n",
       "      <td>800</td>\n",
       "      <td>[('Rated 4.0', 'RATED\\n  Had been here for din...</td>\n",
       "      <td>[]</td>\n",
       "      <td>Buffet</td>\n",
       "      <td>Banashankari</td>\n",
       "    </tr>\n",
       "    <tr>\n",
       "      <th>2</th>\n",
       "      <td>https://www.zomato.com/SanchurroBangalore?cont...</td>\n",
       "      <td>1112, Next to KIMS Medical College, 17th Cross...</td>\n",
       "      <td>San Churro Cafe</td>\n",
       "      <td>Yes</td>\n",
       "      <td>No</td>\n",
       "      <td>3.8/5</td>\n",
       "      <td>918</td>\n",
       "      <td>+91 9663487993</td>\n",
       "      <td>Banashankari</td>\n",
       "      <td>Cafe, Casual Dining</td>\n",
       "      <td>Churros, Cannelloni, Minestrone Soup, Hot Choc...</td>\n",
       "      <td>Cafe, Mexican, Italian</td>\n",
       "      <td>800</td>\n",
       "      <td>[('Rated 3.0', \"RATED\\n  Ambience is not that ...</td>\n",
       "      <td>[]</td>\n",
       "      <td>Buffet</td>\n",
       "      <td>Banashankari</td>\n",
       "    </tr>\n",
       "    <tr>\n",
       "      <th>3</th>\n",
       "      <td>https://www.zomato.com/bangalore/addhuri-udupi...</td>\n",
       "      <td>1st Floor, Annakuteera, 3rd Stage, Banashankar...</td>\n",
       "      <td>Addhuri Udupi Bhojana</td>\n",
       "      <td>No</td>\n",
       "      <td>No</td>\n",
       "      <td>3.7/5</td>\n",
       "      <td>88</td>\n",
       "      <td>+91 9620009302</td>\n",
       "      <td>Banashankari</td>\n",
       "      <td>Quick Bites</td>\n",
       "      <td>Masala Dosa</td>\n",
       "      <td>South Indian, North Indian</td>\n",
       "      <td>300</td>\n",
       "      <td>[('Rated 4.0', \"RATED\\n  Great food and proper...</td>\n",
       "      <td>[]</td>\n",
       "      <td>Buffet</td>\n",
       "      <td>Banashankari</td>\n",
       "    </tr>\n",
       "    <tr>\n",
       "      <th>4</th>\n",
       "      <td>https://www.zomato.com/bangalore/grand-village...</td>\n",
       "      <td>10, 3rd Floor, Lakshmi Associates, Gandhi Baza...</td>\n",
       "      <td>Grand Village</td>\n",
       "      <td>No</td>\n",
       "      <td>No</td>\n",
       "      <td>3.8/5</td>\n",
       "      <td>166</td>\n",
       "      <td>+91 8026612447\\r\\n+91 9901210005</td>\n",
       "      <td>Basavanagudi</td>\n",
       "      <td>Casual Dining</td>\n",
       "      <td>Panipuri, Gol Gappe</td>\n",
       "      <td>North Indian, Rajasthani</td>\n",
       "      <td>600</td>\n",
       "      <td>[('Rated 4.0', 'RATED\\n  Very good restaurant ...</td>\n",
       "      <td>[]</td>\n",
       "      <td>Buffet</td>\n",
       "      <td>Banashankari</td>\n",
       "    </tr>\n",
       "  </tbody>\n",
       "</table>\n",
       "</div>"
      ],
      "text/plain": [
       "                                                 url  \\\n",
       "0  https://www.zomato.com/bangalore/jalsa-banasha...   \n",
       "1  https://www.zomato.com/bangalore/spice-elephan...   \n",
       "2  https://www.zomato.com/SanchurroBangalore?cont...   \n",
       "3  https://www.zomato.com/bangalore/addhuri-udupi...   \n",
       "4  https://www.zomato.com/bangalore/grand-village...   \n",
       "\n",
       "                                             address                   name  \\\n",
       "0  942, 21st Main Road, 2nd Stage, Banashankari, ...                  Jalsa   \n",
       "1  2nd Floor, 80 Feet Road, Near Big Bazaar, 6th ...         Spice Elephant   \n",
       "2  1112, Next to KIMS Medical College, 17th Cross...        San Churro Cafe   \n",
       "3  1st Floor, Annakuteera, 3rd Stage, Banashankar...  Addhuri Udupi Bhojana   \n",
       "4  10, 3rd Floor, Lakshmi Associates, Gandhi Baza...          Grand Village   \n",
       "\n",
       "  online_order book_table   rate  votes                             phone  \\\n",
       "0          Yes        Yes  4.1/5    775    080 42297555\\r\\n+91 9743772233   \n",
       "1          Yes         No  4.1/5    787                      080 41714161   \n",
       "2          Yes         No  3.8/5    918                    +91 9663487993   \n",
       "3           No         No  3.7/5     88                    +91 9620009302   \n",
       "4           No         No  3.8/5    166  +91 8026612447\\r\\n+91 9901210005   \n",
       "\n",
       "       location            rest_type  \\\n",
       "0  Banashankari        Casual Dining   \n",
       "1  Banashankari        Casual Dining   \n",
       "2  Banashankari  Cafe, Casual Dining   \n",
       "3  Banashankari          Quick Bites   \n",
       "4  Basavanagudi        Casual Dining   \n",
       "\n",
       "                                          dish_liked  \\\n",
       "0  Pasta, Lunch Buffet, Masala Papad, Paneer Laja...   \n",
       "1  Momos, Lunch Buffet, Chocolate Nirvana, Thai G...   \n",
       "2  Churros, Cannelloni, Minestrone Soup, Hot Choc...   \n",
       "3                                        Masala Dosa   \n",
       "4                                Panipuri, Gol Gappe   \n",
       "\n",
       "                         cuisines approx_cost(for two people)  \\\n",
       "0  North Indian, Mughlai, Chinese                         800   \n",
       "1     Chinese, North Indian, Thai                         800   \n",
       "2          Cafe, Mexican, Italian                         800   \n",
       "3      South Indian, North Indian                         300   \n",
       "4        North Indian, Rajasthani                         600   \n",
       "\n",
       "                                        reviews_list menu_item  \\\n",
       "0  [('Rated 4.0', 'RATED\\n  A beautiful place to ...        []   \n",
       "1  [('Rated 4.0', 'RATED\\n  Had been here for din...        []   \n",
       "2  [('Rated 3.0', \"RATED\\n  Ambience is not that ...        []   \n",
       "3  [('Rated 4.0', \"RATED\\n  Great food and proper...        []   \n",
       "4  [('Rated 4.0', 'RATED\\n  Very good restaurant ...        []   \n",
       "\n",
       "  listed_in(type) listed_in(city)  \n",
       "0          Buffet    Banashankari  \n",
       "1          Buffet    Banashankari  \n",
       "2          Buffet    Banashankari  \n",
       "3          Buffet    Banashankari  \n",
       "4          Buffet    Banashankari  "
      ]
     },
     "execution_count": 14,
     "metadata": {},
     "output_type": "execute_result"
    }
   ],
   "source": [
    "df.head()"
   ]
  },
  {
   "cell_type": "code",
   "execution_count": 15,
   "id": "687f1245",
   "metadata": {},
   "outputs": [
    {
     "data": {
      "text/plain": [
       "url                                0\n",
       "address                            0\n",
       "name                               0\n",
       "online_order                       0\n",
       "book_table                         0\n",
       "rate                            7775\n",
       "votes                              0\n",
       "phone                           1208\n",
       "location                          21\n",
       "rest_type                        227\n",
       "dish_liked                     28078\n",
       "cuisines                          45\n",
       "approx_cost(for two people)      346\n",
       "reviews_list                       0\n",
       "menu_item                          0\n",
       "listed_in(type)                    0\n",
       "listed_in(city)                    0\n",
       "dtype: int64"
      ]
     },
     "execution_count": 15,
     "metadata": {},
     "output_type": "execute_result"
    }
   ],
   "source": [
    "# Checks for missing values in each column of the DataFrame df and sums them up.\n",
    "# The output shows how many null (NaN) values exist per column, helping identify where data cleaning is needed.\n",
    "df.isnull().sum()"
   ]
  },
  {
   "cell_type": "code",
   "execution_count": 16,
   "id": "36a26fc0",
   "metadata": {},
   "outputs": [
    {
     "data": {
      "text/plain": [
       "url                            object\n",
       "address                        object\n",
       "name                           object\n",
       "online_order                   object\n",
       "book_table                     object\n",
       "rate                           object\n",
       "votes                           int64\n",
       "phone                          object\n",
       "location                       object\n",
       "rest_type                      object\n",
       "dish_liked                     object\n",
       "cuisines                       object\n",
       "approx_cost(for two people)    object\n",
       "reviews_list                   object\n",
       "menu_item                      object\n",
       "listed_in(type)                object\n",
       "listed_in(city)                object\n",
       "dtype: object"
      ]
     },
     "execution_count": 16,
     "metadata": {},
     "output_type": "execute_result"
    }
   ],
   "source": [
    "# Displays the data type of each column in the DataFrame df.\n",
    "# This helps understand whether columns are stored as numbers, text, dates, or other types — important for preprocessing and analysis steps.\n",
    "df.dtypes"
   ]
  },
  {
   "cell_type": "code",
   "execution_count": 17,
   "id": "df668540",
   "metadata": {},
   "outputs": [
    {
     "data": {
      "text/plain": [
       "array(['800', '300', '600', '700', '550', '500', '450', '650', '400',\n",
       "       '900', '200', '750', '150', '850', '100', '1,200', '350', '250',\n",
       "       '950', '1,000', '1,500', '1,300', '199', '80', '1,100', '160',\n",
       "       '1,600', '230', '130', '50', '190', '1,700', None, '1,400', '180',\n",
       "       '1,350', '2,200', '2,000', '1,800', '1,900', '330', '2,500',\n",
       "       '2,100', '3,000', '2,800', '3,400', '40', '1,250', '3,500',\n",
       "       '4,000', '2,400', '2,600', '120', '1,450', '469', '70', '3,200',\n",
       "       '60', '560', '240', '360', '6,000', '1,050', '2,300', '4,100',\n",
       "       '5,000', '3,700', '1,650', '2,700', '4,500', '140'], dtype=object)"
      ]
     },
     "execution_count": 17,
     "metadata": {},
     "output_type": "execute_result"
    }
   ],
   "source": [
    "# Returns an array of all unique values found in the column 'approx_cost(for two people)'.\n",
    "# This is useful to explore possible formats, duplicates, or inconsistencies in that column before cleaning or transforming it.\n",
    "df['approx_cost(for two people)'].unique()"
   ]
  },
  {
   "cell_type": "code",
   "execution_count": 18,
   "id": "f9bfef13",
   "metadata": {},
   "outputs": [],
   "source": [
    "# Removes all commas from the string values in the column 'approx_cost(for two people)'.\n",
    "# This prepares the data so the values can be safely converted from text strings into numeric format later.\n",
    "df['approx_cost(for two people)']= df['approx_cost(for two people)'].str.replace(',','')\n"
   ]
  },
  {
   "cell_type": "code",
   "execution_count": 19,
   "id": "a08dbf81",
   "metadata": {},
   "outputs": [
    {
     "data": {
      "text/plain": [
       "array(['800', '300', '600', '700', '550', '500', '450', '650', '400',\n",
       "       '900', '200', '750', '150', '850', '100', '1200', '350', '250',\n",
       "       '950', '1000', '1500', '1300', '199', '80', '1100', '160', '1600',\n",
       "       '230', '130', '50', '190', '1700', None, '1400', '180', '1350',\n",
       "       '2200', '2000', '1800', '1900', '330', '2500', '2100', '3000',\n",
       "       '2800', '3400', '40', '1250', '3500', '4000', '2400', '2600',\n",
       "       '120', '1450', '469', '70', '3200', '60', '560', '240', '360',\n",
       "       '6000', '1050', '2300', '4100', '5000', '3700', '1650', '2700',\n",
       "       '4500', '140'], dtype=object)"
      ]
     },
     "execution_count": 19,
     "metadata": {},
     "output_type": "execute_result"
    }
   ],
   "source": [
    "df['approx_cost(for two people)'].unique()"
   ]
  },
  {
   "cell_type": "code",
   "execution_count": 20,
   "id": "f27b546f",
   "metadata": {},
   "outputs": [],
   "source": [
    "# Converts the cleaned string values in 'approx_cost(for two people)' into floating-point numbers.\n",
    "# This allows numerical operations such as calculations, statistical analysis, and visualizations on that column.\n",
    "\n",
    "df['approx_cost(for two people)']= df['approx_cost(for two people)'].astype(float)"
   ]
  },
  {
   "cell_type": "code",
   "execution_count": 21,
   "id": "2232a675",
   "metadata": {},
   "outputs": [
    {
     "data": {
      "text/plain": [
       "dtype('float64')"
      ]
     },
     "execution_count": 21,
     "metadata": {},
     "output_type": "execute_result"
    }
   ],
   "source": [
    "# now we'll see what's the matter with the 'rate' feature, which suppose to be int\\float as well, however appear as an object \n",
    "df['approx_cost(for two people)'].dtype"
   ]
  },
  {
   "cell_type": "code",
   "execution_count": 22,
   "id": "4a20b6be",
   "metadata": {},
   "outputs": [
    {
     "data": {
      "text/plain": [
       "0         4.1/5\n",
       "1         4.1/5\n",
       "2         3.8/5\n",
       "3         3.7/5\n",
       "4         3.8/5\n",
       "          ...  \n",
       "51712    3.6 /5\n",
       "51713      None\n",
       "51714      None\n",
       "51715    4.3 /5\n",
       "51716    3.4 /5\n",
       "Name: rate, Length: 51717, dtype: object"
      ]
     },
     "execution_count": 22,
     "metadata": {},
     "output_type": "execute_result"
    }
   ],
   "source": [
    "# Displays the 'rate' column from the DataFrame df\n",
    "df['rate']"
   ]
  },
  {
   "cell_type": "code",
   "execution_count": 23,
   "id": "29a7b486",
   "metadata": {},
   "outputs": [],
   "source": [
    "# Removes the '/5' part from each value in the 'rate' column\n",
    "# This cleans the data so only the numeric portion of the rating remains, making it easier to convert into a numeric type later\n",
    "df['rate'] = df['rate'].str.replace('/5','')"
   ]
  },
  {
   "cell_type": "code",
   "execution_count": 24,
   "id": "9daa7f19",
   "metadata": {},
   "outputs": [
    {
     "data": {
      "text/plain": [
       "array(['4.1', '3.8', '3.7', '3.6', '4.6', '4.0', '4.2', '3.9', '3.1',\n",
       "       '3.0', '3.2', '3.3', '2.8', '4.4', '4.3', 'NEW', '2.9', '3.5',\n",
       "       None, '2.6', '3.8 ', '3.4', '4.5', '2.5', '2.7', '4.7', '2.4',\n",
       "       '2.2', '2.3', '3.4 ', '-', '3.6 ', '4.8', '3.9 ', '4.2 ', '4.0 ',\n",
       "       '4.1 ', '3.7 ', '3.1 ', '2.9 ', '3.3 ', '2.8 ', '3.5 ', '2.7 ',\n",
       "       '2.5 ', '3.2 ', '2.6 ', '4.5 ', '4.3 ', '4.4 ', '4.9', '2.1',\n",
       "       '2.0', '1.8', '4.6 ', '4.9 ', '3.0 ', '4.8 ', '2.3 ', '4.7 ',\n",
       "       '2.4 ', '2.1 ', '2.2 ', '2.0 ', '1.8 '], dtype=object)"
      ]
     },
     "execution_count": 24,
     "metadata": {},
     "output_type": "execute_result"
    }
   ],
   "source": [
    "df['rate'].unique()"
   ]
  },
  {
   "cell_type": "code",
   "execution_count": 25,
   "id": "4e69844d",
   "metadata": {},
   "outputs": [],
   "source": [
    "# Converts all values in the 'rate' column to strings\n",
    "# This ensures consistent data type before applying string operations like replace() or handling missing values\n",
    "df['rate'] = df['rate'].astype(str)"
   ]
  },
  {
   "cell_type": "code",
   "execution_count": 26,
   "id": "72f52d74",
   "metadata": {},
   "outputs": [
    {
     "name": "stderr",
     "output_type": "stream",
     "text": [
      "/tmp/ipykernel_2341219/2192293719.py:3: FutureWarning: A value is trying to be set on a copy of a DataFrame or Series through chained assignment using an inplace method.\n",
      "The behavior will change in pandas 3.0. This inplace method will never work because the intermediate object on which we are setting values always behaves as a copy.\n",
      "\n",
      "For example, when doing 'df[col].method(value, inplace=True)', try using 'df.method({col: value}, inplace=True)' or df[col] = df[col].method(value) instead, to perform the operation inplace on the original object.\n",
      "\n",
      "\n",
      "  df['rate'].replace('NEW', np.nan, inplace=True)\n",
      "/tmp/ipykernel_2341219/2192293719.py:4: FutureWarning: A value is trying to be set on a copy of a DataFrame or Series through chained assignment using an inplace method.\n",
      "The behavior will change in pandas 3.0. This inplace method will never work because the intermediate object on which we are setting values always behaves as a copy.\n",
      "\n",
      "For example, when doing 'df[col].method(value, inplace=True)', try using 'df.method({col: value}, inplace=True)' or df[col] = df[col].method(value) instead, to perform the operation inplace on the original object.\n",
      "\n",
      "\n",
      "  df['rate'].replace('None', np.nan, inplace=True)\n",
      "/tmp/ipykernel_2341219/2192293719.py:5: FutureWarning: A value is trying to be set on a copy of a DataFrame or Series through chained assignment using an inplace method.\n",
      "The behavior will change in pandas 3.0. This inplace method will never work because the intermediate object on which we are setting values always behaves as a copy.\n",
      "\n",
      "For example, when doing 'df[col].method(value, inplace=True)', try using 'df.method({col: value}, inplace=True)' or df[col] = df[col].method(value) instead, to perform the operation inplace on the original object.\n",
      "\n",
      "\n",
      "  df['rate'].replace('-', np.nan, inplace=True)\n"
     ]
    }
   ],
   "source": [
    "# Replaces the values 'NEW', 'None', and '-' in the 'rate' column with NaN (missing values)\n",
    "# This standardizes invalid or non-numeric entries so they can be properly handled during data cleaning or analysis\n",
    "df['rate'].replace('NEW', np.nan, inplace=True)\n",
    "df['rate'].replace('None', np.nan, inplace=True)\n",
    "df['rate'].replace('-', np.nan, inplace=True)"
   ]
  },
  {
   "cell_type": "code",
   "execution_count": 27,
   "id": "80ddea2d",
   "metadata": {},
   "outputs": [],
   "source": [
    "# Converts the cleaned 'rate' column from string type to float\n",
    "# This allows performing numerical calculations or visualizations using the restaurant ratings\n",
    "df['rate'] = df['rate'].astype(float)"
   ]
  },
  {
   "cell_type": "code",
   "execution_count": 28,
   "id": "8181b242",
   "metadata": {},
   "outputs": [
    {
     "data": {
      "text/plain": [
       "rest_type\n",
       "Quick Bites                   19132\n",
       "Casual Dining                 10330\n",
       "Cafe                           3732\n",
       "Delivery                       2604\n",
       "Dessert Parlor                 2263\n",
       "                              ...  \n",
       "Dessert Parlor, Kiosk             2\n",
       "Dessert Parlor, Food Court        2\n",
       "Food Court, Beverage Shop         2\n",
       "Sweet Shop, Dessert Parlor        1\n",
       "Quick Bites, Kiosk                1\n",
       "Name: count, Length: 93, dtype: int64"
      ]
     },
     "execution_count": 28,
     "metadata": {},
     "output_type": "execute_result"
    }
   ],
   "source": [
    "# Counts how many times each restaurant type appears in the 'rest_type' column\n",
    "# This helps identify the most common or popular types of restaurants based on the dataset\n",
    "df['rest_type'].value_counts()"
   ]
  },
  {
   "cell_type": "code",
   "execution_count": 29,
   "id": "70b553c4",
   "metadata": {},
   "outputs": [
    {
     "data": {
      "text/plain": [
       "np.int64(227)"
      ]
     },
     "execution_count": 29,
     "metadata": {},
     "output_type": "execute_result"
    }
   ],
   "source": [
    "# Counts how many missing (NaN) values exist in the 'rest_type' column\n",
    "# Useful for checking data completeness before further analysis or visualization\n",
    "df['rest_type'].isnull().sum()"
   ]
  },
  {
   "cell_type": "code",
   "execution_count": 30,
   "id": "4f26f4ac",
   "metadata": {},
   "outputs": [],
   "source": [
    "# Creates a new DataFrame called 'data' by removing all rows where 'rest_type' has missing values\n",
    "# This ensures that only rows with valid restaurant type information are kept for analysis\n",
    "data = df.dropna(subset=['rest_type'])"
   ]
  },
  {
   "cell_type": "code",
   "execution_count": 31,
   "id": "1dd7556a",
   "metadata": {},
   "outputs": [
    {
     "data": {
      "text/plain": [
       "(51490, 17)"
      ]
     },
     "execution_count": 31,
     "metadata": {},
     "output_type": "execute_result"
    }
   ],
   "source": [
    "data.shape"
   ]
  },
  {
   "cell_type": "code",
   "execution_count": 32,
   "id": "f691a69f",
   "metadata": {},
   "outputs": [],
   "source": [
    "# Creates a new DataFrame called 'data_qb' containing only the rows where 'rest_type' includes the phrase 'Quick Bites'\n",
    "# This filters the data to focus on restaurants classified as Quick Bites for deeper analysis\n",
    "data_qb = data[data['rest_type'].str.contains('Quick Bites')]"
   ]
  },
  {
   "cell_type": "code",
   "execution_count": 33,
   "id": "7e849edd",
   "metadata": {},
   "outputs": [
    {
     "data": {
      "text/plain": [
       "(20639, 17)"
      ]
     },
     "execution_count": 33,
     "metadata": {},
     "output_type": "execute_result"
    }
   ],
   "source": [
    "data_qb.shape"
   ]
  },
  {
   "cell_type": "code",
   "execution_count": 34,
   "id": "432f670c",
   "metadata": {},
   "outputs": [],
   "source": [
    "# Combines all the text from the 'dish_liked' column of Quick Bites restaurants into one long lowercase string\n",
    "# This makes it easier to analyze overall dish popularity by processing all mentioned dishes together\n",
    "all_dishes = data_qb['dish_liked'].str.lower().str.cat()"
   ]
  },
  {
   "cell_type": "code",
   "execution_count": 35,
   "id": "a8f2964b",
   "metadata": {},
   "outputs": [
    {
     "name": "stdout",
     "output_type": "stream",
     "text": [
      "Requirement already satisfied: wordcloud in /home/gur/anaconda3/lib/python3.13/site-packages (1.9.4)\n",
      "Requirement already satisfied: numpy>=1.6.1 in /home/gur/anaconda3/lib/python3.13/site-packages (from wordcloud) (2.1.3)\n",
      "Requirement already satisfied: pillow in /home/gur/anaconda3/lib/python3.13/site-packages (from wordcloud) (11.1.0)\n",
      "Requirement already satisfied: matplotlib in /home/gur/anaconda3/lib/python3.13/site-packages (from wordcloud) (3.10.0)\n",
      "Requirement already satisfied: contourpy>=1.0.1 in /home/gur/anaconda3/lib/python3.13/site-packages (from matplotlib->wordcloud) (1.3.1)\n",
      "Requirement already satisfied: cycler>=0.10 in /home/gur/anaconda3/lib/python3.13/site-packages (from matplotlib->wordcloud) (0.11.0)\n",
      "Requirement already satisfied: fonttools>=4.22.0 in /home/gur/anaconda3/lib/python3.13/site-packages (from matplotlib->wordcloud) (4.55.3)\n",
      "Requirement already satisfied: kiwisolver>=1.3.1 in /home/gur/anaconda3/lib/python3.13/site-packages (from matplotlib->wordcloud) (1.4.8)\n",
      "Requirement already satisfied: packaging>=20.0 in /home/gur/anaconda3/lib/python3.13/site-packages (from matplotlib->wordcloud) (24.2)\n",
      "Requirement already satisfied: pyparsing>=2.3.1 in /home/gur/anaconda3/lib/python3.13/site-packages (from matplotlib->wordcloud) (3.2.0)\n",
      "Requirement already satisfied: python-dateutil>=2.7 in /home/gur/anaconda3/lib/python3.13/site-packages (from matplotlib->wordcloud) (2.9.0.post0)\n",
      "Requirement already satisfied: six>=1.5 in /home/gur/anaconda3/lib/python3.13/site-packages (from python-dateutil>=2.7->matplotlib->wordcloud) (1.17.0)\n"
     ]
    }
   ],
   "source": [
    "# Installs the 'wordcloud' library in the current environment\n",
    "# This library is used to create word cloud visualizations that highlight the most frequent words (like popular dishes) in a dataset\n",
    "!pip install wordcloud"
   ]
  },
  {
   "cell_type": "code",
   "execution_count": 36,
   "id": "222bdded",
   "metadata": {},
   "outputs": [],
   "source": [
    "# Imports the 'wordcloud' library so it can be used to generate visual word clouds from text data\n",
    "import wordcloud\n",
    "# Imports the WordCloud class from the wordcloud library\n",
    "# This class is used to create and customize word cloud images based on text frequency\n",
    "from wordcloud import WordCloud"
   ]
  },
  {
   "cell_type": "code",
   "execution_count": 37,
   "id": "5d3acd1b",
   "metadata": {},
   "outputs": [],
   "source": [
    "# Creates a word cloud object and generates the cloud from the combined text in 'all_dishes'\n",
    "# Words that appear more frequently in the text will appear larger in the resulting visualization\n",
    "wordcloud= WordCloud().generate(all_dishes)"
   ]
  },
  {
   "cell_type": "code",
   "execution_count": 38,
   "id": "54d461a7",
   "metadata": {},
   "outputs": [
    {
     "data": {
      "text/plain": [
       "(np.float64(-0.5), np.float64(399.5), np.float64(199.5), np.float64(-0.5))"
      ]
     },
     "execution_count": 38,
     "metadata": {},
     "output_type": "execute_result"
    },
    {
     "data": {
      "image/png": "[encoded data removed]",
      "text/plain": [
       "<Figure size 640x480 with 1 Axes>"
      ]
     },
     "metadata": {},
     "output_type": "display_data"
    }
   ],
   "source": [
    "# Displays the generated word cloud image using matplotlib.  plt.imshow() renders the word cloud\n",
    "plt.imshow(wordcloud)\n",
    "# plt.axis('off') hides the axis for a cleaner visual appearance\n",
    "plt.axis('off')"
   ]
  },
  {
   "cell_type": "code",
   "execution_count": 39,
   "id": "a1b5c6e4",
   "metadata": {},
   "outputs": [],
   "source": [
    "# Imports 're' for regular expressions and 'Counter' from collections to count word frequencies\n",
    "import re\n",
    "from collections import Counter\n",
    "\n",
    "# Step 1: Convert all the text to lowercase (so 'Momos' and 'momos' are counted together)\n",
    "text = all_dishes.lower()\n",
    "\n",
    "# Step 2: Split the text into individual words\n",
    "# The pattern r'[, ]+' means: split wherever there is a comma or space (or both)\n",
    "words = re.split(r'[, ]+', text)\n",
    "\n",
    "# Step 3: Remove any empty strings or very short words (like '')\n",
    "cleaned_words = []\n",
    "for word in words:\n",
    "    if len(word) > 2:  # ignore words shorter than 3 letters\n",
    "        cleaned_words.append(word)\n",
    "\n",
    "# Step 4: Count how many times each dish appears\n",
    "freq = Counter(cleaned_words)"
   ]
  },
  {
   "cell_type": "code",
   "execution_count": 40,
   "id": "f3d7349c",
   "metadata": {},
   "outputs": [
    {
     "data": {
      "image/png": "[encoded data removed]",
      "text/plain": [
       "<Figure size 1000x600 with 1 Axes>"
      ]
     },
     "metadata": {},
     "output_type": "display_data"
    }
   ],
   "source": [
    "# Converts the frequency dictionary into a pandas Series and sorts it in descending order\n",
    "# Plots the top 15 most common dishes as a horizontal bar chart\n",
    "# Sets the title and axis labels, and inverts the y-axis so the most frequent dishes appear at the top\n",
    "# Finally, displays the chart with plt.show()\n",
    "\n",
    "pd.Series(freq).sort_values(ascending=False).head(15).plot(kind='barh', figsize=(10,6))\n",
    "plt.title(\"Most Common Dishes\")\n",
    "plt.xlabel(\"Frequency\")\n",
    "plt.ylabel(\"Dish\")\n",
    "plt.gca().invert_yaxis()\n",
    "plt.show()"
   ]
  },
  {
   "cell_type": "markdown",
   "id": "2e1aa41b",
   "metadata": {},
   "source": [
    "## Handling missing values"
   ]
  },
  {
   "cell_type": "code",
   "execution_count": 41,
   "id": "e4381580",
   "metadata": {},
   "outputs": [
    {
     "data": {
      "text/plain": [
       "url                                0\n",
       "address                            0\n",
       "name                               0\n",
       "online_order                       0\n",
       "book_table                         0\n",
       "rate                           10052\n",
       "votes                              0\n",
       "phone                           1208\n",
       "location                          21\n",
       "rest_type                        227\n",
       "dish_liked                     28078\n",
       "cuisines                          45\n",
       "approx_cost(for two people)      346\n",
       "reviews_list                       0\n",
       "menu_item                          0\n",
       "listed_in(type)                    0\n",
       "listed_in(city)                    0\n",
       "dtype: int64"
      ]
     },
     "execution_count": 41,
     "metadata": {},
     "output_type": "execute_result"
    }
   ],
   "source": [
    "# Checks how many missing (NaN) values exist in each column of the DataFrame df\n",
    "# This helps identify which columns need data cleaning or imputation before analysis\n",
    "df.isnull().sum()"
   ]
  },
  {
   "cell_type": "code",
   "execution_count": 42,
   "id": "f6b741d5",
   "metadata": {},
   "outputs": [
    {
     "data": {
      "text/plain": [
       "Index(['url', 'address', 'name', 'online_order', 'book_table', 'rate', 'votes',\n",
       "       'phone', 'location', 'rest_type', 'dish_liked', 'cuisines',\n",
       "       'approx_cost(for two people)', 'reviews_list', 'menu_item',\n",
       "       'listed_in(type)', 'listed_in(city)'],\n",
       "      dtype='object')"
      ]
     },
     "execution_count": 42,
     "metadata": {},
     "output_type": "execute_result"
    }
   ],
   "source": [
    "df.columns"
   ]
  },
  {
   "cell_type": "code",
   "execution_count": 43,
   "id": "ff12f9ca",
   "metadata": {},
   "outputs": [
    {
     "data": {
      "text/html": [
       "<div>\n",
       "<style scoped>\n",
       "    .dataframe tbody tr th:only-of-type {\n",
       "        vertical-align: middle;\n",
       "    }\n",
       "\n",
       "    .dataframe tbody tr th {\n",
       "        vertical-align: top;\n",
       "    }\n",
       "\n",
       "    .dataframe thead th {\n",
       "        text-align: right;\n",
       "    }\n",
       "</style>\n",
       "<table border=\"1\" class=\"dataframe\">\n",
       "  <thead>\n",
       "    <tr style=\"text-align: right;\">\n",
       "      <th></th>\n",
       "      <th>rate</th>\n",
       "      <th>reviews_list</th>\n",
       "    </tr>\n",
       "  </thead>\n",
       "  <tbody>\n",
       "    <tr>\n",
       "      <th>0</th>\n",
       "      <td>4.1</td>\n",
       "      <td>[('Rated 4.0', 'RATED\\n  A beautiful place to ...</td>\n",
       "    </tr>\n",
       "    <tr>\n",
       "      <th>1</th>\n",
       "      <td>4.1</td>\n",
       "      <td>[('Rated 4.0', 'RATED\\n  Had been here for din...</td>\n",
       "    </tr>\n",
       "    <tr>\n",
       "      <th>2</th>\n",
       "      <td>3.8</td>\n",
       "      <td>[('Rated 3.0', \"RATED\\n  Ambience is not that ...</td>\n",
       "    </tr>\n",
       "    <tr>\n",
       "      <th>3</th>\n",
       "      <td>3.7</td>\n",
       "      <td>[('Rated 4.0', \"RATED\\n  Great food and proper...</td>\n",
       "    </tr>\n",
       "    <tr>\n",
       "      <th>4</th>\n",
       "      <td>3.8</td>\n",
       "      <td>[('Rated 4.0', 'RATED\\n  Very good restaurant ...</td>\n",
       "    </tr>\n",
       "    <tr>\n",
       "      <th>...</th>\n",
       "      <td>...</td>\n",
       "      <td>...</td>\n",
       "    </tr>\n",
       "    <tr>\n",
       "      <th>51712</th>\n",
       "      <td>3.6</td>\n",
       "      <td>[('Rated 5.0', \"RATED\\n  Food and service are ...</td>\n",
       "    </tr>\n",
       "    <tr>\n",
       "      <th>51713</th>\n",
       "      <td>NaN</td>\n",
       "      <td>[]</td>\n",
       "    </tr>\n",
       "    <tr>\n",
       "      <th>51714</th>\n",
       "      <td>NaN</td>\n",
       "      <td>[]</td>\n",
       "    </tr>\n",
       "    <tr>\n",
       "      <th>51715</th>\n",
       "      <td>4.3</td>\n",
       "      <td>[('Rated 4.0', 'RATED\\n  Nice and friendly pla...</td>\n",
       "    </tr>\n",
       "    <tr>\n",
       "      <th>51716</th>\n",
       "      <td>3.4</td>\n",
       "      <td>[('Rated 5.0', 'RATED\\n  Great ambience , look...</td>\n",
       "    </tr>\n",
       "  </tbody>\n",
       "</table>\n",
       "<p>51717 rows × 2 columns</p>\n",
       "</div>"
      ],
      "text/plain": [
       "       rate                                       reviews_list\n",
       "0       4.1  [('Rated 4.0', 'RATED\\n  A beautiful place to ...\n",
       "1       4.1  [('Rated 4.0', 'RATED\\n  Had been here for din...\n",
       "2       3.8  [('Rated 3.0', \"RATED\\n  Ambience is not that ...\n",
       "3       3.7  [('Rated 4.0', \"RATED\\n  Great food and proper...\n",
       "4       3.8  [('Rated 4.0', 'RATED\\n  Very good restaurant ...\n",
       "...     ...                                                ...\n",
       "51712   3.6  [('Rated 5.0', \"RATED\\n  Food and service are ...\n",
       "51713   NaN                                                 []\n",
       "51714   NaN                                                 []\n",
       "51715   4.3  [('Rated 4.0', 'RATED\\n  Nice and friendly pla...\n",
       "51716   3.4  [('Rated 5.0', 'RATED\\n  Great ambience , look...\n",
       "\n",
       "[51717 rows x 2 columns]"
      ]
     },
     "execution_count": 43,
     "metadata": {},
     "output_type": "execute_result"
    }
   ],
   "source": [
    "df[['rate','reviews_list']]"
   ]
  },
  {
   "cell_type": "code",
   "execution_count": 44,
   "id": "3ea80845",
   "metadata": {},
   "outputs": [
    {
     "data": {
      "text/plain": [
       "0        False\n",
       "1        False\n",
       "2        False\n",
       "3        False\n",
       "4        False\n",
       "         ...  \n",
       "51712    False\n",
       "51713     True\n",
       "51714     True\n",
       "51715    False\n",
       "51716    False\n",
       "Name: rate, Length: 51717, dtype: bool"
      ]
     },
     "execution_count": 44,
     "metadata": {},
     "output_type": "execute_result"
    }
   ],
   "source": [
    "df['rate'].isnull()"
   ]
  },
  {
   "cell_type": "code",
   "execution_count": 45,
   "id": "4e5a8d70",
   "metadata": {},
   "outputs": [
    {
     "data": {
      "text/html": [
       "<div>\n",
       "<style scoped>\n",
       "    .dataframe tbody tr th:only-of-type {\n",
       "        vertical-align: middle;\n",
       "    }\n",
       "\n",
       "    .dataframe tbody tr th {\n",
       "        vertical-align: top;\n",
       "    }\n",
       "\n",
       "    .dataframe thead th {\n",
       "        text-align: right;\n",
       "    }\n",
       "</style>\n",
       "<table border=\"1\" class=\"dataframe\">\n",
       "  <thead>\n",
       "    <tr style=\"text-align: right;\">\n",
       "      <th></th>\n",
       "      <th>url</th>\n",
       "      <th>address</th>\n",
       "      <th>name</th>\n",
       "      <th>online_order</th>\n",
       "      <th>book_table</th>\n",
       "      <th>rate</th>\n",
       "      <th>votes</th>\n",
       "      <th>phone</th>\n",
       "      <th>location</th>\n",
       "      <th>rest_type</th>\n",
       "      <th>dish_liked</th>\n",
       "      <th>cuisines</th>\n",
       "      <th>approx_cost(for two people)</th>\n",
       "      <th>reviews_list</th>\n",
       "      <th>menu_item</th>\n",
       "      <th>listed_in(type)</th>\n",
       "      <th>listed_in(city)</th>\n",
       "    </tr>\n",
       "  </thead>\n",
       "  <tbody>\n",
       "    <tr>\n",
       "      <th>72</th>\n",
       "      <td>https://www.zomato.com/bangalore/spicy-tandoor...</td>\n",
       "      <td>Opposite ICICi Bank, Hanuman Nagar, Banashanka...</td>\n",
       "      <td>Spicy Tandoor</td>\n",
       "      <td>No</td>\n",
       "      <td>No</td>\n",
       "      <td>NaN</td>\n",
       "      <td>0</td>\n",
       "      <td>+91 8050884222</td>\n",
       "      <td>Banashankari</td>\n",
       "      <td>Quick Bites</td>\n",
       "      <td>None</td>\n",
       "      <td>North Indian</td>\n",
       "      <td>150.0</td>\n",
       "      <td>[('Rated 4.0', 'RATED\\n  cost for chicken roll...</td>\n",
       "      <td>[]</td>\n",
       "      <td>Delivery</td>\n",
       "      <td>Banashankari</td>\n",
       "    </tr>\n",
       "    <tr>\n",
       "      <th>75</th>\n",
       "      <td>https://www.zomato.com/bangalore/om-sri-vinaya...</td>\n",
       "      <td>39, S B M Colony, Near-Sita Circle, 1st Stage,...</td>\n",
       "      <td>Om Sri Vinayaka Chats</td>\n",
       "      <td>No</td>\n",
       "      <td>No</td>\n",
       "      <td>NaN</td>\n",
       "      <td>0</td>\n",
       "      <td>+91 8553206035</td>\n",
       "      <td>Banashankari</td>\n",
       "      <td>Takeaway, Delivery</td>\n",
       "      <td>None</td>\n",
       "      <td>Street Food, Fast Food</td>\n",
       "      <td>500.0</td>\n",
       "      <td>[]</td>\n",
       "      <td>[]</td>\n",
       "      <td>Delivery</td>\n",
       "      <td>Banashankari</td>\n",
       "    </tr>\n",
       "    <tr>\n",
       "      <th>84</th>\n",
       "      <td>https://www.zomato.com/bangalore/chill-out-ban...</td>\n",
       "      <td>161/C, 6th Main, 80 Feet Road, Bhuvaneshwari N...</td>\n",
       "      <td>Chill Out</td>\n",
       "      <td>No</td>\n",
       "      <td>No</td>\n",
       "      <td>NaN</td>\n",
       "      <td>0</td>\n",
       "      <td>+91 9341215167</td>\n",
       "      <td>Banashankari</td>\n",
       "      <td>Quick Bites</td>\n",
       "      <td>None</td>\n",
       "      <td>South Indian, Chinese</td>\n",
       "      <td>100.0</td>\n",
       "      <td>[('Rated 4.0', 'RATED\\n  Good Location. Small ...</td>\n",
       "      <td>[]</td>\n",
       "      <td>Delivery</td>\n",
       "      <td>Banashankari</td>\n",
       "    </tr>\n",
       "    <tr>\n",
       "      <th>90</th>\n",
       "      <td>https://www.zomato.com/bangalore/me-and-my-cak...</td>\n",
       "      <td>BDA Shopping Complex, 24th Cross Road, Siddann...</td>\n",
       "      <td>Me And My Cake</td>\n",
       "      <td>No</td>\n",
       "      <td>No</td>\n",
       "      <td>NaN</td>\n",
       "      <td>0</td>\n",
       "      <td>+91 9036070410</td>\n",
       "      <td>Banashankari</td>\n",
       "      <td>Delivery</td>\n",
       "      <td>None</td>\n",
       "      <td>Bakery, Desserts</td>\n",
       "      <td>500.0</td>\n",
       "      <td>[('Rated 1.0', 'RATED\\n  Do not order anything...</td>\n",
       "      <td>[]</td>\n",
       "      <td>Delivery</td>\n",
       "      <td>Banashankari</td>\n",
       "    </tr>\n",
       "    <tr>\n",
       "      <th>91</th>\n",
       "      <td>https://www.zomato.com/bangalore/sunsadm-banas...</td>\n",
       "      <td>Shop 18 , 3rd cross road,Markandeya Layout, Ba...</td>\n",
       "      <td>Sunsadm</td>\n",
       "      <td>No</td>\n",
       "      <td>No</td>\n",
       "      <td>NaN</td>\n",
       "      <td>0</td>\n",
       "      <td>+91 7829290358</td>\n",
       "      <td>Banashankari</td>\n",
       "      <td>Takeaway, Delivery</td>\n",
       "      <td>None</td>\n",
       "      <td>South Indian</td>\n",
       "      <td>400.0</td>\n",
       "      <td>[]</td>\n",
       "      <td>[]</td>\n",
       "      <td>Delivery</td>\n",
       "      <td>Banashankari</td>\n",
       "    </tr>\n",
       "    <tr>\n",
       "      <th>...</th>\n",
       "      <td>...</td>\n",
       "      <td>...</td>\n",
       "      <td>...</td>\n",
       "      <td>...</td>\n",
       "      <td>...</td>\n",
       "      <td>...</td>\n",
       "      <td>...</td>\n",
       "      <td>...</td>\n",
       "      <td>...</td>\n",
       "      <td>...</td>\n",
       "      <td>...</td>\n",
       "      <td>...</td>\n",
       "      <td>...</td>\n",
       "      <td>...</td>\n",
       "      <td>...</td>\n",
       "      <td>...</td>\n",
       "      <td>...</td>\n",
       "    </tr>\n",
       "    <tr>\n",
       "      <th>51644</th>\n",
       "      <td>https://www.zomato.com/bangalore/punjabi-thadk...</td>\n",
       "      <td>7/3, ASK Tower, Kundanahalli Gate, Next to Bat...</td>\n",
       "      <td>Punjabi Thadka</td>\n",
       "      <td>No</td>\n",
       "      <td>No</td>\n",
       "      <td>NaN</td>\n",
       "      <td>0</td>\n",
       "      <td>+91 7338330336\\n+91 9591568221</td>\n",
       "      <td>Brookefield</td>\n",
       "      <td>Quick Bites</td>\n",
       "      <td>None</td>\n",
       "      <td>North Indian</td>\n",
       "      <td>400.0</td>\n",
       "      <td>[]</td>\n",
       "      <td>[]</td>\n",
       "      <td>Dine-out</td>\n",
       "      <td>Whitefield</td>\n",
       "    </tr>\n",
       "    <tr>\n",
       "      <th>51675</th>\n",
       "      <td>https://www.zomato.com/bangalore/topsy-turvey-...</td>\n",
       "      <td>2E2, 4th Cross Road, Devasandra Industrial Est...</td>\n",
       "      <td>Topsy Turvey</td>\n",
       "      <td>No</td>\n",
       "      <td>No</td>\n",
       "      <td>NaN</td>\n",
       "      <td>0</td>\n",
       "      <td>+91 9148155994</td>\n",
       "      <td>Whitefield</td>\n",
       "      <td>Bar</td>\n",
       "      <td>None</td>\n",
       "      <td>Finger Food</td>\n",
       "      <td>900.0</td>\n",
       "      <td>[('Rated 4.0', \"RATED\\n  A divine joint for Fl...</td>\n",
       "      <td>[]</td>\n",
       "      <td>Drinks &amp; nightlife</td>\n",
       "      <td>Whitefield</td>\n",
       "    </tr>\n",
       "    <tr>\n",
       "      <th>51710</th>\n",
       "      <td>https://www.zomato.com/bangalore/topsy-turvey-...</td>\n",
       "      <td>2E2, 4th Cross Road, Devasandra Industrial Est...</td>\n",
       "      <td>Topsy Turvey</td>\n",
       "      <td>No</td>\n",
       "      <td>No</td>\n",
       "      <td>NaN</td>\n",
       "      <td>0</td>\n",
       "      <td>+91 9148155994</td>\n",
       "      <td>Whitefield</td>\n",
       "      <td>Bar</td>\n",
       "      <td>None</td>\n",
       "      <td>Finger Food</td>\n",
       "      <td>900.0</td>\n",
       "      <td>[('Rated 4.0', \"RATED\\n  A divine joint for Fl...</td>\n",
       "      <td>[]</td>\n",
       "      <td>Pubs and bars</td>\n",
       "      <td>Whitefield</td>\n",
       "    </tr>\n",
       "    <tr>\n",
       "      <th>51713</th>\n",
       "      <td>https://www.zomato.com/bangalore/vinod-bar-and...</td>\n",
       "      <td>Number 10, Garudachar Palya, Mahadevapura, Whi...</td>\n",
       "      <td>Vinod Bar And Restaurant</td>\n",
       "      <td>No</td>\n",
       "      <td>No</td>\n",
       "      <td>NaN</td>\n",
       "      <td>0</td>\n",
       "      <td>+91 8197675843</td>\n",
       "      <td>Whitefield</td>\n",
       "      <td>Bar</td>\n",
       "      <td>None</td>\n",
       "      <td>Finger Food</td>\n",
       "      <td>600.0</td>\n",
       "      <td>[]</td>\n",
       "      <td>[]</td>\n",
       "      <td>Pubs and bars</td>\n",
       "      <td>Whitefield</td>\n",
       "    </tr>\n",
       "    <tr>\n",
       "      <th>51714</th>\n",
       "      <td>https://www.zomato.com/bangalore/plunge-sherat...</td>\n",
       "      <td>Sheraton Grand Bengaluru Whitefield Hotel &amp; Co...</td>\n",
       "      <td>Plunge - Sheraton Grand Bengaluru Whitefield H...</td>\n",
       "      <td>No</td>\n",
       "      <td>No</td>\n",
       "      <td>NaN</td>\n",
       "      <td>0</td>\n",
       "      <td>None</td>\n",
       "      <td>Whitefield</td>\n",
       "      <td>Bar</td>\n",
       "      <td>None</td>\n",
       "      <td>Finger Food</td>\n",
       "      <td>2000.0</td>\n",
       "      <td>[]</td>\n",
       "      <td>[]</td>\n",
       "      <td>Pubs and bars</td>\n",
       "      <td>Whitefield</td>\n",
       "    </tr>\n",
       "  </tbody>\n",
       "</table>\n",
       "<p>10052 rows × 17 columns</p>\n",
       "</div>"
      ],
      "text/plain": [
       "                                                     url  \\\n",
       "72     https://www.zomato.com/bangalore/spicy-tandoor...   \n",
       "75     https://www.zomato.com/bangalore/om-sri-vinaya...   \n",
       "84     https://www.zomato.com/bangalore/chill-out-ban...   \n",
       "90     https://www.zomato.com/bangalore/me-and-my-cak...   \n",
       "91     https://www.zomato.com/bangalore/sunsadm-banas...   \n",
       "...                                                  ...   \n",
       "51644  https://www.zomato.com/bangalore/punjabi-thadk...   \n",
       "51675  https://www.zomato.com/bangalore/topsy-turvey-...   \n",
       "51710  https://www.zomato.com/bangalore/topsy-turvey-...   \n",
       "51713  https://www.zomato.com/bangalore/vinod-bar-and...   \n",
       "51714  https://www.zomato.com/bangalore/plunge-sherat...   \n",
       "\n",
       "                                                 address  \\\n",
       "72     Opposite ICICi Bank, Hanuman Nagar, Banashanka...   \n",
       "75     39, S B M Colony, Near-Sita Circle, 1st Stage,...   \n",
       "84     161/C, 6th Main, 80 Feet Road, Bhuvaneshwari N...   \n",
       "90     BDA Shopping Complex, 24th Cross Road, Siddann...   \n",
       "91     Shop 18 , 3rd cross road,Markandeya Layout, Ba...   \n",
       "...                                                  ...   \n",
       "51644  7/3, ASK Tower, Kundanahalli Gate, Next to Bat...   \n",
       "51675  2E2, 4th Cross Road, Devasandra Industrial Est...   \n",
       "51710  2E2, 4th Cross Road, Devasandra Industrial Est...   \n",
       "51713  Number 10, Garudachar Palya, Mahadevapura, Whi...   \n",
       "51714  Sheraton Grand Bengaluru Whitefield Hotel & Co...   \n",
       "\n",
       "                                                    name online_order  \\\n",
       "72                                         Spicy Tandoor           No   \n",
       "75                                 Om Sri Vinayaka Chats           No   \n",
       "84                                             Chill Out           No   \n",
       "90                                        Me And My Cake           No   \n",
       "91                                               Sunsadm           No   \n",
       "...                                                  ...          ...   \n",
       "51644                                     Punjabi Thadka           No   \n",
       "51675                                       Topsy Turvey           No   \n",
       "51710                                       Topsy Turvey           No   \n",
       "51713                           Vinod Bar And Restaurant           No   \n",
       "51714  Plunge - Sheraton Grand Bengaluru Whitefield H...           No   \n",
       "\n",
       "      book_table  rate  votes                           phone      location  \\\n",
       "72            No   NaN      0                  +91 8050884222  Banashankari   \n",
       "75            No   NaN      0                  +91 8553206035  Banashankari   \n",
       "84            No   NaN      0                  +91 9341215167  Banashankari   \n",
       "90            No   NaN      0                  +91 9036070410  Banashankari   \n",
       "91            No   NaN      0                  +91 7829290358  Banashankari   \n",
       "...          ...   ...    ...                             ...           ...   \n",
       "51644         No   NaN      0  +91 7338330336\\n+91 9591568221   Brookefield   \n",
       "51675         No   NaN      0                  +91 9148155994    Whitefield   \n",
       "51710         No   NaN      0                  +91 9148155994    Whitefield   \n",
       "51713         No   NaN      0                  +91 8197675843    Whitefield   \n",
       "51714         No   NaN      0                            None    Whitefield   \n",
       "\n",
       "                rest_type dish_liked                cuisines  \\\n",
       "72            Quick Bites       None            North Indian   \n",
       "75     Takeaway, Delivery       None  Street Food, Fast Food   \n",
       "84            Quick Bites       None   South Indian, Chinese   \n",
       "90               Delivery       None        Bakery, Desserts   \n",
       "91     Takeaway, Delivery       None            South Indian   \n",
       "...                   ...        ...                     ...   \n",
       "51644         Quick Bites       None            North Indian   \n",
       "51675                 Bar       None             Finger Food   \n",
       "51710                 Bar       None             Finger Food   \n",
       "51713                 Bar       None             Finger Food   \n",
       "51714                 Bar       None             Finger Food   \n",
       "\n",
       "       approx_cost(for two people)  \\\n",
       "72                           150.0   \n",
       "75                           500.0   \n",
       "84                           100.0   \n",
       "90                           500.0   \n",
       "91                           400.0   \n",
       "...                            ...   \n",
       "51644                        400.0   \n",
       "51675                        900.0   \n",
       "51710                        900.0   \n",
       "51713                        600.0   \n",
       "51714                       2000.0   \n",
       "\n",
       "                                            reviews_list menu_item  \\\n",
       "72     [('Rated 4.0', 'RATED\\n  cost for chicken roll...        []   \n",
       "75                                                    []        []   \n",
       "84     [('Rated 4.0', 'RATED\\n  Good Location. Small ...        []   \n",
       "90     [('Rated 1.0', 'RATED\\n  Do not order anything...        []   \n",
       "91                                                    []        []   \n",
       "...                                                  ...       ...   \n",
       "51644                                                 []        []   \n",
       "51675  [('Rated 4.0', \"RATED\\n  A divine joint for Fl...        []   \n",
       "51710  [('Rated 4.0', \"RATED\\n  A divine joint for Fl...        []   \n",
       "51713                                                 []        []   \n",
       "51714                                                 []        []   \n",
       "\n",
       "          listed_in(type) listed_in(city)  \n",
       "72               Delivery    Banashankari  \n",
       "75               Delivery    Banashankari  \n",
       "84               Delivery    Banashankari  \n",
       "90               Delivery    Banashankari  \n",
       "91               Delivery    Banashankari  \n",
       "...                   ...             ...  \n",
       "51644            Dine-out      Whitefield  \n",
       "51675  Drinks & nightlife      Whitefield  \n",
       "51710       Pubs and bars      Whitefield  \n",
       "51713       Pubs and bars      Whitefield  \n",
       "51714       Pubs and bars      Whitefield  \n",
       "\n",
       "[10052 rows x 17 columns]"
      ]
     },
     "execution_count": 45,
     "metadata": {},
     "output_type": "execute_result"
    }
   ],
   "source": [
    "df[df['rate'].isnull()]"
   ]
  },
  {
   "cell_type": "code",
   "execution_count": 46,
   "id": "7622d32d",
   "metadata": {},
   "outputs": [
    {
     "data": {
      "text/plain": [
       "Index([   72,    75,    84,    90,    91,    92,   107,   110,   113,   114,\n",
       "       ...\n",
       "       51636, 51638, 51639, 51642, 51643, 51644, 51675, 51710, 51713, 51714],\n",
       "      dtype='int64', length=10052)"
      ]
     },
     "execution_count": 46,
     "metadata": {},
     "output_type": "execute_result"
    }
   ],
   "source": [
    "df[df['rate'].isnull()].index"
   ]
  },
  {
   "cell_type": "code",
   "execution_count": 47,
   "id": "725e466d",
   "metadata": {},
   "outputs": [
    {
     "data": {
      "text/plain": [
       "np.float64(nan)"
      ]
     },
     "execution_count": 47,
     "metadata": {},
     "output_type": "execute_result"
    }
   ],
   "source": [
    "df['rate'][72]"
   ]
  },
  {
   "cell_type": "code",
   "execution_count": 48,
   "id": "3afb1e30",
   "metadata": {},
   "outputs": [
    {
     "data": {
      "text/plain": [
       "\"[('Rated 4.0', 'RATED\\\\n  cost for chicken rolls is very high but fine taste by pandey and is crew. pls deduct the cost of rolls and great variety of food is been served'), ('Rated 5.0', 'RATED\\\\n  Awesome taste, feel rich taste of food, cleanness is very good, very friendly nature by the hotel person, totally awesome, all the best gud luck')]\""
      ]
     },
     "execution_count": 48,
     "metadata": {},
     "output_type": "execute_result"
    }
   ],
   "source": [
    "df['reviews_list'][72]"
   ]
  },
  {
   "cell_type": "markdown",
   "id": "4ee3ffe2",
   "metadata": {},
   "source": [
    "were gonna fill the missing 'rate' values with the reviews rating described"
   ]
  },
  {
   "cell_type": "code",
   "execution_count": 49,
   "id": "0faf58a7",
   "metadata": {},
   "outputs": [
    {
     "data": {
      "text/plain": [
       "str"
      ]
     },
     "execution_count": 49,
     "metadata": {},
     "output_type": "execute_result"
    }
   ],
   "source": [
    "type(df['reviews_list'][72])"
   ]
  },
  {
   "cell_type": "code",
   "execution_count": 50,
   "id": "b55a583f",
   "metadata": {},
   "outputs": [],
   "source": [
    "# Imports Python’s built-in 'ast' (Abstract Syntax Trees) module\n",
    "# Commonly used to safely parse strings that look like Python literals (e.g., lists/dicts) into real Python objects without executing code\n",
    "import ast"
   ]
  },
  {
   "cell_type": "code",
   "execution_count": 51,
   "id": "937b1f85",
   "metadata": {},
   "outputs": [
    {
     "data": {
      "text/plain": [
       "[('Rated 4.0',\n",
       "  'RATED\\n  cost for chicken rolls is very high but fine taste by pandey and is crew. pls deduct the cost of rolls and great variety of food is been served'),\n",
       " ('Rated 5.0',\n",
       "  'RATED\\n  Awesome taste, feel rich taste of food, cleanness is very good, very friendly nature by the hotel person, totally awesome, all the best gud luck')]"
      ]
     },
     "execution_count": 51,
     "metadata": {},
     "output_type": "execute_result"
    }
   ],
   "source": [
    "# Safely evaluates the string in df['reviews_list'][72] and converts it into a real Python object (like a list or tuple)\n",
    "# Useful when a column contains data stored as string representations of lists or dictionaries\n",
    "ast.literal_eval(df['reviews_list'][72])"
   ]
  },
  {
   "cell_type": "markdown",
   "id": "f31273fa",
   "metadata": {},
   "source": [
    "##### What did we actually do here?\n",
    "\n",
    "take the string stored in row 72 of the reviews_list column,\n",
    "\n",
    "and safely convert it from a string that looks like a list into an actual Python list object."
   ]
  },
  {
   "cell_type": "code",
   "execution_count": 52,
   "id": "3ee128cf",
   "metadata": {},
   "outputs": [
    {
     "data": {
      "text/plain": [
       "('Rated 4.0',\n",
       " 'RATED\\n  cost for chicken rolls is very high but fine taste by pandey and is crew. pls deduct the cost of rolls and great variety of food is been served')"
      ]
     },
     "execution_count": 52,
     "metadata": {},
     "output_type": "execute_result"
    }
   ],
   "source": [
    "# Extracts the first element from the list returned by ast.literal_eval(df['reviews_list'][72])\n",
    "# This gives access to the first review entry of the restaurant at index 72\n",
    "first_input = ast.literal_eval(df['reviews_list'][72])[0]\n",
    "first_input"
   ]
  },
  {
   "cell_type": "code",
   "execution_count": 53,
   "id": "ae05fc7a",
   "metadata": {},
   "outputs": [
    {
     "data": {
      "text/plain": [
       "[' 4.0',\n",
       " 'RATED\\n  cost for chicken rolls is very high but fine taste by pandey and is crew. pls deduct the cost of rolls and great variety of food is been served']"
      ]
     },
     "execution_count": 53,
     "metadata": {},
     "output_type": "execute_result"
    }
   ],
   "source": [
    "# Creates a new list by removing the word 'Rated' from each string in first_input\n",
    "# This cleans the review text to make it easier to analyze or extract the actual rating values\n",
    "[i.replace('Rated' , '') for i in first_input]"
   ]
  },
  {
   "cell_type": "code",
   "execution_count": 54,
   "id": "f8242efe",
   "metadata": {},
   "outputs": [
    {
     "data": {
      "text/plain": [
       "['4.0',\n",
       " 'RATED\\n  cost for chicken rolls is very high but fine taste by pandey and is crew. pls deduct the cost of rolls and great variety of food is been served']"
      ]
     },
     "execution_count": 54,
     "metadata": {},
     "output_type": "execute_result"
    }
   ],
   "source": [
    "# Similar to the previous line but also applies .strip() to remove extra spaces before or after the text\n",
    "# The result is a cleaner list of reviews with 'Rated' removed and whitespace trimmed\n",
    "[i.replace('Rated' , '').strip() for i in first_input]"
   ]
  },
  {
   "cell_type": "code",
   "execution_count": 55,
   "id": "070b95d6",
   "metadata": {},
   "outputs": [
    {
     "data": {
      "text/plain": [
       "'4.0'"
      ]
     },
     "execution_count": 55,
     "metadata": {},
     "output_type": "execute_result"
    }
   ],
   "source": [
    "# Takes the first cleaned review string from the list after removing 'Rated' and extra spaces\n",
    "# Useful for quickly checking the result of the cleaning process on a single review entry\n",
    "[i.replace('Rated' , '').strip() for i in first_input][0]"
   ]
  },
  {
   "cell_type": "code",
   "execution_count": 56,
   "id": "09322d90",
   "metadata": {},
   "outputs": [
    {
     "data": {
      "text/plain": [
       "4.0"
      ]
     },
     "execution_count": 56,
     "metadata": {},
     "output_type": "execute_result"
    }
   ],
   "source": [
    "# Converts the first cleaned review string (e.g., '4.0') into a floating-point number\n",
    "# This allows numerical operations or statistical analysis on the extracted rating value\n",
    "float([i.replace('Rated' , '').strip() for i in first_input][0])"
   ]
  },
  {
   "cell_type": "code",
   "execution_count": 57,
   "id": "cf46d12b",
   "metadata": {},
   "outputs": [],
   "source": [
    "# Defines a function get_Rate that extracts the numeric rating from a restaurant's reviews list\n",
    "# 1. Converts the string x into a Python list using ast.literal_eval\n",
    "# 2. Checks if the list is empty or too short — if so, returns None\n",
    "# 3. Otherwise, takes the first review, cleans the text by removing 'Rated' and extra spaces\n",
    "# 4. Converts the cleaned rating to a float and returns it\n",
    "def get_Rate(x):\n",
    "    list_of_reviews = ast.literal_eval(x)\n",
    "\n",
    "    if list_of_reviews is None or len(list_of_reviews)<=1:\n",
    "        return None \n",
    "    else:\n",
    "        first_input = list_of_reviews[0]\n",
    "        rate = float([i.replace('Rated' , '').strip() for i in first_input][0])\n",
    "        return rate"
   ]
  },
  {
   "cell_type": "code",
   "execution_count": 58,
   "id": "c89bb178",
   "metadata": {},
   "outputs": [
    {
     "data": {
      "text/plain": [
       "0        4.0\n",
       "1        4.0\n",
       "2        3.0\n",
       "3        4.0\n",
       "4        4.0\n",
       "        ... \n",
       "51712    5.0\n",
       "51713    NaN\n",
       "51714    NaN\n",
       "51715    4.0\n",
       "51716    5.0\n",
       "Name: reviews_list, Length: 51717, dtype: float64"
      ]
     },
     "execution_count": 58,
     "metadata": {},
     "output_type": "execute_result"
    }
   ],
   "source": [
    "# Applies the get_Rate function to each value in the 'reviews_list' column\n",
    "# This extracts a numeric rating from each restaurant’s reviews, returning a Series of float values or None where unavailable\n",
    "df['reviews_list'].apply(get_Rate)"
   ]
  },
  {
   "cell_type": "code",
   "execution_count": 59,
   "id": "6c9593e7",
   "metadata": {},
   "outputs": [
    {
     "data": {
      "text/plain": [
       "0        [('Rated 4.0', 'RATED\\n  A beautiful place to ...\n",
       "1        [('Rated 4.0', 'RATED\\n  Had been here for din...\n",
       "2        [('Rated 3.0', \"RATED\\n  Ambience is not that ...\n",
       "3        [('Rated 4.0', \"RATED\\n  Great food and proper...\n",
       "4        [('Rated 4.0', 'RATED\\n  Very good restaurant ...\n",
       "                               ...                        \n",
       "51712    [('Rated 5.0', \"RATED\\n  Food and service are ...\n",
       "51713                                                   []\n",
       "51714                                                   []\n",
       "51715    [('Rated 4.0', 'RATED\\n  Nice and friendly pla...\n",
       "51716    [('Rated 5.0', 'RATED\\n  Great ambience , look...\n",
       "Name: reviews_list, Length: 51717, dtype: object"
      ]
     },
     "execution_count": 59,
     "metadata": {},
     "output_type": "execute_result"
    }
   ],
   "source": [
    "df['reviews_list']"
   ]
  },
  {
   "cell_type": "code",
   "execution_count": 60,
   "id": "f53975d6",
   "metadata": {},
   "outputs": [],
   "source": [
    "# Creates a new column 'rate_from_reviews_list' that stores the extracted numeric ratings from each restaurant's reviews\n",
    "# This allows easy comparison between the official 'rate' column and ratings derived from actual user reviews\n",
    "df['rate_from_reviews_list'] = df['reviews_list'].apply(get_Rate)"
   ]
  },
  {
   "cell_type": "code",
   "execution_count": 61,
   "id": "59fe35eb",
   "metadata": {},
   "outputs": [
    {
     "data": {
      "text/plain": [
       "4.0"
      ]
     },
     "execution_count": 61,
     "metadata": {},
     "output_type": "execute_result"
    }
   ],
   "source": [
    "# Converts the value in row 72 of the 'rate_from_reviews_list' column into a floating-point number\n",
    "# Useful for verifying that the extracted rating at that specific index is numeric and valid\n",
    "float(df['rate_from_reviews_list'][72])"
   ]
  },
  {
   "cell_type": "code",
   "execution_count": 62,
   "id": "66ad3bbf",
   "metadata": {},
   "outputs": [
    {
     "data": {
      "text/plain": [
       "nan"
      ]
     },
     "execution_count": 62,
     "metadata": {},
     "output_type": "execute_result"
    }
   ],
   "source": [
    "# Retrieves the scalar (plain Python float) value from the element at index 72 in the 'rate' column\n",
    "# .item() converts a single NumPy or pandas value into a standard Python number type\n",
    "df['rate'][72].item()"
   ]
  },
  {
   "cell_type": "code",
   "execution_count": 63,
   "id": "1df2d41b",
   "metadata": {},
   "outputs": [
    {
     "name": "stderr",
     "output_type": "stream",
     "text": [
      "/tmp/ipykernel_2341219/1563681137.py:3: FutureWarning: ChainedAssignmentError: behaviour will change in pandas 3.0!\n",
      "You are setting values through chained assignment. Currently this works in certain cases, but when using Copy-on-Write (which will become the default behaviour in pandas 3.0) this will never work to update the original DataFrame or Series, because the intermediate object on which we are setting values will behave as a copy.\n",
      "A typical example is when you are setting values in a column of a DataFrame, like:\n",
      "\n",
      "df[\"col\"][row_indexer] = value\n",
      "\n",
      "Use `df.loc[row_indexer, \"col\"] = values` instead, to perform the assignment in a single step and ensure this keeps updating the original `df`.\n",
      "\n",
      "See the caveats in the documentation: https://pandas.pydata.org/pandas-docs/stable/user_guide/indexing.html#returning-a-view-versus-a-copy\n",
      "\n",
      "  df['rate'][72] = float(df['rate_from_reviews_list'][72])\n",
      "/tmp/ipykernel_2341219/1563681137.py:3: SettingWithCopyWarning: \n",
      "A value is trying to be set on a copy of a slice from a DataFrame\n",
      "\n",
      "See the caveats in the documentation: https://pandas.pydata.org/pandas-docs/stable/user_guide/indexing.html#returning-a-view-versus-a-copy\n",
      "  df['rate'][72] = float(df['rate_from_reviews_list'][72])\n"
     ]
    }
   ],
   "source": [
    "# Replaces the value in the 'rate' column at row 72 with the numeric rating from 'rate_from_reviews_list'\n",
    "# This updates a missing or incorrect rating using the extracted value from the reviews list\n",
    "df['rate'][72] = float(df['rate_from_reviews_list'][72])"
   ]
  },
  {
   "cell_type": "code",
   "execution_count": 64,
   "id": "2df8b44f",
   "metadata": {},
   "outputs": [],
   "source": [
    "# Imports the warnings module and disables warning messages in the output\n",
    "# This keeps the notebook cleaner by hiding non-critical warnings that don’t affect code execution\n",
    "import warnings\n",
    "from warnings import filterwarnings\n",
    "filterwarnings('ignore')"
   ]
  },
  {
   "cell_type": "code",
   "execution_count": 65,
   "id": "3b1f80c1",
   "metadata": {},
   "outputs": [
    {
     "data": {
      "text/plain": [
       "4.0"
      ]
     },
     "execution_count": 65,
     "metadata": {},
     "output_type": "execute_result"
    }
   ],
   "source": [
    "df['rate'][72].item()"
   ]
  },
  {
   "cell_type": "code",
   "execution_count": 66,
   "id": "6a8763b2",
   "metadata": {},
   "outputs": [
    {
     "data": {
      "text/plain": [
       "0        False\n",
       "1        False\n",
       "2        False\n",
       "3        False\n",
       "4        False\n",
       "         ...  \n",
       "51712    False\n",
       "51713     True\n",
       "51714     True\n",
       "51715    False\n",
       "51716    False\n",
       "Name: rate, Length: 51717, dtype: bool"
      ]
     },
     "execution_count": 66,
     "metadata": {},
     "output_type": "execute_result"
    }
   ],
   "source": [
    "df['rate'].isnull()"
   ]
  },
  {
   "cell_type": "code",
   "execution_count": 67,
   "id": "5ecc138d",
   "metadata": {},
   "outputs": [
    {
     "data": {
      "text/html": [
       "<div>\n",
       "<style scoped>\n",
       "    .dataframe tbody tr th:only-of-type {\n",
       "        vertical-align: middle;\n",
       "    }\n",
       "\n",
       "    .dataframe tbody tr th {\n",
       "        vertical-align: top;\n",
       "    }\n",
       "\n",
       "    .dataframe thead th {\n",
       "        text-align: right;\n",
       "    }\n",
       "</style>\n",
       "<table border=\"1\" class=\"dataframe\">\n",
       "  <thead>\n",
       "    <tr style=\"text-align: right;\">\n",
       "      <th></th>\n",
       "      <th>url</th>\n",
       "      <th>address</th>\n",
       "      <th>name</th>\n",
       "      <th>online_order</th>\n",
       "      <th>book_table</th>\n",
       "      <th>rate</th>\n",
       "      <th>votes</th>\n",
       "      <th>phone</th>\n",
       "      <th>location</th>\n",
       "      <th>rest_type</th>\n",
       "      <th>dish_liked</th>\n",
       "      <th>cuisines</th>\n",
       "      <th>approx_cost(for two people)</th>\n",
       "      <th>reviews_list</th>\n",
       "      <th>menu_item</th>\n",
       "      <th>listed_in(type)</th>\n",
       "      <th>listed_in(city)</th>\n",
       "      <th>rate_from_reviews_list</th>\n",
       "    </tr>\n",
       "  </thead>\n",
       "  <tbody>\n",
       "    <tr>\n",
       "      <th>75</th>\n",
       "      <td>https://www.zomato.com/bangalore/om-sri-vinaya...</td>\n",
       "      <td>39, S B M Colony, Near-Sita Circle, 1st Stage,...</td>\n",
       "      <td>Om Sri Vinayaka Chats</td>\n",
       "      <td>No</td>\n",
       "      <td>No</td>\n",
       "      <td>NaN</td>\n",
       "      <td>0</td>\n",
       "      <td>+91 8553206035</td>\n",
       "      <td>Banashankari</td>\n",
       "      <td>Takeaway, Delivery</td>\n",
       "      <td>None</td>\n",
       "      <td>Street Food, Fast Food</td>\n",
       "      <td>500.0</td>\n",
       "      <td>[]</td>\n",
       "      <td>[]</td>\n",
       "      <td>Delivery</td>\n",
       "      <td>Banashankari</td>\n",
       "      <td>NaN</td>\n",
       "    </tr>\n",
       "    <tr>\n",
       "      <th>84</th>\n",
       "      <td>https://www.zomato.com/bangalore/chill-out-ban...</td>\n",
       "      <td>161/C, 6th Main, 80 Feet Road, Bhuvaneshwari N...</td>\n",
       "      <td>Chill Out</td>\n",
       "      <td>No</td>\n",
       "      <td>No</td>\n",
       "      <td>NaN</td>\n",
       "      <td>0</td>\n",
       "      <td>+91 9341215167</td>\n",
       "      <td>Banashankari</td>\n",
       "      <td>Quick Bites</td>\n",
       "      <td>None</td>\n",
       "      <td>South Indian, Chinese</td>\n",
       "      <td>100.0</td>\n",
       "      <td>[('Rated 4.0', 'RATED\\n  Good Location. Small ...</td>\n",
       "      <td>[]</td>\n",
       "      <td>Delivery</td>\n",
       "      <td>Banashankari</td>\n",
       "      <td>NaN</td>\n",
       "    </tr>\n",
       "    <tr>\n",
       "      <th>90</th>\n",
       "      <td>https://www.zomato.com/bangalore/me-and-my-cak...</td>\n",
       "      <td>BDA Shopping Complex, 24th Cross Road, Siddann...</td>\n",
       "      <td>Me And My Cake</td>\n",
       "      <td>No</td>\n",
       "      <td>No</td>\n",
       "      <td>NaN</td>\n",
       "      <td>0</td>\n",
       "      <td>+91 9036070410</td>\n",
       "      <td>Banashankari</td>\n",
       "      <td>Delivery</td>\n",
       "      <td>None</td>\n",
       "      <td>Bakery, Desserts</td>\n",
       "      <td>500.0</td>\n",
       "      <td>[('Rated 1.0', 'RATED\\n  Do not order anything...</td>\n",
       "      <td>[]</td>\n",
       "      <td>Delivery</td>\n",
       "      <td>Banashankari</td>\n",
       "      <td>1.0</td>\n",
       "    </tr>\n",
       "    <tr>\n",
       "      <th>91</th>\n",
       "      <td>https://www.zomato.com/bangalore/sunsadm-banas...</td>\n",
       "      <td>Shop 18 , 3rd cross road,Markandeya Layout, Ba...</td>\n",
       "      <td>Sunsadm</td>\n",
       "      <td>No</td>\n",
       "      <td>No</td>\n",
       "      <td>NaN</td>\n",
       "      <td>0</td>\n",
       "      <td>+91 7829290358</td>\n",
       "      <td>Banashankari</td>\n",
       "      <td>Takeaway, Delivery</td>\n",
       "      <td>None</td>\n",
       "      <td>South Indian</td>\n",
       "      <td>400.0</td>\n",
       "      <td>[]</td>\n",
       "      <td>[]</td>\n",
       "      <td>Delivery</td>\n",
       "      <td>Banashankari</td>\n",
       "      <td>NaN</td>\n",
       "    </tr>\n",
       "    <tr>\n",
       "      <th>92</th>\n",
       "      <td>https://www.zomato.com/bangalore/annapooranesh...</td>\n",
       "      <td>625, 5th Cross Road, Hanumanthnagar, Banashank...</td>\n",
       "      <td>Annapooraneshwari Mess</td>\n",
       "      <td>No</td>\n",
       "      <td>No</td>\n",
       "      <td>NaN</td>\n",
       "      <td>0</td>\n",
       "      <td>+91 9742009518</td>\n",
       "      <td>Banashankari</td>\n",
       "      <td>Mess</td>\n",
       "      <td>None</td>\n",
       "      <td>South Indian</td>\n",
       "      <td>200.0</td>\n",
       "      <td>[]</td>\n",
       "      <td>[]</td>\n",
       "      <td>Delivery</td>\n",
       "      <td>Banashankari</td>\n",
       "      <td>NaN</td>\n",
       "    </tr>\n",
       "    <tr>\n",
       "      <th>...</th>\n",
       "      <td>...</td>\n",
       "      <td>...</td>\n",
       "      <td>...</td>\n",
       "      <td>...</td>\n",
       "      <td>...</td>\n",
       "      <td>...</td>\n",
       "      <td>...</td>\n",
       "      <td>...</td>\n",
       "      <td>...</td>\n",
       "      <td>...</td>\n",
       "      <td>...</td>\n",
       "      <td>...</td>\n",
       "      <td>...</td>\n",
       "      <td>...</td>\n",
       "      <td>...</td>\n",
       "      <td>...</td>\n",
       "      <td>...</td>\n",
       "      <td>...</td>\n",
       "    </tr>\n",
       "    <tr>\n",
       "      <th>51644</th>\n",
       "      <td>https://www.zomato.com/bangalore/punjabi-thadk...</td>\n",
       "      <td>7/3, ASK Tower, Kundanahalli Gate, Next to Bat...</td>\n",
       "      <td>Punjabi Thadka</td>\n",
       "      <td>No</td>\n",
       "      <td>No</td>\n",
       "      <td>NaN</td>\n",
       "      <td>0</td>\n",
       "      <td>+91 7338330336\\n+91 9591568221</td>\n",
       "      <td>Brookefield</td>\n",
       "      <td>Quick Bites</td>\n",
       "      <td>None</td>\n",
       "      <td>North Indian</td>\n",
       "      <td>400.0</td>\n",
       "      <td>[]</td>\n",
       "      <td>[]</td>\n",
       "      <td>Dine-out</td>\n",
       "      <td>Whitefield</td>\n",
       "      <td>NaN</td>\n",
       "    </tr>\n",
       "    <tr>\n",
       "      <th>51675</th>\n",
       "      <td>https://www.zomato.com/bangalore/topsy-turvey-...</td>\n",
       "      <td>2E2, 4th Cross Road, Devasandra Industrial Est...</td>\n",
       "      <td>Topsy Turvey</td>\n",
       "      <td>No</td>\n",
       "      <td>No</td>\n",
       "      <td>NaN</td>\n",
       "      <td>0</td>\n",
       "      <td>+91 9148155994</td>\n",
       "      <td>Whitefield</td>\n",
       "      <td>Bar</td>\n",
       "      <td>None</td>\n",
       "      <td>Finger Food</td>\n",
       "      <td>900.0</td>\n",
       "      <td>[('Rated 4.0', \"RATED\\n  A divine joint for Fl...</td>\n",
       "      <td>[]</td>\n",
       "      <td>Drinks &amp; nightlife</td>\n",
       "      <td>Whitefield</td>\n",
       "      <td>NaN</td>\n",
       "    </tr>\n",
       "    <tr>\n",
       "      <th>51710</th>\n",
       "      <td>https://www.zomato.com/bangalore/topsy-turvey-...</td>\n",
       "      <td>2E2, 4th Cross Road, Devasandra Industrial Est...</td>\n",
       "      <td>Topsy Turvey</td>\n",
       "      <td>No</td>\n",
       "      <td>No</td>\n",
       "      <td>NaN</td>\n",
       "      <td>0</td>\n",
       "      <td>+91 9148155994</td>\n",
       "      <td>Whitefield</td>\n",
       "      <td>Bar</td>\n",
       "      <td>None</td>\n",
       "      <td>Finger Food</td>\n",
       "      <td>900.0</td>\n",
       "      <td>[('Rated 4.0', \"RATED\\n  A divine joint for Fl...</td>\n",
       "      <td>[]</td>\n",
       "      <td>Pubs and bars</td>\n",
       "      <td>Whitefield</td>\n",
       "      <td>NaN</td>\n",
       "    </tr>\n",
       "    <tr>\n",
       "      <th>51713</th>\n",
       "      <td>https://www.zomato.com/bangalore/vinod-bar-and...</td>\n",
       "      <td>Number 10, Garudachar Palya, Mahadevapura, Whi...</td>\n",
       "      <td>Vinod Bar And Restaurant</td>\n",
       "      <td>No</td>\n",
       "      <td>No</td>\n",
       "      <td>NaN</td>\n",
       "      <td>0</td>\n",
       "      <td>+91 8197675843</td>\n",
       "      <td>Whitefield</td>\n",
       "      <td>Bar</td>\n",
       "      <td>None</td>\n",
       "      <td>Finger Food</td>\n",
       "      <td>600.0</td>\n",
       "      <td>[]</td>\n",
       "      <td>[]</td>\n",
       "      <td>Pubs and bars</td>\n",
       "      <td>Whitefield</td>\n",
       "      <td>NaN</td>\n",
       "    </tr>\n",
       "    <tr>\n",
       "      <th>51714</th>\n",
       "      <td>https://www.zomato.com/bangalore/plunge-sherat...</td>\n",
       "      <td>Sheraton Grand Bengaluru Whitefield Hotel &amp; Co...</td>\n",
       "      <td>Plunge - Sheraton Grand Bengaluru Whitefield H...</td>\n",
       "      <td>No</td>\n",
       "      <td>No</td>\n",
       "      <td>NaN</td>\n",
       "      <td>0</td>\n",
       "      <td>None</td>\n",
       "      <td>Whitefield</td>\n",
       "      <td>Bar</td>\n",
       "      <td>None</td>\n",
       "      <td>Finger Food</td>\n",
       "      <td>2000.0</td>\n",
       "      <td>[]</td>\n",
       "      <td>[]</td>\n",
       "      <td>Pubs and bars</td>\n",
       "      <td>Whitefield</td>\n",
       "      <td>NaN</td>\n",
       "    </tr>\n",
       "  </tbody>\n",
       "</table>\n",
       "<p>10051 rows × 18 columns</p>\n",
       "</div>"
      ],
      "text/plain": [
       "                                                     url  \\\n",
       "75     https://www.zomato.com/bangalore/om-sri-vinaya...   \n",
       "84     https://www.zomato.com/bangalore/chill-out-ban...   \n",
       "90     https://www.zomato.com/bangalore/me-and-my-cak...   \n",
       "91     https://www.zomato.com/bangalore/sunsadm-banas...   \n",
       "92     https://www.zomato.com/bangalore/annapooranesh...   \n",
       "...                                                  ...   \n",
       "51644  https://www.zomato.com/bangalore/punjabi-thadk...   \n",
       "51675  https://www.zomato.com/bangalore/topsy-turvey-...   \n",
       "51710  https://www.zomato.com/bangalore/topsy-turvey-...   \n",
       "51713  https://www.zomato.com/bangalore/vinod-bar-and...   \n",
       "51714  https://www.zomato.com/bangalore/plunge-sherat...   \n",
       "\n",
       "                                                 address  \\\n",
       "75     39, S B M Colony, Near-Sita Circle, 1st Stage,...   \n",
       "84     161/C, 6th Main, 80 Feet Road, Bhuvaneshwari N...   \n",
       "90     BDA Shopping Complex, 24th Cross Road, Siddann...   \n",
       "91     Shop 18 , 3rd cross road,Markandeya Layout, Ba...   \n",
       "92     625, 5th Cross Road, Hanumanthnagar, Banashank...   \n",
       "...                                                  ...   \n",
       "51644  7/3, ASK Tower, Kundanahalli Gate, Next to Bat...   \n",
       "51675  2E2, 4th Cross Road, Devasandra Industrial Est...   \n",
       "51710  2E2, 4th Cross Road, Devasandra Industrial Est...   \n",
       "51713  Number 10, Garudachar Palya, Mahadevapura, Whi...   \n",
       "51714  Sheraton Grand Bengaluru Whitefield Hotel & Co...   \n",
       "\n",
       "                                                    name online_order  \\\n",
       "75                                 Om Sri Vinayaka Chats           No   \n",
       "84                                             Chill Out           No   \n",
       "90                                        Me And My Cake           No   \n",
       "91                                               Sunsadm           No   \n",
       "92                                Annapooraneshwari Mess           No   \n",
       "...                                                  ...          ...   \n",
       "51644                                     Punjabi Thadka           No   \n",
       "51675                                       Topsy Turvey           No   \n",
       "51710                                       Topsy Turvey           No   \n",
       "51713                           Vinod Bar And Restaurant           No   \n",
       "51714  Plunge - Sheraton Grand Bengaluru Whitefield H...           No   \n",
       "\n",
       "      book_table  rate  votes                           phone      location  \\\n",
       "75            No   NaN      0                  +91 8553206035  Banashankari   \n",
       "84            No   NaN      0                  +91 9341215167  Banashankari   \n",
       "90            No   NaN      0                  +91 9036070410  Banashankari   \n",
       "91            No   NaN      0                  +91 7829290358  Banashankari   \n",
       "92            No   NaN      0                  +91 9742009518  Banashankari   \n",
       "...          ...   ...    ...                             ...           ...   \n",
       "51644         No   NaN      0  +91 7338330336\\n+91 9591568221   Brookefield   \n",
       "51675         No   NaN      0                  +91 9148155994    Whitefield   \n",
       "51710         No   NaN      0                  +91 9148155994    Whitefield   \n",
       "51713         No   NaN      0                  +91 8197675843    Whitefield   \n",
       "51714         No   NaN      0                            None    Whitefield   \n",
       "\n",
       "                rest_type dish_liked                cuisines  \\\n",
       "75     Takeaway, Delivery       None  Street Food, Fast Food   \n",
       "84            Quick Bites       None   South Indian, Chinese   \n",
       "90               Delivery       None        Bakery, Desserts   \n",
       "91     Takeaway, Delivery       None            South Indian   \n",
       "92                   Mess       None            South Indian   \n",
       "...                   ...        ...                     ...   \n",
       "51644         Quick Bites       None            North Indian   \n",
       "51675                 Bar       None             Finger Food   \n",
       "51710                 Bar       None             Finger Food   \n",
       "51713                 Bar       None             Finger Food   \n",
       "51714                 Bar       None             Finger Food   \n",
       "\n",
       "       approx_cost(for two people)  \\\n",
       "75                           500.0   \n",
       "84                           100.0   \n",
       "90                           500.0   \n",
       "91                           400.0   \n",
       "92                           200.0   \n",
       "...                            ...   \n",
       "51644                        400.0   \n",
       "51675                        900.0   \n",
       "51710                        900.0   \n",
       "51713                        600.0   \n",
       "51714                       2000.0   \n",
       "\n",
       "                                            reviews_list menu_item  \\\n",
       "75                                                    []        []   \n",
       "84     [('Rated 4.0', 'RATED\\n  Good Location. Small ...        []   \n",
       "90     [('Rated 1.0', 'RATED\\n  Do not order anything...        []   \n",
       "91                                                    []        []   \n",
       "92                                                    []        []   \n",
       "...                                                  ...       ...   \n",
       "51644                                                 []        []   \n",
       "51675  [('Rated 4.0', \"RATED\\n  A divine joint for Fl...        []   \n",
       "51710  [('Rated 4.0', \"RATED\\n  A divine joint for Fl...        []   \n",
       "51713                                                 []        []   \n",
       "51714                                                 []        []   \n",
       "\n",
       "          listed_in(type) listed_in(city)  rate_from_reviews_list  \n",
       "75               Delivery    Banashankari                     NaN  \n",
       "84               Delivery    Banashankari                     NaN  \n",
       "90               Delivery    Banashankari                     1.0  \n",
       "91               Delivery    Banashankari                     NaN  \n",
       "92               Delivery    Banashankari                     NaN  \n",
       "...                   ...             ...                     ...  \n",
       "51644            Dine-out      Whitefield                     NaN  \n",
       "51675  Drinks & nightlife      Whitefield                     NaN  \n",
       "51710       Pubs and bars      Whitefield                     NaN  \n",
       "51713       Pubs and bars      Whitefield                     NaN  \n",
       "51714       Pubs and bars      Whitefield                     NaN  \n",
       "\n",
       "[10051 rows x 18 columns]"
      ]
     },
     "execution_count": 67,
     "metadata": {},
     "output_type": "execute_result"
    }
   ],
   "source": [
    "df[df['rate'].isnull()]"
   ]
  },
  {
   "cell_type": "code",
   "execution_count": 68,
   "id": "ffb4d9a8",
   "metadata": {},
   "outputs": [],
   "source": [
    "# Creates a variable nan_index containing the index positions of all rows where the 'rate' column has missing (NaN) values\n",
    "# This helps identify which records need rating values filled or handled later\n",
    "nan_index = df[df['rate'].isnull()].index"
   ]
  },
  {
   "cell_type": "code",
   "execution_count": 69,
   "id": "2bd425d7",
   "metadata": {},
   "outputs": [
    {
     "data": {
      "text/plain": [
       "Index([   75,    84,    90,    91,    92,   107,   110,   113,   114,   115,\n",
       "       ...\n",
       "       51636, 51638, 51639, 51642, 51643, 51644, 51675, 51710, 51713, 51714],\n",
       "      dtype='int64', length=10051)"
      ]
     },
     "execution_count": 69,
     "metadata": {},
     "output_type": "execute_result"
    }
   ],
   "source": [
    "nan_index "
   ]
  },
  {
   "cell_type": "code",
   "execution_count": 70,
   "id": "7a1eeb27",
   "metadata": {},
   "outputs": [],
   "source": [
    "# Loops through all rows where the 'rate' column is missing\n",
    "# For each such row, assigns the corresponding value from 'rate_from_reviews_list' to the 'rate' column\n",
    "# This attempts to fill in missing ratings using the extracted review-based ratings\n",
    "for index in nan_index:\n",
    "    df['rate'][72] = df['rate_from_reviews_list'][index]"
   ]
  },
  {
   "cell_type": "code",
   "execution_count": 71,
   "id": "9c869747",
   "metadata": {},
   "outputs": [
    {
     "data": {
      "text/plain": [
       "10052"
      ]
     },
     "execution_count": 71,
     "metadata": {},
     "output_type": "execute_result"
    }
   ],
   "source": [
    "# Counts how many missing (NaN) values remain in the 'rate' column after attempting to fill them\n",
    "# .item() converts the result into a regular Python integer for easier readability\n",
    "df['rate'].isnull().sum().item()"
   ]
  },
  {
   "cell_type": "code",
   "execution_count": 72,
   "id": "9bb54a8d",
   "metadata": {},
   "outputs": [
    {
     "data": {
      "text/plain": [
       "Index(['url', 'address', 'name', 'online_order', 'book_table', 'rate', 'votes',\n",
       "       'phone', 'location', 'rest_type', 'dish_liked', 'cuisines',\n",
       "       'approx_cost(for two people)', 'reviews_list', 'menu_item',\n",
       "       'listed_in(type)', 'listed_in(city)', 'rate_from_reviews_list'],\n",
       "      dtype='object')"
      ]
     },
     "execution_count": 72,
     "metadata": {},
     "output_type": "execute_result"
    }
   ],
   "source": [
    "df.columns"
   ]
  },
  {
   "cell_type": "code",
   "execution_count": 73,
   "id": "4d7058d6",
   "metadata": {},
   "outputs": [
    {
     "name": "stdout",
     "output_type": "stream",
     "text": [
      "<class 'pandas.core.frame.DataFrame'>\n",
      "RangeIndex: 51717 entries, 0 to 51716\n",
      "Data columns (total 18 columns):\n",
      " #   Column                       Non-Null Count  Dtype  \n",
      "---  ------                       --------------  -----  \n",
      " 0   url                          51717 non-null  object \n",
      " 1   address                      51717 non-null  object \n",
      " 2   name                         51717 non-null  object \n",
      " 3   online_order                 51717 non-null  object \n",
      " 4   book_table                   51717 non-null  object \n",
      " 5   rate                         41665 non-null  float64\n",
      " 6   votes                        51717 non-null  int64  \n",
      " 7   phone                        50509 non-null  object \n",
      " 8   location                     51696 non-null  object \n",
      " 9   rest_type                    51490 non-null  object \n",
      " 10  dish_liked                   23639 non-null  object \n",
      " 11  cuisines                     51672 non-null  object \n",
      " 12  approx_cost(for two people)  51371 non-null  float64\n",
      " 13  reviews_list                 51717 non-null  object \n",
      " 14  menu_item                    51717 non-null  object \n",
      " 15  listed_in(type)              51717 non-null  object \n",
      " 16  listed_in(city)              51717 non-null  object \n",
      " 17  rate_from_reviews_list       35597 non-null  float64\n",
      "dtypes: float64(3), int64(1), object(14)\n",
      "memory usage: 7.1+ MB\n"
     ]
    }
   ],
   "source": [
    "df.info()"
   ]
  },
  {
   "cell_type": "code",
   "execution_count": 74,
   "id": "afe85705",
   "metadata": {},
   "outputs": [
    {
     "data": {
      "text/plain": [
       "url                                0\n",
       "address                            0\n",
       "name                               0\n",
       "online_order                       0\n",
       "book_table                         0\n",
       "rate                           10052\n",
       "votes                              0\n",
       "phone                           1208\n",
       "location                          21\n",
       "rest_type                        227\n",
       "dish_liked                     28078\n",
       "cuisines                          45\n",
       "approx_cost(for two people)      346\n",
       "reviews_list                       0\n",
       "menu_item                          0\n",
       "listed_in(type)                    0\n",
       "listed_in(city)                    0\n",
       "rate_from_reviews_list         16120\n",
       "dtype: int64"
      ]
     },
     "execution_count": 74,
     "metadata": {},
     "output_type": "execute_result"
    }
   ],
   "source": [
    "df.isnull().sum()"
   ]
  },
  {
   "cell_type": "code",
   "execution_count": 75,
   "id": "ab7a77e5",
   "metadata": {},
   "outputs": [],
   "source": [
    "# Drops the columns 'dish_liked' and 'rate_from_reviews_list' from the DataFrame\n",
    "# 'rate_from_reviews_list' is no longer needed after being used to fill missing ratings\n",
    "# 'dish_liked' is removed because it contains too many missing values to be useful in analysis\n",
    "dataframe = df.drop(['dish_liked', 'rate_from_reviews_list'], axis=1)\n",
    "\n",
    "\n",
    "\n",
    "# *axis=1, means drop columns \n",
    "# if it were axis=0 , if it were axis=0, it would drop rows instead "
   ]
  },
  {
   "cell_type": "code",
   "execution_count": 76,
   "id": "3dbcbacd",
   "metadata": {},
   "outputs": [
    {
     "data": {
      "text/html": [
       "<div>\n",
       "<style scoped>\n",
       "    .dataframe tbody tr th:only-of-type {\n",
       "        vertical-align: middle;\n",
       "    }\n",
       "\n",
       "    .dataframe tbody tr th {\n",
       "        vertical-align: top;\n",
       "    }\n",
       "\n",
       "    .dataframe thead th {\n",
       "        text-align: right;\n",
       "    }\n",
       "</style>\n",
       "<table border=\"1\" class=\"dataframe\">\n",
       "  <thead>\n",
       "    <tr style=\"text-align: right;\">\n",
       "      <th></th>\n",
       "      <th>url</th>\n",
       "      <th>address</th>\n",
       "      <th>name</th>\n",
       "      <th>online_order</th>\n",
       "      <th>book_table</th>\n",
       "      <th>rate</th>\n",
       "      <th>votes</th>\n",
       "      <th>phone</th>\n",
       "      <th>location</th>\n",
       "      <th>rest_type</th>\n",
       "      <th>cuisines</th>\n",
       "      <th>approx_cost(for two people)</th>\n",
       "      <th>reviews_list</th>\n",
       "      <th>menu_item</th>\n",
       "      <th>listed_in(type)</th>\n",
       "      <th>listed_in(city)</th>\n",
       "    </tr>\n",
       "  </thead>\n",
       "  <tbody>\n",
       "    <tr>\n",
       "      <th>0</th>\n",
       "      <td>https://www.zomato.com/bangalore/jalsa-banasha...</td>\n",
       "      <td>942, 21st Main Road, 2nd Stage, Banashankari, ...</td>\n",
       "      <td>Jalsa</td>\n",
       "      <td>Yes</td>\n",
       "      <td>Yes</td>\n",
       "      <td>4.1</td>\n",
       "      <td>775</td>\n",
       "      <td>080 42297555\\r\\n+91 9743772233</td>\n",
       "      <td>Banashankari</td>\n",
       "      <td>Casual Dining</td>\n",
       "      <td>North Indian, Mughlai, Chinese</td>\n",
       "      <td>800.0</td>\n",
       "      <td>[('Rated 4.0', 'RATED\\n  A beautiful place to ...</td>\n",
       "      <td>[]</td>\n",
       "      <td>Buffet</td>\n",
       "      <td>Banashankari</td>\n",
       "    </tr>\n",
       "    <tr>\n",
       "      <th>1</th>\n",
       "      <td>https://www.zomato.com/bangalore/spice-elephan...</td>\n",
       "      <td>2nd Floor, 80 Feet Road, Near Big Bazaar, 6th ...</td>\n",
       "      <td>Spice Elephant</td>\n",
       "      <td>Yes</td>\n",
       "      <td>No</td>\n",
       "      <td>4.1</td>\n",
       "      <td>787</td>\n",
       "      <td>080 41714161</td>\n",
       "      <td>Banashankari</td>\n",
       "      <td>Casual Dining</td>\n",
       "      <td>Chinese, North Indian, Thai</td>\n",
       "      <td>800.0</td>\n",
       "      <td>[('Rated 4.0', 'RATED\\n  Had been here for din...</td>\n",
       "      <td>[]</td>\n",
       "      <td>Buffet</td>\n",
       "      <td>Banashankari</td>\n",
       "    </tr>\n",
       "    <tr>\n",
       "      <th>2</th>\n",
       "      <td>https://www.zomato.com/SanchurroBangalore?cont...</td>\n",
       "      <td>1112, Next to KIMS Medical College, 17th Cross...</td>\n",
       "      <td>San Churro Cafe</td>\n",
       "      <td>Yes</td>\n",
       "      <td>No</td>\n",
       "      <td>3.8</td>\n",
       "      <td>918</td>\n",
       "      <td>+91 9663487993</td>\n",
       "      <td>Banashankari</td>\n",
       "      <td>Cafe, Casual Dining</td>\n",
       "      <td>Cafe, Mexican, Italian</td>\n",
       "      <td>800.0</td>\n",
       "      <td>[('Rated 3.0', \"RATED\\n  Ambience is not that ...</td>\n",
       "      <td>[]</td>\n",
       "      <td>Buffet</td>\n",
       "      <td>Banashankari</td>\n",
       "    </tr>\n",
       "    <tr>\n",
       "      <th>3</th>\n",
       "      <td>https://www.zomato.com/bangalore/addhuri-udupi...</td>\n",
       "      <td>1st Floor, Annakuteera, 3rd Stage, Banashankar...</td>\n",
       "      <td>Addhuri Udupi Bhojana</td>\n",
       "      <td>No</td>\n",
       "      <td>No</td>\n",
       "      <td>3.7</td>\n",
       "      <td>88</td>\n",
       "      <td>+91 9620009302</td>\n",
       "      <td>Banashankari</td>\n",
       "      <td>Quick Bites</td>\n",
       "      <td>South Indian, North Indian</td>\n",
       "      <td>300.0</td>\n",
       "      <td>[('Rated 4.0', \"RATED\\n  Great food and proper...</td>\n",
       "      <td>[]</td>\n",
       "      <td>Buffet</td>\n",
       "      <td>Banashankari</td>\n",
       "    </tr>\n",
       "    <tr>\n",
       "      <th>4</th>\n",
       "      <td>https://www.zomato.com/bangalore/grand-village...</td>\n",
       "      <td>10, 3rd Floor, Lakshmi Associates, Gandhi Baza...</td>\n",
       "      <td>Grand Village</td>\n",
       "      <td>No</td>\n",
       "      <td>No</td>\n",
       "      <td>3.8</td>\n",
       "      <td>166</td>\n",
       "      <td>+91 8026612447\\r\\n+91 9901210005</td>\n",
       "      <td>Basavanagudi</td>\n",
       "      <td>Casual Dining</td>\n",
       "      <td>North Indian, Rajasthani</td>\n",
       "      <td>600.0</td>\n",
       "      <td>[('Rated 4.0', 'RATED\\n  Very good restaurant ...</td>\n",
       "      <td>[]</td>\n",
       "      <td>Buffet</td>\n",
       "      <td>Banashankari</td>\n",
       "    </tr>\n",
       "  </tbody>\n",
       "</table>\n",
       "</div>"
      ],
      "text/plain": [
       "                                                 url  \\\n",
       "0  https://www.zomato.com/bangalore/jalsa-banasha...   \n",
       "1  https://www.zomato.com/bangalore/spice-elephan...   \n",
       "2  https://www.zomato.com/SanchurroBangalore?cont...   \n",
       "3  https://www.zomato.com/bangalore/addhuri-udupi...   \n",
       "4  https://www.zomato.com/bangalore/grand-village...   \n",
       "\n",
       "                                             address                   name  \\\n",
       "0  942, 21st Main Road, 2nd Stage, Banashankari, ...                  Jalsa   \n",
       "1  2nd Floor, 80 Feet Road, Near Big Bazaar, 6th ...         Spice Elephant   \n",
       "2  1112, Next to KIMS Medical College, 17th Cross...        San Churro Cafe   \n",
       "3  1st Floor, Annakuteera, 3rd Stage, Banashankar...  Addhuri Udupi Bhojana   \n",
       "4  10, 3rd Floor, Lakshmi Associates, Gandhi Baza...          Grand Village   \n",
       "\n",
       "  online_order book_table  rate  votes                             phone  \\\n",
       "0          Yes        Yes   4.1    775    080 42297555\\r\\n+91 9743772233   \n",
       "1          Yes         No   4.1    787                      080 41714161   \n",
       "2          Yes         No   3.8    918                    +91 9663487993   \n",
       "3           No         No   3.7     88                    +91 9620009302   \n",
       "4           No         No   3.8    166  +91 8026612447\\r\\n+91 9901210005   \n",
       "\n",
       "       location            rest_type                        cuisines  \\\n",
       "0  Banashankari        Casual Dining  North Indian, Mughlai, Chinese   \n",
       "1  Banashankari        Casual Dining     Chinese, North Indian, Thai   \n",
       "2  Banashankari  Cafe, Casual Dining          Cafe, Mexican, Italian   \n",
       "3  Banashankari          Quick Bites      South Indian, North Indian   \n",
       "4  Basavanagudi        Casual Dining        North Indian, Rajasthani   \n",
       "\n",
       "   approx_cost(for two people)  \\\n",
       "0                        800.0   \n",
       "1                        800.0   \n",
       "2                        800.0   \n",
       "3                        300.0   \n",
       "4                        600.0   \n",
       "\n",
       "                                        reviews_list menu_item  \\\n",
       "0  [('Rated 4.0', 'RATED\\n  A beautiful place to ...        []   \n",
       "1  [('Rated 4.0', 'RATED\\n  Had been here for din...        []   \n",
       "2  [('Rated 3.0', \"RATED\\n  Ambience is not that ...        []   \n",
       "3  [('Rated 4.0', \"RATED\\n  Great food and proper...        []   \n",
       "4  [('Rated 4.0', 'RATED\\n  Very good restaurant ...        []   \n",
       "\n",
       "  listed_in(type) listed_in(city)  \n",
       "0          Buffet    Banashankari  \n",
       "1          Buffet    Banashankari  \n",
       "2          Buffet    Banashankari  \n",
       "3          Buffet    Banashankari  \n",
       "4          Buffet    Banashankari  "
      ]
     },
     "execution_count": 76,
     "metadata": {},
     "output_type": "execute_result"
    }
   ],
   "source": [
    "dataframe.head()"
   ]
  },
  {
   "cell_type": "markdown",
   "id": "aef5f256",
   "metadata": {},
   "source": [
    "### Feature Engineering"
   ]
  },
  {
   "cell_type": "code",
   "execution_count": 77,
   "id": "58058da7",
   "metadata": {},
   "outputs": [
    {
     "data": {
      "text/plain": [
       "0                North Indian, Mughlai, Chinese\n",
       "1                   Chinese, North Indian, Thai\n",
       "2                        Cafe, Mexican, Italian\n",
       "3                    South Indian, North Indian\n",
       "4                      North Indian, Rajasthani\n",
       "                          ...                  \n",
       "51712                               Continental\n",
       "51713                               Finger Food\n",
       "51714                               Finger Food\n",
       "51715                               Finger Food\n",
       "51716    Finger Food, North Indian, Continental\n",
       "Name: cuisines, Length: 51717, dtype: object"
      ]
     },
     "execution_count": 77,
     "metadata": {},
     "output_type": "execute_result"
    }
   ],
   "source": [
    "# Displays the 'cuisines' column from the DataFrame\n",
    "# This column lists the types of food offered by each restaurant and can be used later for grouping, encoding, or text analysis\n",
    "dataframe['cuisines']"
   ]
  },
  {
   "cell_type": "code",
   "execution_count": 78,
   "id": "c55d782d",
   "metadata": {},
   "outputs": [
    {
     "data": {
      "text/plain": [
       "str"
      ]
     },
     "execution_count": 78,
     "metadata": {},
     "output_type": "execute_result"
    }
   ],
   "source": [
    "# Checks the data type of the first value in the 'cuisines' column\n",
    "# This helps confirm whether the entries are stored as strings or another type before applying text-processing operations\n",
    "type(dataframe['cuisines'][0])"
   ]
  },
  {
   "cell_type": "code",
   "execution_count": 79,
   "id": "f068ba17",
   "metadata": {},
   "outputs": [
    {
     "data": {
      "text/plain": [
       "3"
      ]
     },
     "execution_count": 79,
     "metadata": {},
     "output_type": "execute_result"
    }
   ],
   "source": [
    "# Splits the first restaurant’s 'cuisines' string by commas and returns the number of cuisines it offers\n",
    "# Useful for creating a new feature representing how many different cuisine types each restaurant serves\n",
    "len(dataframe['cuisines'][0].split(','))"
   ]
  },
  {
   "cell_type": "code",
   "execution_count": 80,
   "id": "6736156f",
   "metadata": {},
   "outputs": [],
   "source": [
    "# Defines a function count that takes a text row (like a list of cuisines) and returns how many items it contains\n",
    "# It splits the string by commas and counts the resulting parts\n",
    "def count(row):\n",
    "    return len(row.split(','))"
   ]
  },
  {
   "cell_type": "code",
   "execution_count": 81,
   "id": "856a7eea",
   "metadata": {},
   "outputs": [],
   "source": [
    "# Creates two new columns in the DataFrame:\n",
    "# 'total_cuisines' — the number of different cuisines each restaurant serves\n",
    "# 'multiple_types' — the number of restaurant types listed for each restaurant\n",
    "# Both columns are generated by converting text to string and applying the count() function\n",
    "\n",
    "dataframe['total_cuisines'] = dataframe['cuisines'].astype(str).apply(count)\n",
    "dataframe['multiple_types'] = dataframe['rest_type'].astype(str).apply(count)"
   ]
  },
  {
   "cell_type": "code",
   "execution_count": 82,
   "id": "bd6ad368",
   "metadata": {},
   "outputs": [
    {
     "data": {
      "text/html": [
       "<div>\n",
       "<style scoped>\n",
       "    .dataframe tbody tr th:only-of-type {\n",
       "        vertical-align: middle;\n",
       "    }\n",
       "\n",
       "    .dataframe tbody tr th {\n",
       "        vertical-align: top;\n",
       "    }\n",
       "\n",
       "    .dataframe thead th {\n",
       "        text-align: right;\n",
       "    }\n",
       "</style>\n",
       "<table border=\"1\" class=\"dataframe\">\n",
       "  <thead>\n",
       "    <tr style=\"text-align: right;\">\n",
       "      <th></th>\n",
       "      <th>url</th>\n",
       "      <th>address</th>\n",
       "      <th>name</th>\n",
       "      <th>online_order</th>\n",
       "      <th>book_table</th>\n",
       "      <th>rate</th>\n",
       "      <th>votes</th>\n",
       "      <th>phone</th>\n",
       "      <th>location</th>\n",
       "      <th>rest_type</th>\n",
       "      <th>cuisines</th>\n",
       "      <th>approx_cost(for two people)</th>\n",
       "      <th>reviews_list</th>\n",
       "      <th>menu_item</th>\n",
       "      <th>listed_in(type)</th>\n",
       "      <th>listed_in(city)</th>\n",
       "      <th>total_cuisines</th>\n",
       "      <th>multiple_types</th>\n",
       "    </tr>\n",
       "  </thead>\n",
       "  <tbody>\n",
       "    <tr>\n",
       "      <th>0</th>\n",
       "      <td>https://www.zomato.com/bangalore/jalsa-banasha...</td>\n",
       "      <td>942, 21st Main Road, 2nd Stage, Banashankari, ...</td>\n",
       "      <td>Jalsa</td>\n",
       "      <td>Yes</td>\n",
       "      <td>Yes</td>\n",
       "      <td>4.1</td>\n",
       "      <td>775</td>\n",
       "      <td>080 42297555\\r\\n+91 9743772233</td>\n",
       "      <td>Banashankari</td>\n",
       "      <td>Casual Dining</td>\n",
       "      <td>North Indian, Mughlai, Chinese</td>\n",
       "      <td>800.0</td>\n",
       "      <td>[('Rated 4.0', 'RATED\\n  A beautiful place to ...</td>\n",
       "      <td>[]</td>\n",
       "      <td>Buffet</td>\n",
       "      <td>Banashankari</td>\n",
       "      <td>3</td>\n",
       "      <td>1</td>\n",
       "    </tr>\n",
       "    <tr>\n",
       "      <th>1</th>\n",
       "      <td>https://www.zomato.com/bangalore/spice-elephan...</td>\n",
       "      <td>2nd Floor, 80 Feet Road, Near Big Bazaar, 6th ...</td>\n",
       "      <td>Spice Elephant</td>\n",
       "      <td>Yes</td>\n",
       "      <td>No</td>\n",
       "      <td>4.1</td>\n",
       "      <td>787</td>\n",
       "      <td>080 41714161</td>\n",
       "      <td>Banashankari</td>\n",
       "      <td>Casual Dining</td>\n",
       "      <td>Chinese, North Indian, Thai</td>\n",
       "      <td>800.0</td>\n",
       "      <td>[('Rated 4.0', 'RATED\\n  Had been here for din...</td>\n",
       "      <td>[]</td>\n",
       "      <td>Buffet</td>\n",
       "      <td>Banashankari</td>\n",
       "      <td>3</td>\n",
       "      <td>1</td>\n",
       "    </tr>\n",
       "  </tbody>\n",
       "</table>\n",
       "</div>"
      ],
      "text/plain": [
       "                                                 url  \\\n",
       "0  https://www.zomato.com/bangalore/jalsa-banasha...   \n",
       "1  https://www.zomato.com/bangalore/spice-elephan...   \n",
       "\n",
       "                                             address            name  \\\n",
       "0  942, 21st Main Road, 2nd Stage, Banashankari, ...           Jalsa   \n",
       "1  2nd Floor, 80 Feet Road, Near Big Bazaar, 6th ...  Spice Elephant   \n",
       "\n",
       "  online_order book_table  rate  votes                           phone  \\\n",
       "0          Yes        Yes   4.1    775  080 42297555\\r\\n+91 9743772233   \n",
       "1          Yes         No   4.1    787                    080 41714161   \n",
       "\n",
       "       location      rest_type                        cuisines  \\\n",
       "0  Banashankari  Casual Dining  North Indian, Mughlai, Chinese   \n",
       "1  Banashankari  Casual Dining     Chinese, North Indian, Thai   \n",
       "\n",
       "   approx_cost(for two people)  \\\n",
       "0                        800.0   \n",
       "1                        800.0   \n",
       "\n",
       "                                        reviews_list menu_item  \\\n",
       "0  [('Rated 4.0', 'RATED\\n  A beautiful place to ...        []   \n",
       "1  [('Rated 4.0', 'RATED\\n  Had been here for din...        []   \n",
       "\n",
       "  listed_in(type) listed_in(city)  total_cuisines  multiple_types  \n",
       "0          Buffet    Banashankari               3               1  \n",
       "1          Buffet    Banashankari               3               1  "
      ]
     },
     "execution_count": 82,
     "metadata": {},
     "output_type": "execute_result"
    }
   ],
   "source": [
    "dataframe.head(2)"
   ]
  },
  {
   "cell_type": "code",
   "execution_count": 83,
   "id": "00ee5020",
   "metadata": {},
   "outputs": [],
   "source": [
    "# Defines a threshold rating of 3.80 and creates a new column called 'target'\n",
    "# Assigns 1 if the restaurant’s rate is equal to or above 3.80, otherwise 0\n",
    "# This binary target can be used for classification tasks (e.g., predicting high-rated restaurants)\n",
    "threshold = 3.80\n",
    "dataframe['target'] = dataframe['rate'].apply(lambda x:1 if x>=threshold else 0)"
   ]
  },
  {
   "cell_type": "code",
   "execution_count": 84,
   "id": "4fd4848a",
   "metadata": {},
   "outputs": [],
   "source": [
    "# lambda expression instead of writing this:\n",
    "\n",
    "# threshold = 3.80\n",
    "\n",
    "# def mark_high_rating(x):\n",
    "#     if x >= threshold:\n",
    "#         return 1\n",
    "#     else:\n",
    "#         return 0\n",
    "\n",
    "# dataframe['rate'].apply(mark_high_rating)"
   ]
  },
  {
   "cell_type": "markdown",
   "id": "efd21abb",
   "metadata": {},
   "source": [
    "### Feature importance"
   ]
  },
  {
   "cell_type": "markdown",
   "id": "a85d1b61",
   "metadata": {},
   "source": [
    "create a distribution plot "
   ]
  },
  {
   "cell_type": "code",
   "execution_count": 85,
   "id": "b3bbee86",
   "metadata": {},
   "outputs": [
    {
     "data": {
      "text/plain": [
       "Index(['url', 'address', 'name', 'online_order', 'book_table', 'rate', 'votes',\n",
       "       'phone', 'location', 'rest_type', 'cuisines',\n",
       "       'approx_cost(for two people)', 'reviews_list', 'menu_item',\n",
       "       'listed_in(type)', 'listed_in(city)', 'total_cuisines',\n",
       "       'multiple_types', 'target'],\n",
       "      dtype='object')"
      ]
     },
     "execution_count": 85,
     "metadata": {},
     "output_type": "execute_result"
    }
   ],
   "source": [
    "dataframe.columns"
   ]
  },
  {
   "cell_type": "code",
   "execution_count": 86,
   "id": "5dc56676",
   "metadata": {},
   "outputs": [
    {
     "data": {
      "text/plain": [
       "<matplotlib.legend.Legend at 0x7fa44e474ec0>"
      ]
     },
     "execution_count": 86,
     "metadata": {},
     "output_type": "execute_result"
    },
    {
     "data": {
      "image/png": "[encoded data removed]",
      "text/plain": [
       "<Figure size 640x480 with 1 Axes>"
      ]
     },
     "metadata": {},
     "output_type": "display_data"
    }
   ],
   "source": [
    "# Plots two overlapping distribution curves for the 'total_cuisines' feature\n",
    "# One curve represents restaurants with target = 0 (low-rated), and the other with target = 1 (high-rated)\n",
    "# The legend helps distinguish between the two groups, showing how cuisine variety relates to restaurant rating\n",
    "sns.distplot(dataframe[dataframe['target']==0]['total_cuisines'],hist=False,label=0)\n",
    "sns.distplot(dataframe[dataframe['target']==1]['total_cuisines'],hist=False,label=1)\n",
    "plt.legend()"
   ]
  },
  {
   "cell_type": "markdown",
   "id": "076d7150",
   "metadata": {},
   "source": [
    "It is easy to see that there is a high difference in overlap, meaning that the feature is biased and not usable for target prediction."
   ]
  },
  {
   "cell_type": "markdown",
   "id": "6302ed06",
   "metadata": {},
   "source": [
    "We will check the same for the other features."
   ]
  },
  {
   "cell_type": "code",
   "execution_count": 87,
   "id": "a3a6e606",
   "metadata": {},
   "outputs": [
    {
     "data": {
      "text/plain": [
       "<matplotlib.legend.Legend at 0x7fa44ef06fd0>"
      ]
     },
     "execution_count": 87,
     "metadata": {},
     "output_type": "execute_result"
    },
    {
     "data": {
      "image/png": "[encoded data removed]",
      "text/plain": [
       "<Figure size 640x480 with 1 Axes>"
      ]
     },
     "metadata": {},
     "output_type": "display_data"
    }
   ],
   "source": [
    "# Plots distribution curves comparing 'multiple_types' between low-rated (target = 0) and high-rated (target = 1) restaurants\n",
    "# Helps visualize whether restaurants offering more types tend to receive higher ratings\n",
    "sns.distplot(dataframe[dataframe['target']==0]['multiple_types'],hist=False,label=0)\n",
    "sns.distplot(dataframe[dataframe['target']==1]['multiple_types'],hist=False,label=1)\n",
    "plt.legend()"
   ]
  },
  {
   "cell_type": "code",
   "execution_count": 88,
   "id": "6d99729f",
   "metadata": {},
   "outputs": [
    {
     "data": {
      "text/plain": [
       "<matplotlib.legend.Legend at 0x7fa44b0a3390>"
      ]
     },
     "execution_count": 88,
     "metadata": {},
     "output_type": "execute_result"
    },
    {
     "data": {
      "image/png": "[encoded data removed]",
      "text/plain": [
       "<Figure size 640x480 with 1 Axes>"
      ]
     },
     "metadata": {},
     "output_type": "display_data"
    }
   ],
   "source": [
    "sns.distplot(dataframe[dataframe['target']==0]['approx_cost(for two people)'],hist=False,label=0)\n",
    "sns.distplot(dataframe[dataframe['target']==1]['approx_cost(for two people)'],hist=False,label=1)\n",
    "plt.legend()"
   ]
  },
  {
   "cell_type": "markdown",
   "id": "e7b408fd",
   "metadata": {},
   "source": [
    "partial overlap"
   ]
  },
  {
   "cell_type": "code",
   "execution_count": 89,
   "id": "91ce1704",
   "metadata": {},
   "outputs": [
    {
     "data": {
      "text/plain": [
       "<matplotlib.legend.Legend at 0x7fa44c24ead0>"
      ]
     },
     "execution_count": 89,
     "metadata": {},
     "output_type": "execute_result"
    },
    {
     "data": {
      "image/png": "[encoded data removed]",
      "text/plain": [
       "<Figure size 640x480 with 1 Axes>"
      ]
     },
     "metadata": {},
     "output_type": "display_data"
    }
   ],
   "source": [
    "sns.distplot(dataframe[dataframe['target']==0]['votes'],hist=False,label=0)\n",
    "sns.distplot(dataframe[dataframe['target']==1]['votes'],hist=False,label=1)\n",
    "plt.legend()"
   ]
  },
  {
   "cell_type": "markdown",
   "id": "7753a044",
   "metadata": {},
   "source": [
    "## Encoding Features"
   ]
  },
  {
   "cell_type": "markdown",
   "id": "185bd39a",
   "metadata": {},
   "source": [
    "but before that we'll remove all the features that doesn't make sense to be vaulable to predict the target"
   ]
  },
  {
   "cell_type": "code",
   "execution_count": 90,
   "id": "f8a36d68",
   "metadata": {},
   "outputs": [
    {
     "data": {
      "text/plain": [
       "Index(['url', 'address', 'name', 'online_order', 'book_table', 'rate', 'votes',\n",
       "       'phone', 'location', 'rest_type', 'cuisines',\n",
       "       'approx_cost(for two people)', 'reviews_list', 'menu_item',\n",
       "       'listed_in(type)', 'listed_in(city)', 'total_cuisines',\n",
       "       'multiple_types', 'target'],\n",
       "      dtype='object')"
      ]
     },
     "execution_count": 90,
     "metadata": {},
     "output_type": "execute_result"
    }
   ],
   "source": [
    "# Displays all the column names again to review which features are present\n",
    "# This helps decide which columns are irrelevant or not useful for predicting the target variable before encoding features\n",
    "dataframe.columns"
   ]
  },
  {
   "cell_type": "code",
   "execution_count": 91,
   "id": "bd7d0428",
   "metadata": {},
   "outputs": [],
   "source": [
    "# Creates a list named imp_features containing the selected columns that are considered important for prediction\n",
    "# These include features like online ordering, booking, votes, location, restaurant type, cost, listing info, and the target variable\n",
    "imp_features = ['online_order', 'book_table', 'votes',\n",
    "       'location', 'rest_type', \n",
    "       'approx_cost(for two people)', \n",
    "       'listed_in(type)', 'listed_in(city)', 'target']"
   ]
  },
  {
   "cell_type": "code",
   "execution_count": 92,
   "id": "460b9fc2",
   "metadata": {},
   "outputs": [],
   "source": [
    "# Creates a new DataFrame called data that contains only the selected important features from the main DataFrame\n",
    "# This subset will be used for encoding, model training, or further analysis\n",
    "data = dataframe[imp_features]"
   ]
  },
  {
   "cell_type": "code",
   "execution_count": 93,
   "id": "07f2099c",
   "metadata": {},
   "outputs": [
    {
     "data": {
      "text/plain": [
       "(51717, 9)"
      ]
     },
     "execution_count": 93,
     "metadata": {},
     "output_type": "execute_result"
    }
   ],
   "source": [
    "data.shape"
   ]
  },
  {
   "cell_type": "code",
   "execution_count": 94,
   "id": "ba4f6553",
   "metadata": {},
   "outputs": [
    {
     "data": {
      "text/plain": [
       "Index(['online_order', 'book_table', 'votes', 'location', 'rest_type',\n",
       "       'approx_cost(for two people)', 'listed_in(type)', 'listed_in(city)',\n",
       "       'target'],\n",
       "      dtype='object')"
      ]
     },
     "execution_count": 94,
     "metadata": {},
     "output_type": "execute_result"
    }
   ],
   "source": [
    "data.columns"
   ]
  },
  {
   "cell_type": "code",
   "execution_count": 95,
   "id": "c12b06bc",
   "metadata": {},
   "outputs": [
    {
     "data": {
      "text/html": [
       "<div>\n",
       "<style scoped>\n",
       "    .dataframe tbody tr th:only-of-type {\n",
       "        vertical-align: middle;\n",
       "    }\n",
       "\n",
       "    .dataframe tbody tr th {\n",
       "        vertical-align: top;\n",
       "    }\n",
       "\n",
       "    .dataframe thead th {\n",
       "        text-align: right;\n",
       "    }\n",
       "</style>\n",
       "<table border=\"1\" class=\"dataframe\">\n",
       "  <thead>\n",
       "    <tr style=\"text-align: right;\">\n",
       "      <th></th>\n",
       "      <th>online_order</th>\n",
       "      <th>book_table</th>\n",
       "      <th>location</th>\n",
       "      <th>rest_type</th>\n",
       "      <th>listed_in(type)</th>\n",
       "      <th>listed_in(city)</th>\n",
       "    </tr>\n",
       "  </thead>\n",
       "  <tbody>\n",
       "    <tr>\n",
       "      <th>0</th>\n",
       "      <td>Yes</td>\n",
       "      <td>Yes</td>\n",
       "      <td>Banashankari</td>\n",
       "      <td>Casual Dining</td>\n",
       "      <td>Buffet</td>\n",
       "      <td>Banashankari</td>\n",
       "    </tr>\n",
       "    <tr>\n",
       "      <th>1</th>\n",
       "      <td>Yes</td>\n",
       "      <td>No</td>\n",
       "      <td>Banashankari</td>\n",
       "      <td>Casual Dining</td>\n",
       "      <td>Buffet</td>\n",
       "      <td>Banashankari</td>\n",
       "    </tr>\n",
       "    <tr>\n",
       "      <th>2</th>\n",
       "      <td>Yes</td>\n",
       "      <td>No</td>\n",
       "      <td>Banashankari</td>\n",
       "      <td>Cafe, Casual Dining</td>\n",
       "      <td>Buffet</td>\n",
       "      <td>Banashankari</td>\n",
       "    </tr>\n",
       "    <tr>\n",
       "      <th>3</th>\n",
       "      <td>No</td>\n",
       "      <td>No</td>\n",
       "      <td>Banashankari</td>\n",
       "      <td>Quick Bites</td>\n",
       "      <td>Buffet</td>\n",
       "      <td>Banashankari</td>\n",
       "    </tr>\n",
       "    <tr>\n",
       "      <th>4</th>\n",
       "      <td>No</td>\n",
       "      <td>No</td>\n",
       "      <td>Basavanagudi</td>\n",
       "      <td>Casual Dining</td>\n",
       "      <td>Buffet</td>\n",
       "      <td>Banashankari</td>\n",
       "    </tr>\n",
       "    <tr>\n",
       "      <th>...</th>\n",
       "      <td>...</td>\n",
       "      <td>...</td>\n",
       "      <td>...</td>\n",
       "      <td>...</td>\n",
       "      <td>...</td>\n",
       "      <td>...</td>\n",
       "    </tr>\n",
       "    <tr>\n",
       "      <th>51712</th>\n",
       "      <td>No</td>\n",
       "      <td>No</td>\n",
       "      <td>Whitefield</td>\n",
       "      <td>Bar</td>\n",
       "      <td>Pubs and bars</td>\n",
       "      <td>Whitefield</td>\n",
       "    </tr>\n",
       "    <tr>\n",
       "      <th>51713</th>\n",
       "      <td>No</td>\n",
       "      <td>No</td>\n",
       "      <td>Whitefield</td>\n",
       "      <td>Bar</td>\n",
       "      <td>Pubs and bars</td>\n",
       "      <td>Whitefield</td>\n",
       "    </tr>\n",
       "    <tr>\n",
       "      <th>51714</th>\n",
       "      <td>No</td>\n",
       "      <td>No</td>\n",
       "      <td>Whitefield</td>\n",
       "      <td>Bar</td>\n",
       "      <td>Pubs and bars</td>\n",
       "      <td>Whitefield</td>\n",
       "    </tr>\n",
       "    <tr>\n",
       "      <th>51715</th>\n",
       "      <td>No</td>\n",
       "      <td>Yes</td>\n",
       "      <td>ITPL Main Road, Whitefield</td>\n",
       "      <td>Bar</td>\n",
       "      <td>Pubs and bars</td>\n",
       "      <td>Whitefield</td>\n",
       "    </tr>\n",
       "    <tr>\n",
       "      <th>51716</th>\n",
       "      <td>No</td>\n",
       "      <td>No</td>\n",
       "      <td>ITPL Main Road, Whitefield</td>\n",
       "      <td>Bar, Casual Dining</td>\n",
       "      <td>Pubs and bars</td>\n",
       "      <td>Whitefield</td>\n",
       "    </tr>\n",
       "  </tbody>\n",
       "</table>\n",
       "<p>51717 rows × 6 columns</p>\n",
       "</div>"
      ],
      "text/plain": [
       "      online_order book_table                    location  \\\n",
       "0              Yes        Yes                Banashankari   \n",
       "1              Yes         No                Banashankari   \n",
       "2              Yes         No                Banashankari   \n",
       "3               No         No                Banashankari   \n",
       "4               No         No                Basavanagudi   \n",
       "...            ...        ...                         ...   \n",
       "51712           No         No                  Whitefield   \n",
       "51713           No         No                  Whitefield   \n",
       "51714           No         No                  Whitefield   \n",
       "51715           No        Yes  ITPL Main Road, Whitefield   \n",
       "51716           No         No  ITPL Main Road, Whitefield   \n",
       "\n",
       "                 rest_type listed_in(type) listed_in(city)  \n",
       "0            Casual Dining          Buffet    Banashankari  \n",
       "1            Casual Dining          Buffet    Banashankari  \n",
       "2      Cafe, Casual Dining          Buffet    Banashankari  \n",
       "3              Quick Bites          Buffet    Banashankari  \n",
       "4            Casual Dining          Buffet    Banashankari  \n",
       "...                    ...             ...             ...  \n",
       "51712                  Bar   Pubs and bars      Whitefield  \n",
       "51713                  Bar   Pubs and bars      Whitefield  \n",
       "51714                  Bar   Pubs and bars      Whitefield  \n",
       "51715                  Bar   Pubs and bars      Whitefield  \n",
       "51716   Bar, Casual Dining   Pubs and bars      Whitefield  \n",
       "\n",
       "[51717 rows x 6 columns]"
      ]
     },
     "execution_count": 95,
     "metadata": {},
     "output_type": "execute_result"
    }
   ],
   "source": [
    "# Creates a list cat_features containing all columns with data type 'object' (i.e., categorical features)\n",
    "# Then displays those categorical columns from the DataFrame for inspection before encoding\n",
    "cat_features = [col for col in data.columns if data[col].dtype=='O']\n",
    "# 'O' is an allias of 'object'\n",
    "data[cat_features]"
   ]
  },
  {
   "cell_type": "code",
   "execution_count": 96,
   "id": "650a913f",
   "metadata": {},
   "outputs": [
    {
     "data": {
      "text/html": [
       "<div>\n",
       "<style scoped>\n",
       "    .dataframe tbody tr th:only-of-type {\n",
       "        vertical-align: middle;\n",
       "    }\n",
       "\n",
       "    .dataframe tbody tr th {\n",
       "        vertical-align: top;\n",
       "    }\n",
       "\n",
       "    .dataframe thead th {\n",
       "        text-align: right;\n",
       "    }\n",
       "</style>\n",
       "<table border=\"1\" class=\"dataframe\">\n",
       "  <thead>\n",
       "    <tr style=\"text-align: right;\">\n",
       "      <th></th>\n",
       "      <th>votes</th>\n",
       "      <th>approx_cost(for two people)</th>\n",
       "      <th>target</th>\n",
       "    </tr>\n",
       "  </thead>\n",
       "  <tbody>\n",
       "    <tr>\n",
       "      <th>0</th>\n",
       "      <td>775</td>\n",
       "      <td>800.0</td>\n",
       "      <td>1</td>\n",
       "    </tr>\n",
       "    <tr>\n",
       "      <th>1</th>\n",
       "      <td>787</td>\n",
       "      <td>800.0</td>\n",
       "      <td>1</td>\n",
       "    </tr>\n",
       "    <tr>\n",
       "      <th>2</th>\n",
       "      <td>918</td>\n",
       "      <td>800.0</td>\n",
       "      <td>1</td>\n",
       "    </tr>\n",
       "    <tr>\n",
       "      <th>3</th>\n",
       "      <td>88</td>\n",
       "      <td>300.0</td>\n",
       "      <td>0</td>\n",
       "    </tr>\n",
       "    <tr>\n",
       "      <th>4</th>\n",
       "      <td>166</td>\n",
       "      <td>600.0</td>\n",
       "      <td>1</td>\n",
       "    </tr>\n",
       "    <tr>\n",
       "      <th>...</th>\n",
       "      <td>...</td>\n",
       "      <td>...</td>\n",
       "      <td>...</td>\n",
       "    </tr>\n",
       "    <tr>\n",
       "      <th>51712</th>\n",
       "      <td>27</td>\n",
       "      <td>1500.0</td>\n",
       "      <td>0</td>\n",
       "    </tr>\n",
       "    <tr>\n",
       "      <th>51713</th>\n",
       "      <td>0</td>\n",
       "      <td>600.0</td>\n",
       "      <td>0</td>\n",
       "    </tr>\n",
       "    <tr>\n",
       "      <th>51714</th>\n",
       "      <td>0</td>\n",
       "      <td>2000.0</td>\n",
       "      <td>0</td>\n",
       "    </tr>\n",
       "    <tr>\n",
       "      <th>51715</th>\n",
       "      <td>236</td>\n",
       "      <td>2500.0</td>\n",
       "      <td>1</td>\n",
       "    </tr>\n",
       "    <tr>\n",
       "      <th>51716</th>\n",
       "      <td>13</td>\n",
       "      <td>1500.0</td>\n",
       "      <td>0</td>\n",
       "    </tr>\n",
       "  </tbody>\n",
       "</table>\n",
       "<p>51717 rows × 3 columns</p>\n",
       "</div>"
      ],
      "text/plain": [
       "       votes  approx_cost(for two people)  target\n",
       "0        775                        800.0       1\n",
       "1        787                        800.0       1\n",
       "2        918                        800.0       1\n",
       "3         88                        300.0       0\n",
       "4        166                        600.0       1\n",
       "...      ...                          ...     ...\n",
       "51712     27                       1500.0       0\n",
       "51713      0                        600.0       0\n",
       "51714      0                       2000.0       0\n",
       "51715    236                       2500.0       1\n",
       "51716     13                       1500.0       0\n",
       "\n",
       "[51717 rows x 3 columns]"
      ]
     },
     "execution_count": 96,
     "metadata": {},
     "output_type": "execute_result"
    }
   ],
   "source": [
    "# Creates a list num_features containing all columns that are not of type 'object' (i.e., numeric features)\n",
    "# Then displays these numerical columns from the DataFrame to review the quantitative data before modeling\n",
    "num_features = [col for col in data.columns if data[col].dtype!='O']\n",
    "data[num_features]"
   ]
  },
  {
   "cell_type": "code",
   "execution_count": 97,
   "id": "d87e7fde",
   "metadata": {},
   "outputs": [
    {
     "data": {
      "text/plain": [
       "2"
      ]
     },
     "execution_count": 97,
     "metadata": {},
     "output_type": "execute_result"
    }
   ],
   "source": [
    "data['online_order'].nunique()"
   ]
  },
  {
   "cell_type": "code",
   "execution_count": 98,
   "id": "a2343a6a",
   "metadata": {},
   "outputs": [
    {
     "name": "stdout",
     "output_type": "stream",
     "text": [
      "online_order has total 2 unique features\n",
      "book_table has total 2 unique features\n",
      "location has total 93 unique features\n",
      "rest_type has total 93 unique features\n",
      "listed_in(type) has total 7 unique features\n",
      "listed_in(city) has total 30 unique features\n"
     ]
    }
   ],
   "source": [
    "# Loops through each categorical feature and prints how many unique values it contains\n",
    "# This helps understand the variety or cardinality of each categorical column before encoding them into numeric form\n",
    "for feature in cat_features:\n",
    "    print('{} has total {} unique features'.format(feature , data[feature].nunique() ))"
   ]
  },
  {
   "cell_type": "code",
   "execution_count": 99,
   "id": "d448d7fc",
   "metadata": {},
   "outputs": [
    {
     "data": {
      "text/plain": [
       "0              Casual Dining\n",
       "1              Casual Dining\n",
       "2        Cafe, Casual Dining\n",
       "3                Quick Bites\n",
       "4              Casual Dining\n",
       "                ...         \n",
       "51712                    Bar\n",
       "51713                    Bar\n",
       "51714                    Bar\n",
       "51715                    Bar\n",
       "51716     Bar, Casual Dining\n",
       "Name: rest_type, Length: 51717, dtype: object"
      ]
     },
     "execution_count": 99,
     "metadata": {},
     "output_type": "execute_result"
    }
   ],
   "source": [
    "data['rest_type']"
   ]
  },
  {
   "cell_type": "markdown",
   "id": "b02ea374",
   "metadata": {},
   "source": [
    "How to find the number of items for each variable type for a particular feature "
   ]
  },
  {
   "cell_type": "code",
   "execution_count": 100,
   "id": "4090656c",
   "metadata": {},
   "outputs": [
    {
     "data": {
      "text/plain": [
       "rest_type\n",
       "Quick Bites       19132\n",
       "Casual Dining     10330\n",
       "Cafe               3732\n",
       "Delivery           2604\n",
       "Dessert Parlor     2263\n",
       "Name: count, dtype: int64"
      ]
     },
     "execution_count": 100,
     "metadata": {},
     "output_type": "execute_result"
    }
   ],
   "source": [
    "# Displays the top 5 most frequent values in the 'rest_type' column along with their counts\n",
    "# Useful for understanding which restaurant types are most common in the dataset\n",
    "data['rest_type'].value_counts()[0:5]"
   ]
  },
  {
   "cell_type": "code",
   "execution_count": 101,
   "id": "d0ce1eb2",
   "metadata": {},
   "outputs": [
    {
     "data": {
      "text/plain": [
       "rest_type\n",
       "Quick Bites       36.993638\n",
       "Casual Dining     19.974090\n",
       "Cafe               7.216196\n",
       "Delivery           5.035095\n",
       "Dessert Parlor     4.375737\n",
       "Name: count, dtype: float64"
      ]
     },
     "execution_count": 101,
     "metadata": {},
     "output_type": "execute_result"
    }
   ],
   "source": [
    "# Calculates the percentage of the top 5 most common restaurant types relative to the total number of records\n",
    "# Helps visualize how dominant these types are in the overall dataset\n",
    "data['rest_type'].value_counts()[0:5]/len(data)*100"
   ]
  },
  {
   "cell_type": "code",
   "execution_count": 102,
   "id": "8049cce8",
   "metadata": {},
   "outputs": [],
   "source": [
    "freq_cat = data['rest_type'].value_counts()[0:5]/len(data)*100"
   ]
  },
  {
   "cell_type": "code",
   "execution_count": 103,
   "id": "3f8974a5",
   "metadata": {},
   "outputs": [
    {
     "data": {
      "text/plain": [
       "Index(['Quick Bites', 'Casual Dining', 'Cafe', 'Delivery', 'Dessert Parlor'], dtype='object', name='rest_type')"
      ]
     },
     "execution_count": 103,
     "metadata": {},
     "output_type": "execute_result"
    }
   ],
   "source": [
    "freq_cat.index"
   ]
  },
  {
   "cell_type": "code",
   "execution_count": 104,
   "id": "7e21d557",
   "metadata": {},
   "outputs": [
    {
     "data": {
      "text/plain": [
       "0         True\n",
       "1         True\n",
       "2        False\n",
       "3         True\n",
       "4         True\n",
       "         ...  \n",
       "51712    False\n",
       "51713    False\n",
       "51714    False\n",
       "51715    False\n",
       "51716    False\n",
       "Name: rest_type, Length: 51717, dtype: bool"
      ]
     },
     "execution_count": 104,
     "metadata": {},
     "output_type": "execute_result"
    }
   ],
   "source": [
    "# Checks whether each value in the 'rest_type' column exists in the index of freq_cat\n",
    "# Returns a boolean Series (True/False) indicating which restaurant types are included in freq_cat\n",
    "data['rest_type'].isin(freq_cat.index)"
   ]
  },
  {
   "cell_type": "code",
   "execution_count": 105,
   "id": "2c279944",
   "metadata": {},
   "outputs": [
    {
     "data": {
      "text/html": [
       "<div>\n",
       "<style scoped>\n",
       "    .dataframe tbody tr th:only-of-type {\n",
       "        vertical-align: middle;\n",
       "    }\n",
       "\n",
       "    .dataframe tbody tr th {\n",
       "        vertical-align: top;\n",
       "    }\n",
       "\n",
       "    .dataframe thead th {\n",
       "        text-align: right;\n",
       "    }\n",
       "</style>\n",
       "<table border=\"1\" class=\"dataframe\">\n",
       "  <thead>\n",
       "    <tr style=\"text-align: right;\">\n",
       "      <th></th>\n",
       "      <th>online_order</th>\n",
       "      <th>book_table</th>\n",
       "      <th>votes</th>\n",
       "      <th>location</th>\n",
       "      <th>rest_type</th>\n",
       "      <th>approx_cost(for two people)</th>\n",
       "      <th>listed_in(type)</th>\n",
       "      <th>listed_in(city)</th>\n",
       "      <th>target</th>\n",
       "    </tr>\n",
       "  </thead>\n",
       "  <tbody>\n",
       "    <tr>\n",
       "      <th>0</th>\n",
       "      <td>Yes</td>\n",
       "      <td>Yes</td>\n",
       "      <td>775</td>\n",
       "      <td>Banashankari</td>\n",
       "      <td>Casual Dining</td>\n",
       "      <td>800.0</td>\n",
       "      <td>Buffet</td>\n",
       "      <td>Banashankari</td>\n",
       "      <td>1</td>\n",
       "    </tr>\n",
       "    <tr>\n",
       "      <th>1</th>\n",
       "      <td>Yes</td>\n",
       "      <td>No</td>\n",
       "      <td>787</td>\n",
       "      <td>Banashankari</td>\n",
       "      <td>Casual Dining</td>\n",
       "      <td>800.0</td>\n",
       "      <td>Buffet</td>\n",
       "      <td>Banashankari</td>\n",
       "      <td>1</td>\n",
       "    </tr>\n",
       "    <tr>\n",
       "      <th>3</th>\n",
       "      <td>No</td>\n",
       "      <td>No</td>\n",
       "      <td>88</td>\n",
       "      <td>Banashankari</td>\n",
       "      <td>Quick Bites</td>\n",
       "      <td>300.0</td>\n",
       "      <td>Buffet</td>\n",
       "      <td>Banashankari</td>\n",
       "      <td>0</td>\n",
       "    </tr>\n",
       "    <tr>\n",
       "      <th>4</th>\n",
       "      <td>No</td>\n",
       "      <td>No</td>\n",
       "      <td>166</td>\n",
       "      <td>Basavanagudi</td>\n",
       "      <td>Casual Dining</td>\n",
       "      <td>600.0</td>\n",
       "      <td>Buffet</td>\n",
       "      <td>Banashankari</td>\n",
       "      <td>1</td>\n",
       "    </tr>\n",
       "    <tr>\n",
       "      <th>5</th>\n",
       "      <td>Yes</td>\n",
       "      <td>No</td>\n",
       "      <td>286</td>\n",
       "      <td>Basavanagudi</td>\n",
       "      <td>Casual Dining</td>\n",
       "      <td>600.0</td>\n",
       "      <td>Buffet</td>\n",
       "      <td>Banashankari</td>\n",
       "      <td>1</td>\n",
       "    </tr>\n",
       "    <tr>\n",
       "      <th>...</th>\n",
       "      <td>...</td>\n",
       "      <td>...</td>\n",
       "      <td>...</td>\n",
       "      <td>...</td>\n",
       "      <td>...</td>\n",
       "      <td>...</td>\n",
       "      <td>...</td>\n",
       "      <td>...</td>\n",
       "      <td>...</td>\n",
       "    </tr>\n",
       "    <tr>\n",
       "      <th>51641</th>\n",
       "      <td>No</td>\n",
       "      <td>No</td>\n",
       "      <td>4</td>\n",
       "      <td>Brookefield</td>\n",
       "      <td>Quick Bites</td>\n",
       "      <td>NaN</td>\n",
       "      <td>Dine-out</td>\n",
       "      <td>Whitefield</td>\n",
       "      <td>0</td>\n",
       "    </tr>\n",
       "    <tr>\n",
       "      <th>51642</th>\n",
       "      <td>No</td>\n",
       "      <td>No</td>\n",
       "      <td>0</td>\n",
       "      <td>Brookefield</td>\n",
       "      <td>Quick Bites</td>\n",
       "      <td>200.0</td>\n",
       "      <td>Dine-out</td>\n",
       "      <td>Whitefield</td>\n",
       "      <td>0</td>\n",
       "    </tr>\n",
       "    <tr>\n",
       "      <th>51643</th>\n",
       "      <td>No</td>\n",
       "      <td>No</td>\n",
       "      <td>0</td>\n",
       "      <td>Brookefield</td>\n",
       "      <td>Quick Bites</td>\n",
       "      <td>300.0</td>\n",
       "      <td>Dine-out</td>\n",
       "      <td>Whitefield</td>\n",
       "      <td>0</td>\n",
       "    </tr>\n",
       "    <tr>\n",
       "      <th>51644</th>\n",
       "      <td>No</td>\n",
       "      <td>No</td>\n",
       "      <td>0</td>\n",
       "      <td>Brookefield</td>\n",
       "      <td>Quick Bites</td>\n",
       "      <td>400.0</td>\n",
       "      <td>Dine-out</td>\n",
       "      <td>Whitefield</td>\n",
       "      <td>0</td>\n",
       "    </tr>\n",
       "    <tr>\n",
       "      <th>51645</th>\n",
       "      <td>Yes</td>\n",
       "      <td>No</td>\n",
       "      <td>49</td>\n",
       "      <td>Brookefield</td>\n",
       "      <td>Quick Bites</td>\n",
       "      <td>300.0</td>\n",
       "      <td>Dine-out</td>\n",
       "      <td>Whitefield</td>\n",
       "      <td>0</td>\n",
       "    </tr>\n",
       "  </tbody>\n",
       "</table>\n",
       "<p>38061 rows × 9 columns</p>\n",
       "</div>"
      ],
      "text/plain": [
       "      online_order book_table  votes      location      rest_type  \\\n",
       "0              Yes        Yes    775  Banashankari  Casual Dining   \n",
       "1              Yes         No    787  Banashankari  Casual Dining   \n",
       "3               No         No     88  Banashankari    Quick Bites   \n",
       "4               No         No    166  Basavanagudi  Casual Dining   \n",
       "5              Yes         No    286  Basavanagudi  Casual Dining   \n",
       "...            ...        ...    ...           ...            ...   \n",
       "51641           No         No      4   Brookefield    Quick Bites   \n",
       "51642           No         No      0   Brookefield    Quick Bites   \n",
       "51643           No         No      0   Brookefield    Quick Bites   \n",
       "51644           No         No      0   Brookefield    Quick Bites   \n",
       "51645          Yes         No     49   Brookefield    Quick Bites   \n",
       "\n",
       "       approx_cost(for two people) listed_in(type) listed_in(city)  target  \n",
       "0                            800.0          Buffet    Banashankari       1  \n",
       "1                            800.0          Buffet    Banashankari       1  \n",
       "3                            300.0          Buffet    Banashankari       0  \n",
       "4                            600.0          Buffet    Banashankari       1  \n",
       "5                            600.0          Buffet    Banashankari       1  \n",
       "...                            ...             ...             ...     ...  \n",
       "51641                          NaN        Dine-out      Whitefield       0  \n",
       "51642                        200.0        Dine-out      Whitefield       0  \n",
       "51643                        300.0        Dine-out      Whitefield       0  \n",
       "51644                        400.0        Dine-out      Whitefield       0  \n",
       "51645                        300.0        Dine-out      Whitefield       0  \n",
       "\n",
       "[38061 rows x 9 columns]"
      ]
     },
     "execution_count": 105,
     "metadata": {},
     "output_type": "execute_result"
    }
   ],
   "source": [
    "data[data['rest_type'].isin(freq_cat.index)]"
   ]
  },
  {
   "cell_type": "code",
   "execution_count": 106,
   "id": "4685102b",
   "metadata": {},
   "outputs": [
    {
     "data": {
      "text/plain": [
       "0        Casual Dining\n",
       "1        Casual Dining\n",
       "2                other\n",
       "3          Quick Bites\n",
       "4        Casual Dining\n",
       "             ...      \n",
       "51712            other\n",
       "51713            other\n",
       "51714            other\n",
       "51715            other\n",
       "51716            other\n",
       "Name: rest_type, Length: 51717, dtype: object"
      ]
     },
     "execution_count": 106,
     "metadata": {},
     "output_type": "execute_result"
    }
   ],
   "source": [
    "# Replaces rare restaurant types with the label 'other' while keeping frequent ones unchanged\n",
    "# This reduces the number of unique categories, simplifying the data and avoiding sparse encoding during modeling\n",
    "data['rest_type'].apply(lambda x: 'other' if x not in freq_cat.index else x)"
   ]
  },
  {
   "cell_type": "code",
   "execution_count": 107,
   "id": "08d7b256",
   "metadata": {},
   "outputs": [],
   "source": [
    "# Updates the 'rest_type' column so that any category not found in freq_cat is replaced with 'other'\n",
    "# This step finalizes the grouping of rare restaurant types into a single category to simplify the feature for modeling\n",
    "data['rest_type'] = data['rest_type'].apply(lambda x: 'other' if x not in freq_cat.index else x)"
   ]
  },
  {
   "cell_type": "code",
   "execution_count": 108,
   "id": "e23ba6c0",
   "metadata": {},
   "outputs": [
    {
     "data": {
      "text/plain": [
       "listed_in(city)\n",
       "BTM                      6.340275\n",
       "Koramangala 7th Block    5.680917\n",
       "Koramangala 5th Block    5.483690\n",
       "Koramangala 4th Block    5.373475\n",
       "Koramangala 6th Block    5.071833\n",
       "Jayanagar                4.584566\n",
       "JP Nagar                 4.052826\n",
       "Indiranagar              3.596496\n",
       "Church Street            3.532688\n",
       "MG Road                  3.501750\n",
       "Brigade Road             3.420539\n",
       "Lavelle Road             3.372199\n",
       "HSR                      3.366398\n",
       "Marathahalli             3.207843\n",
       "Residency Road           3.132432\n",
       "Whitefield               3.132432\n",
       "Bannerghatta Road        3.126631\n",
       "Brookefield              2.935205\n",
       "Old Airport Road         2.755380\n",
       "Kammanahalli             2.569755\n",
       "Kalyan Nagar             2.531083\n",
       "Basavanagudi             2.447938\n",
       "Sarjapur Road            2.438270\n",
       "Electronic City          2.376395\n",
       "Bellandur                2.372527\n",
       "Frazer Town              2.291316\n",
       "Malleshwaram             2.119226\n",
       "Rajajinagar              2.086355\n",
       "Banashankari             1.668697\n",
       "New BEL Road             1.430864\n",
       "Name: count, dtype: float64"
      ]
     },
     "execution_count": 108,
     "metadata": {},
     "output_type": "execute_result"
    }
   ],
   "source": [
    "data['listed_in(city)'].value_counts()/len(data)*100"
   ]
  },
  {
   "cell_type": "code",
   "execution_count": 109,
   "id": "8dc4f874",
   "metadata": {},
   "outputs": [
    {
     "data": {
      "text/plain": [
       "location\n",
       "BTM                      9.907767\n",
       "HSR                      4.878473\n",
       "Koramangala 5th Block    4.841735\n",
       "JP Nagar                 4.321596\n",
       "Whitefield               4.145639\n",
       "                           ...   \n",
       "Yelahanka                0.011602\n",
       "West Bangalore           0.011602\n",
       "Jakkur                   0.005801\n",
       "Rajarajeshwari Nagar     0.003867\n",
       "Peenya                   0.001934\n",
       "Name: count, Length: 93, dtype: float64"
      ]
     },
     "execution_count": 109,
     "metadata": {},
     "output_type": "execute_result"
    }
   ],
   "source": [
    "data['location'].value_counts()/len(data)*100"
   ]
  },
  {
   "cell_type": "markdown",
   "id": "d4e5d7dd",
   "metadata": {},
   "source": [
    "as we can see , the top 5 or even top 10 are not enough (70-90% of the unique variables) which means we cannot use the 'top 5' mehotd"
   ]
  },
  {
   "cell_type": "code",
   "execution_count": 110,
   "id": "4053de3f",
   "metadata": {},
   "outputs": [
    {
     "data": {
      "text/html": [
       "<div>\n",
       "<style scoped>\n",
       "    .dataframe tbody tr th:only-of-type {\n",
       "        vertical-align: middle;\n",
       "    }\n",
       "\n",
       "    .dataframe tbody tr th {\n",
       "        vertical-align: top;\n",
       "    }\n",
       "\n",
       "    .dataframe thead th {\n",
       "        text-align: right;\n",
       "    }\n",
       "</style>\n",
       "<table border=\"1\" class=\"dataframe\">\n",
       "  <thead>\n",
       "    <tr style=\"text-align: right;\">\n",
       "      <th></th>\n",
       "      <th>online_order_Yes</th>\n",
       "    </tr>\n",
       "  </thead>\n",
       "  <tbody>\n",
       "    <tr>\n",
       "      <th>0</th>\n",
       "      <td>1</td>\n",
       "    </tr>\n",
       "    <tr>\n",
       "      <th>1</th>\n",
       "      <td>1</td>\n",
       "    </tr>\n",
       "    <tr>\n",
       "      <th>2</th>\n",
       "      <td>1</td>\n",
       "    </tr>\n",
       "    <tr>\n",
       "      <th>3</th>\n",
       "      <td>0</td>\n",
       "    </tr>\n",
       "    <tr>\n",
       "      <th>4</th>\n",
       "      <td>0</td>\n",
       "    </tr>\n",
       "    <tr>\n",
       "      <th>...</th>\n",
       "      <td>...</td>\n",
       "    </tr>\n",
       "    <tr>\n",
       "      <th>51712</th>\n",
       "      <td>0</td>\n",
       "    </tr>\n",
       "    <tr>\n",
       "      <th>51713</th>\n",
       "      <td>0</td>\n",
       "    </tr>\n",
       "    <tr>\n",
       "      <th>51714</th>\n",
       "      <td>0</td>\n",
       "    </tr>\n",
       "    <tr>\n",
       "      <th>51715</th>\n",
       "      <td>0</td>\n",
       "    </tr>\n",
       "    <tr>\n",
       "      <th>51716</th>\n",
       "      <td>0</td>\n",
       "    </tr>\n",
       "  </tbody>\n",
       "</table>\n",
       "<p>51717 rows × 1 columns</p>\n",
       "</div>"
      ],
      "text/plain": [
       "       online_order_Yes\n",
       "0                     1\n",
       "1                     1\n",
       "2                     1\n",
       "3                     0\n",
       "4                     0\n",
       "...                 ...\n",
       "51712                 0\n",
       "51713                 0\n",
       "51714                 0\n",
       "51715                 0\n",
       "51716                 0\n",
       "\n",
       "[51717 rows x 1 columns]"
      ]
     },
     "execution_count": 110,
     "metadata": {},
     "output_type": "execute_result"
    }
   ],
   "source": [
    "# Converts the 'online_order' column into dummy variables (0/1) using one-hot encoding\n",
    "# drop_first=True removes one column to avoid redundancy (dummy variable trap)\n",
    "# .astype(int) ensures the resulting values are integers (0 and 1) instead of booleans\n",
    "pd.get_dummies(data['online_order'], prefix='online_order', drop_first=True).astype(int)\n",
    "\n",
    "# data['online_order']"
   ]
  },
  {
   "cell_type": "code",
   "execution_count": 111,
   "id": "9b31bf4f",
   "metadata": {},
   "outputs": [],
   "source": [
    "# Loops through selected categorical columns and performs one-hot encoding for each\n",
    "# Creates dummy variables for all categories (excluding the first to prevent redundancy)\n",
    "# Concatenates the new encoded columns back into the main DataFrame, expanding it with numerical representations of categorical data\n",
    "for col in ['online_order','book_table','rest_type','listed_in(type)']:\n",
    "    col_encoded = pd.get_dummies(data[col],prefix=col,drop_first=True).astype(int)\n",
    "    data = pd.concat([data,col_encoded],axis=1)"
   ]
  },
  {
   "cell_type": "code",
   "execution_count": 112,
   "id": "0185bb11",
   "metadata": {},
   "outputs": [
    {
     "data": {
      "text/html": [
       "<div>\n",
       "<style scoped>\n",
       "    .dataframe tbody tr th:only-of-type {\n",
       "        vertical-align: middle;\n",
       "    }\n",
       "\n",
       "    .dataframe tbody tr th {\n",
       "        vertical-align: top;\n",
       "    }\n",
       "\n",
       "    .dataframe thead th {\n",
       "        text-align: right;\n",
       "    }\n",
       "</style>\n",
       "<table border=\"1\" class=\"dataframe\">\n",
       "  <thead>\n",
       "    <tr style=\"text-align: right;\">\n",
       "      <th></th>\n",
       "      <th>online_order</th>\n",
       "      <th>book_table</th>\n",
       "      <th>votes</th>\n",
       "      <th>location</th>\n",
       "      <th>rest_type</th>\n",
       "      <th>approx_cost(for two people)</th>\n",
       "      <th>listed_in(type)</th>\n",
       "      <th>listed_in(city)</th>\n",
       "      <th>target</th>\n",
       "      <th>online_order_Yes</th>\n",
       "      <th>...</th>\n",
       "      <th>rest_type_Delivery</th>\n",
       "      <th>rest_type_Dessert Parlor</th>\n",
       "      <th>rest_type_Quick Bites</th>\n",
       "      <th>rest_type_other</th>\n",
       "      <th>listed_in(type)_Cafes</th>\n",
       "      <th>listed_in(type)_Delivery</th>\n",
       "      <th>listed_in(type)_Desserts</th>\n",
       "      <th>listed_in(type)_Dine-out</th>\n",
       "      <th>listed_in(type)_Drinks &amp; nightlife</th>\n",
       "      <th>listed_in(type)_Pubs and bars</th>\n",
       "    </tr>\n",
       "  </thead>\n",
       "  <tbody>\n",
       "    <tr>\n",
       "      <th>0</th>\n",
       "      <td>Yes</td>\n",
       "      <td>Yes</td>\n",
       "      <td>775</td>\n",
       "      <td>Banashankari</td>\n",
       "      <td>Casual Dining</td>\n",
       "      <td>800.0</td>\n",
       "      <td>Buffet</td>\n",
       "      <td>Banashankari</td>\n",
       "      <td>1</td>\n",
       "      <td>1</td>\n",
       "      <td>...</td>\n",
       "      <td>0</td>\n",
       "      <td>0</td>\n",
       "      <td>0</td>\n",
       "      <td>0</td>\n",
       "      <td>0</td>\n",
       "      <td>0</td>\n",
       "      <td>0</td>\n",
       "      <td>0</td>\n",
       "      <td>0</td>\n",
       "      <td>0</td>\n",
       "    </tr>\n",
       "    <tr>\n",
       "      <th>1</th>\n",
       "      <td>Yes</td>\n",
       "      <td>No</td>\n",
       "      <td>787</td>\n",
       "      <td>Banashankari</td>\n",
       "      <td>Casual Dining</td>\n",
       "      <td>800.0</td>\n",
       "      <td>Buffet</td>\n",
       "      <td>Banashankari</td>\n",
       "      <td>1</td>\n",
       "      <td>1</td>\n",
       "      <td>...</td>\n",
       "      <td>0</td>\n",
       "      <td>0</td>\n",
       "      <td>0</td>\n",
       "      <td>0</td>\n",
       "      <td>0</td>\n",
       "      <td>0</td>\n",
       "      <td>0</td>\n",
       "      <td>0</td>\n",
       "      <td>0</td>\n",
       "      <td>0</td>\n",
       "    </tr>\n",
       "    <tr>\n",
       "      <th>2</th>\n",
       "      <td>Yes</td>\n",
       "      <td>No</td>\n",
       "      <td>918</td>\n",
       "      <td>Banashankari</td>\n",
       "      <td>other</td>\n",
       "      <td>800.0</td>\n",
       "      <td>Buffet</td>\n",
       "      <td>Banashankari</td>\n",
       "      <td>1</td>\n",
       "      <td>1</td>\n",
       "      <td>...</td>\n",
       "      <td>0</td>\n",
       "      <td>0</td>\n",
       "      <td>0</td>\n",
       "      <td>1</td>\n",
       "      <td>0</td>\n",
       "      <td>0</td>\n",
       "      <td>0</td>\n",
       "      <td>0</td>\n",
       "      <td>0</td>\n",
       "      <td>0</td>\n",
       "    </tr>\n",
       "    <tr>\n",
       "      <th>3</th>\n",
       "      <td>No</td>\n",
       "      <td>No</td>\n",
       "      <td>88</td>\n",
       "      <td>Banashankari</td>\n",
       "      <td>Quick Bites</td>\n",
       "      <td>300.0</td>\n",
       "      <td>Buffet</td>\n",
       "      <td>Banashankari</td>\n",
       "      <td>0</td>\n",
       "      <td>0</td>\n",
       "      <td>...</td>\n",
       "      <td>0</td>\n",
       "      <td>0</td>\n",
       "      <td>1</td>\n",
       "      <td>0</td>\n",
       "      <td>0</td>\n",
       "      <td>0</td>\n",
       "      <td>0</td>\n",
       "      <td>0</td>\n",
       "      <td>0</td>\n",
       "      <td>0</td>\n",
       "    </tr>\n",
       "    <tr>\n",
       "      <th>4</th>\n",
       "      <td>No</td>\n",
       "      <td>No</td>\n",
       "      <td>166</td>\n",
       "      <td>Basavanagudi</td>\n",
       "      <td>Casual Dining</td>\n",
       "      <td>600.0</td>\n",
       "      <td>Buffet</td>\n",
       "      <td>Banashankari</td>\n",
       "      <td>1</td>\n",
       "      <td>0</td>\n",
       "      <td>...</td>\n",
       "      <td>0</td>\n",
       "      <td>0</td>\n",
       "      <td>0</td>\n",
       "      <td>0</td>\n",
       "      <td>0</td>\n",
       "      <td>0</td>\n",
       "      <td>0</td>\n",
       "      <td>0</td>\n",
       "      <td>0</td>\n",
       "      <td>0</td>\n",
       "    </tr>\n",
       "  </tbody>\n",
       "</table>\n",
       "<p>5 rows × 22 columns</p>\n",
       "</div>"
      ],
      "text/plain": [
       "  online_order book_table  votes      location      rest_type  \\\n",
       "0          Yes        Yes    775  Banashankari  Casual Dining   \n",
       "1          Yes         No    787  Banashankari  Casual Dining   \n",
       "2          Yes         No    918  Banashankari          other   \n",
       "3           No         No     88  Banashankari    Quick Bites   \n",
       "4           No         No    166  Basavanagudi  Casual Dining   \n",
       "\n",
       "   approx_cost(for two people) listed_in(type) listed_in(city)  target  \\\n",
       "0                        800.0          Buffet    Banashankari       1   \n",
       "1                        800.0          Buffet    Banashankari       1   \n",
       "2                        800.0          Buffet    Banashankari       1   \n",
       "3                        300.0          Buffet    Banashankari       0   \n",
       "4                        600.0          Buffet    Banashankari       1   \n",
       "\n",
       "   online_order_Yes  ...  rest_type_Delivery  rest_type_Dessert Parlor  \\\n",
       "0                 1  ...                   0                         0   \n",
       "1                 1  ...                   0                         0   \n",
       "2                 1  ...                   0                         0   \n",
       "3                 0  ...                   0                         0   \n",
       "4                 0  ...                   0                         0   \n",
       "\n",
       "   rest_type_Quick Bites  rest_type_other  listed_in(type)_Cafes  \\\n",
       "0                      0                0                      0   \n",
       "1                      0                0                      0   \n",
       "2                      0                1                      0   \n",
       "3                      1                0                      0   \n",
       "4                      0                0                      0   \n",
       "\n",
       "   listed_in(type)_Delivery  listed_in(type)_Desserts  \\\n",
       "0                         0                         0   \n",
       "1                         0                         0   \n",
       "2                         0                         0   \n",
       "3                         0                         0   \n",
       "4                         0                         0   \n",
       "\n",
       "   listed_in(type)_Dine-out  listed_in(type)_Drinks & nightlife  \\\n",
       "0                         0                                   0   \n",
       "1                         0                                   0   \n",
       "2                         0                                   0   \n",
       "3                         0                                   0   \n",
       "4                         0                                   0   \n",
       "\n",
       "   listed_in(type)_Pubs and bars  \n",
       "0                              0  \n",
       "1                              0  \n",
       "2                              0  \n",
       "3                              0  \n",
       "4                              0  \n",
       "\n",
       "[5 rows x 22 columns]"
      ]
     },
     "execution_count": 112,
     "metadata": {},
     "output_type": "execute_result"
    }
   ],
   "source": [
    "data.head()"
   ]
  },
  {
   "cell_type": "code",
   "execution_count": 113,
   "id": "4f94c086",
   "metadata": {},
   "outputs": [
    {
     "data": {
      "text/plain": [
       "location\n",
       "BTM                  0.240632\n",
       "Banashankari         0.390728\n",
       "Banaswadi            0.180723\n",
       "Bannerghatta Road    0.220859\n",
       "Basavanagudi         0.429825\n",
       "                       ...   \n",
       "West Bangalore       0.000000\n",
       "Whitefield           0.293377\n",
       "Wilson Garden        0.207317\n",
       "Yelahanka            0.333333\n",
       "Yeshwantpur          0.210084\n",
       "Name: target, Length: 93, dtype: float64"
      ]
     },
     "execution_count": 113,
     "metadata": {},
     "output_type": "execute_result"
    }
   ],
   "source": [
    "# Groups the data by restaurant location and calculates the average of the 'target' column for each location\n",
    "# This shows which areas tend to have higher-rated restaurants on average\n",
    "data.groupby(['location'])['target'].mean()"
   ]
  },
  {
   "cell_type": "code",
   "execution_count": 114,
   "id": "a206b5fc",
   "metadata": {},
   "outputs": [],
   "source": [
    "# Creates a dictionary where each key is a restaurant location and each value is the average target (rating level) for that location\n",
    "# Useful for encoding or analyzing location-based rating trends later in the workflow\n",
    "dict_mean_location = data.groupby(['location'])['target'].mean().to_dict()\n",
    "# data.groupby(['location'])['target'].mean().to_dict()"
   ]
  },
  {
   "cell_type": "code",
   "execution_count": 115,
   "id": "d0a42c72",
   "metadata": {},
   "outputs": [],
   "source": [
    "# Replaces each location in the 'location' column with its corresponding average target value from dict_mean_location\n",
    "# This converts the categorical 'location' feature into a numeric representation based on how well restaurants perform in that area\n",
    "data['location'] =data['location'].map(dict_mean_location)"
   ]
  },
  {
   "cell_type": "code",
   "execution_count": 116,
   "id": "1ebcdd84",
   "metadata": {},
   "outputs": [
    {
     "data": {
      "text/plain": [
       "0        0.390728\n",
       "1        0.390728\n",
       "2        0.390728\n",
       "3        0.390728\n",
       "4        0.429825\n",
       "           ...   \n",
       "51712    0.293377\n",
       "51713    0.293377\n",
       "51714    0.293377\n",
       "51715    0.230088\n",
       "51716    0.230088\n",
       "Name: location, Length: 51717, dtype: float64"
      ]
     },
     "execution_count": 116,
     "metadata": {},
     "output_type": "execute_result"
    }
   ],
   "source": [
    "data['location']"
   ]
  },
  {
   "cell_type": "code",
   "execution_count": 117,
   "id": "56edb250",
   "metadata": {},
   "outputs": [
    {
     "data": {
      "text/plain": [
       "{'BTM': 0.3854833790789875,\n",
       " 'Banashankari': 0.3962920046349942,\n",
       " 'Bannerghatta Road': 0.25479282622139765,\n",
       " 'Basavanagudi': 0.43364928909952605,\n",
       " 'Bellandur': 0.31947840260798693,\n",
       " 'Brigade Road': 0.5019785189372526,\n",
       " 'Brookefield': 0.2621870882740448,\n",
       " 'Church Street': 0.49808429118773945,\n",
       " 'Electronic City': 0.1724979658258747,\n",
       " 'Frazer Town': 0.4160337552742616,\n",
       " 'HSR': 0.35611717403790927,\n",
       " 'Indiranagar': 0.4650537634408602,\n",
       " 'JP Nagar': 0.3268129770992366,\n",
       " 'Jayanagar': 0.39561366512020246,\n",
       " 'Kalyan Nagar': 0.3254392666157372,\n",
       " 'Kammanahalli': 0.33559066967644846,\n",
       " 'Koramangala 4th Block': 0.43468873695573945,\n",
       " 'Koramangala 5th Block': 0.4263046544428773,\n",
       " 'Koramangala 6th Block': 0.43804803659931374,\n",
       " 'Koramangala 7th Block': 0.4329475833900613,\n",
       " 'Lavelle Road': 0.474197247706422,\n",
       " 'MG Road': 0.507454445057979,\n",
       " 'Malleshwaram': 0.4306569343065693,\n",
       " 'Marathahalli': 0.26341169379144064,\n",
       " 'New BEL Road': 0.3081081081081081,\n",
       " 'Old Airport Road': 0.4435087719298246,\n",
       " 'Rajajinagar': 0.35495829471733087,\n",
       " 'Residency Road': 0.48518518518518516,\n",
       " 'Sarjapur Road': 0.3164155432196669,\n",
       " 'Whitefield': 0.29814814814814816}"
      ]
     },
     "execution_count": 117,
     "metadata": {},
     "output_type": "execute_result"
    }
   ],
   "source": [
    "dict_mean_city = data.groupby(['listed_in(city)'])['target'].mean().to_dict()\n",
    "dict_mean_city"
   ]
  },
  {
   "cell_type": "code",
   "execution_count": 118,
   "id": "b6841267",
   "metadata": {},
   "outputs": [],
   "source": [
    "data['listed_in(city)'] =data['listed_in(city)'].map(dict_mean_city)"
   ]
  },
  {
   "cell_type": "code",
   "execution_count": 119,
   "id": "5e5f4d56",
   "metadata": {},
   "outputs": [
    {
     "data": {
      "text/plain": [
       "0        0.396292\n",
       "1        0.396292\n",
       "2        0.396292\n",
       "3        0.396292\n",
       "4        0.396292\n",
       "           ...   \n",
       "51712    0.298148\n",
       "51713    0.298148\n",
       "51714    0.298148\n",
       "51715    0.298148\n",
       "51716    0.298148\n",
       "Name: listed_in(city), Length: 51717, dtype: float64"
      ]
     },
     "execution_count": 119,
     "metadata": {},
     "output_type": "execute_result"
    }
   ],
   "source": [
    "data['listed_in(city)']"
   ]
  },
  {
   "cell_type": "code",
   "execution_count": 120,
   "id": "7e715868",
   "metadata": {},
   "outputs": [
    {
     "data": {
      "text/plain": [
       "['online_order',\n",
       " 'book_table',\n",
       " 'location',\n",
       " 'rest_type',\n",
       " 'listed_in(type)',\n",
       " 'listed_in(city)']"
      ]
     },
     "execution_count": 120,
     "metadata": {},
     "output_type": "execute_result"
    }
   ],
   "source": [
    "cat_features"
   ]
  },
  {
   "cell_type": "markdown",
   "id": "d4d17f37",
   "metadata": {},
   "source": [
    "Now we've completed the encoding for the selected categorical features\n",
    "\n",
    "The next step will be to drop the original text-based columns since their encoded numeric versions are already included in the dataset"
   ]
  },
  {
   "cell_type": "code",
   "execution_count": 121,
   "id": "9b92432a",
   "metadata": {},
   "outputs": [
    {
     "data": {
      "text/html": [
       "<div>\n",
       "<style scoped>\n",
       "    .dataframe tbody tr th:only-of-type {\n",
       "        vertical-align: middle;\n",
       "    }\n",
       "\n",
       "    .dataframe tbody tr th {\n",
       "        vertical-align: top;\n",
       "    }\n",
       "\n",
       "    .dataframe thead th {\n",
       "        text-align: right;\n",
       "    }\n",
       "</style>\n",
       "<table border=\"1\" class=\"dataframe\">\n",
       "  <thead>\n",
       "    <tr style=\"text-align: right;\">\n",
       "      <th></th>\n",
       "      <th>online_order</th>\n",
       "      <th>book_table</th>\n",
       "      <th>votes</th>\n",
       "      <th>location</th>\n",
       "      <th>rest_type</th>\n",
       "      <th>approx_cost(for two people)</th>\n",
       "      <th>listed_in(type)</th>\n",
       "      <th>listed_in(city)</th>\n",
       "      <th>target</th>\n",
       "      <th>online_order_Yes</th>\n",
       "      <th>...</th>\n",
       "      <th>rest_type_Delivery</th>\n",
       "      <th>rest_type_Dessert Parlor</th>\n",
       "      <th>rest_type_Quick Bites</th>\n",
       "      <th>rest_type_other</th>\n",
       "      <th>listed_in(type)_Cafes</th>\n",
       "      <th>listed_in(type)_Delivery</th>\n",
       "      <th>listed_in(type)_Desserts</th>\n",
       "      <th>listed_in(type)_Dine-out</th>\n",
       "      <th>listed_in(type)_Drinks &amp; nightlife</th>\n",
       "      <th>listed_in(type)_Pubs and bars</th>\n",
       "    </tr>\n",
       "  </thead>\n",
       "  <tbody>\n",
       "    <tr>\n",
       "      <th>0</th>\n",
       "      <td>Yes</td>\n",
       "      <td>Yes</td>\n",
       "      <td>775</td>\n",
       "      <td>0.390728</td>\n",
       "      <td>Casual Dining</td>\n",
       "      <td>800.0</td>\n",
       "      <td>Buffet</td>\n",
       "      <td>0.396292</td>\n",
       "      <td>1</td>\n",
       "      <td>1</td>\n",
       "      <td>...</td>\n",
       "      <td>0</td>\n",
       "      <td>0</td>\n",
       "      <td>0</td>\n",
       "      <td>0</td>\n",
       "      <td>0</td>\n",
       "      <td>0</td>\n",
       "      <td>0</td>\n",
       "      <td>0</td>\n",
       "      <td>0</td>\n",
       "      <td>0</td>\n",
       "    </tr>\n",
       "    <tr>\n",
       "      <th>1</th>\n",
       "      <td>Yes</td>\n",
       "      <td>No</td>\n",
       "      <td>787</td>\n",
       "      <td>0.390728</td>\n",
       "      <td>Casual Dining</td>\n",
       "      <td>800.0</td>\n",
       "      <td>Buffet</td>\n",
       "      <td>0.396292</td>\n",
       "      <td>1</td>\n",
       "      <td>1</td>\n",
       "      <td>...</td>\n",
       "      <td>0</td>\n",
       "      <td>0</td>\n",
       "      <td>0</td>\n",
       "      <td>0</td>\n",
       "      <td>0</td>\n",
       "      <td>0</td>\n",
       "      <td>0</td>\n",
       "      <td>0</td>\n",
       "      <td>0</td>\n",
       "      <td>0</td>\n",
       "    </tr>\n",
       "    <tr>\n",
       "      <th>2</th>\n",
       "      <td>Yes</td>\n",
       "      <td>No</td>\n",
       "      <td>918</td>\n",
       "      <td>0.390728</td>\n",
       "      <td>other</td>\n",
       "      <td>800.0</td>\n",
       "      <td>Buffet</td>\n",
       "      <td>0.396292</td>\n",
       "      <td>1</td>\n",
       "      <td>1</td>\n",
       "      <td>...</td>\n",
       "      <td>0</td>\n",
       "      <td>0</td>\n",
       "      <td>0</td>\n",
       "      <td>1</td>\n",
       "      <td>0</td>\n",
       "      <td>0</td>\n",
       "      <td>0</td>\n",
       "      <td>0</td>\n",
       "      <td>0</td>\n",
       "      <td>0</td>\n",
       "    </tr>\n",
       "  </tbody>\n",
       "</table>\n",
       "<p>3 rows × 22 columns</p>\n",
       "</div>"
      ],
      "text/plain": [
       "  online_order book_table  votes  location      rest_type  \\\n",
       "0          Yes        Yes    775  0.390728  Casual Dining   \n",
       "1          Yes         No    787  0.390728  Casual Dining   \n",
       "2          Yes         No    918  0.390728          other   \n",
       "\n",
       "   approx_cost(for two people) listed_in(type)  listed_in(city)  target  \\\n",
       "0                        800.0          Buffet         0.396292       1   \n",
       "1                        800.0          Buffet         0.396292       1   \n",
       "2                        800.0          Buffet         0.396292       1   \n",
       "\n",
       "   online_order_Yes  ...  rest_type_Delivery  rest_type_Dessert Parlor  \\\n",
       "0                 1  ...                   0                         0   \n",
       "1                 1  ...                   0                         0   \n",
       "2                 1  ...                   0                         0   \n",
       "\n",
       "   rest_type_Quick Bites  rest_type_other  listed_in(type)_Cafes  \\\n",
       "0                      0                0                      0   \n",
       "1                      0                0                      0   \n",
       "2                      0                1                      0   \n",
       "\n",
       "   listed_in(type)_Delivery  listed_in(type)_Desserts  \\\n",
       "0                         0                         0   \n",
       "1                         0                         0   \n",
       "2                         0                         0   \n",
       "\n",
       "   listed_in(type)_Dine-out  listed_in(type)_Drinks & nightlife  \\\n",
       "0                         0                                   0   \n",
       "1                         0                                   0   \n",
       "2                         0                                   0   \n",
       "\n",
       "   listed_in(type)_Pubs and bars  \n",
       "0                              0  \n",
       "1                              0  \n",
       "2                              0  \n",
       "\n",
       "[3 rows x 22 columns]"
      ]
     },
     "execution_count": 121,
     "metadata": {},
     "output_type": "execute_result"
    }
   ],
   "source": [
    "data.head(3)"
   ]
  },
  {
   "cell_type": "code",
   "execution_count": 122,
   "id": "cdd9d506",
   "metadata": {},
   "outputs": [],
   "source": [
    "# Removes the original categorical columns that were already one-hot encoded\n",
    "# This keeps the dataset clean and avoids duplicate information before further analysis or modeling\n",
    "data.drop(['online_order', 'book_table','rest_type','listed_in(type)'], axis=1,inplace=True)"
   ]
  },
  {
   "cell_type": "code",
   "execution_count": 123,
   "id": "b8ee4423",
   "metadata": {},
   "outputs": [
    {
     "data": {
      "text/html": [
       "<div>\n",
       "<style scoped>\n",
       "    .dataframe tbody tr th:only-of-type {\n",
       "        vertical-align: middle;\n",
       "    }\n",
       "\n",
       "    .dataframe tbody tr th {\n",
       "        vertical-align: top;\n",
       "    }\n",
       "\n",
       "    .dataframe thead th {\n",
       "        text-align: right;\n",
       "    }\n",
       "</style>\n",
       "<table border=\"1\" class=\"dataframe\">\n",
       "  <thead>\n",
       "    <tr style=\"text-align: right;\">\n",
       "      <th></th>\n",
       "      <th>votes</th>\n",
       "      <th>location</th>\n",
       "      <th>approx_cost(for two people)</th>\n",
       "      <th>listed_in(city)</th>\n",
       "      <th>target</th>\n",
       "      <th>online_order_Yes</th>\n",
       "      <th>book_table_Yes</th>\n",
       "      <th>rest_type_Casual Dining</th>\n",
       "      <th>rest_type_Delivery</th>\n",
       "      <th>rest_type_Dessert Parlor</th>\n",
       "      <th>rest_type_Quick Bites</th>\n",
       "      <th>rest_type_other</th>\n",
       "      <th>listed_in(type)_Cafes</th>\n",
       "      <th>listed_in(type)_Delivery</th>\n",
       "      <th>listed_in(type)_Desserts</th>\n",
       "      <th>listed_in(type)_Dine-out</th>\n",
       "      <th>listed_in(type)_Drinks &amp; nightlife</th>\n",
       "      <th>listed_in(type)_Pubs and bars</th>\n",
       "    </tr>\n",
       "  </thead>\n",
       "  <tbody>\n",
       "    <tr>\n",
       "      <th>0</th>\n",
       "      <td>775</td>\n",
       "      <td>0.390728</td>\n",
       "      <td>800.0</td>\n",
       "      <td>0.396292</td>\n",
       "      <td>1</td>\n",
       "      <td>1</td>\n",
       "      <td>1</td>\n",
       "      <td>1</td>\n",
       "      <td>0</td>\n",
       "      <td>0</td>\n",
       "      <td>0</td>\n",
       "      <td>0</td>\n",
       "      <td>0</td>\n",
       "      <td>0</td>\n",
       "      <td>0</td>\n",
       "      <td>0</td>\n",
       "      <td>0</td>\n",
       "      <td>0</td>\n",
       "    </tr>\n",
       "    <tr>\n",
       "      <th>1</th>\n",
       "      <td>787</td>\n",
       "      <td>0.390728</td>\n",
       "      <td>800.0</td>\n",
       "      <td>0.396292</td>\n",
       "      <td>1</td>\n",
       "      <td>1</td>\n",
       "      <td>0</td>\n",
       "      <td>1</td>\n",
       "      <td>0</td>\n",
       "      <td>0</td>\n",
       "      <td>0</td>\n",
       "      <td>0</td>\n",
       "      <td>0</td>\n",
       "      <td>0</td>\n",
       "      <td>0</td>\n",
       "      <td>0</td>\n",
       "      <td>0</td>\n",
       "      <td>0</td>\n",
       "    </tr>\n",
       "  </tbody>\n",
       "</table>\n",
       "</div>"
      ],
      "text/plain": [
       "   votes  location  approx_cost(for two people)  listed_in(city)  target  \\\n",
       "0    775  0.390728                        800.0         0.396292       1   \n",
       "1    787  0.390728                        800.0         0.396292       1   \n",
       "\n",
       "   online_order_Yes  book_table_Yes  rest_type_Casual Dining  \\\n",
       "0                 1               1                        1   \n",
       "1                 1               0                        1   \n",
       "\n",
       "   rest_type_Delivery  rest_type_Dessert Parlor  rest_type_Quick Bites  \\\n",
       "0                   0                         0                      0   \n",
       "1                   0                         0                      0   \n",
       "\n",
       "   rest_type_other  listed_in(type)_Cafes  listed_in(type)_Delivery  \\\n",
       "0                0                      0                         0   \n",
       "1                0                      0                         0   \n",
       "\n",
       "   listed_in(type)_Desserts  listed_in(type)_Dine-out  \\\n",
       "0                         0                         0   \n",
       "1                         0                         0   \n",
       "\n",
       "   listed_in(type)_Drinks & nightlife  listed_in(type)_Pubs and bars  \n",
       "0                                   0                              0  \n",
       "1                                   0                              0  "
      ]
     },
     "execution_count": 123,
     "metadata": {},
     "output_type": "execute_result"
    }
   ],
   "source": [
    "data.head(2)"
   ]
  },
  {
   "cell_type": "markdown",
   "id": "9b139633",
   "metadata": {},
   "source": [
    "## Outliers"
   ]
  },
  {
   "cell_type": "code",
   "execution_count": 124,
   "id": "99c450de",
   "metadata": {},
   "outputs": [
    {
     "data": {
      "text/plain": [
       "16832"
      ]
     },
     "execution_count": 124,
     "metadata": {},
     "output_type": "execute_result"
    }
   ],
   "source": [
    "data['votes'].max()"
   ]
  },
  {
   "cell_type": "code",
   "execution_count": 125,
   "id": "a9d2c0d0",
   "metadata": {},
   "outputs": [
    {
     "data": {
      "text/plain": [
       "0"
      ]
     },
     "execution_count": 125,
     "metadata": {},
     "output_type": "execute_result"
    }
   ],
   "source": [
    "data['votes'].min()"
   ]
  },
  {
   "cell_type": "markdown",
   "id": "08b3cbf6",
   "metadata": {},
   "source": [
    "data visualizations are great tools to look for outliers as they help identify outliers in the dataset"
   ]
  },
  {
   "cell_type": "code",
   "execution_count": 126,
   "id": "e00f04b9",
   "metadata": {},
   "outputs": [],
   "source": [
    "# Imports the stats module from the SciPy library\n",
    "# This module provides statistical functions and tests commonly used for data analysis, such as z-scores, correlations, and hypothesis testing\n",
    "from scipy import stats"
   ]
  },
  {
   "cell_type": "code",
   "execution_count": 127,
   "id": "ddba0d86",
   "metadata": {},
   "outputs": [
    {
     "data": {
      "image/png": "[encoded data removed]",
      "text/plain": [
       "<Figure size 1200x800 with 4 Axes>"
      ]
     },
     "metadata": {},
     "output_type": "display_data"
    }
   ],
   "source": [
    "# Creates a 4-panel visualization (stacked vertically) to analyze the 'approx_cost(for two people)' feature\n",
    "# 1. Histogram shows the distribution of cost values\n",
    "# 2. Boxplot highlights the median, quartiles, and potential outliers\n",
    "# 3. Distribution plot combines histogram and density curve for a smoother view\n",
    "# 4. Q-Q plot (probability plot) checks whether the data follows a normal distribution\n",
    "\n",
    "plt.figure(figsize=(12,8))\n",
    "\n",
    "plt.subplot(411)\n",
    "sns.histplot(data['approx_cost(for two people)'])\n",
    "\n",
    "plt.subplot(412)\n",
    "# sns.boxplot(data['approx_cost(for two people)'])\n",
    "\n",
    "sns.boxplot(x=data['approx_cost(for two people)'])\n",
    "\n",
    "plt.subplot(413)\n",
    "sns.distplot(data['approx_cost(for two people)'])\n",
    "\n",
    "plt.subplot(414)\n",
    "stats.probplot(data['approx_cost(for two people)'],plot =plt)\n",
    "\n",
    "plt.show()"
   ]
  },
  {
   "cell_type": "code",
   "execution_count": 128,
   "id": "8118866b",
   "metadata": {},
   "outputs": [],
   "source": [
    "# Applies a log transformation (log1p adds 1 before taking the log) to the 'approx_cost(for two people)' column\n",
    "# This helps reduce skewness and normalize the distribution, making it more suitable for modeling and statistical analysis\n",
    "data['approx_cost(for two people)'] = np.log1p(data['approx_cost(for two people)'])"
   ]
  },
  {
   "cell_type": "code",
   "execution_count": 129,
   "id": "c37effd9",
   "metadata": {},
   "outputs": [
    {
     "data": {
      "image/png": "[encoded data removed]",
      "text/plain": [
       "<Figure size 1200x800 with 4 Axes>"
      ]
     },
     "metadata": {},
     "output_type": "display_data"
    }
   ],
   "source": [
    "plt.figure(figsize=(12,8))\n",
    "\n",
    "plt.subplot(411)\n",
    "sns.histplot(data['approx_cost(for two people)'])\n",
    "\n",
    "plt.subplot(412)\n",
    "# sns.boxplot(data['approx_cost(for two people)'])\n",
    "\n",
    "sns.boxplot(x=data['approx_cost(for two people)'])\n",
    "\n",
    "plt.subplot(413)\n",
    "sns.distplot(data['approx_cost(for two people)'])\n",
    "\n",
    "plt.subplot(414)\n",
    "stats.probplot(data['approx_cost(for two people)'],plot =plt)\n",
    "\n",
    "plt.show()"
   ]
  },
  {
   "cell_type": "code",
   "execution_count": 130,
   "id": "889c6513",
   "metadata": {},
   "outputs": [
    {
     "data": {
      "text/plain": [
       "<Axes: xlabel='approx_cost(for two people)', ylabel='Density'>"
      ]
     },
     "execution_count": 130,
     "metadata": {},
     "output_type": "execute_result"
    },
    {
     "data": {
      "image/png": "[encoded data removed]",
      "text/plain": [
       "<Figure size 640x480 with 1 Axes>"
      ]
     },
     "metadata": {},
     "output_type": "display_data"
    }
   ],
   "source": [
    "sns.distplot(np.log1p(data['approx_cost(for two people)']))"
   ]
  },
  {
   "cell_type": "code",
   "execution_count": 131,
   "id": "04795a7c",
   "metadata": {},
   "outputs": [
    {
     "data": {
      "image/png": "[encoded data removed]",
      "text/plain": [
       "<Figure size 1200x800 with 4 Axes>"
      ]
     },
     "metadata": {},
     "output_type": "display_data"
    }
   ],
   "source": [
    "# Do the same for 'votes' feature\n",
    "\n",
    "\n",
    "plt.figure(figsize=(12,8))\n",
    "\n",
    "plt.subplot(411)\n",
    "sns.histplot(data['votes'])\n",
    "\n",
    "plt.subplot(412)\n",
    "# sns.boxplot(data['approx_cost(for two people)'])\n",
    "\n",
    "sns.boxplot(x=data['votes'])\n",
    "\n",
    "plt.subplot(413)\n",
    "sns.distplot(data['votes'])\n",
    "\n",
    "plt.subplot(414)\n",
    "stats.probplot(data['votes'],plot =plt)\n",
    "\n",
    "plt.show()"
   ]
  },
  {
   "cell_type": "code",
   "execution_count": 132,
   "id": "0fc86630",
   "metadata": {},
   "outputs": [],
   "source": [
    "data['votes'] = np.log1p(data['votes'])"
   ]
  },
  {
   "cell_type": "code",
   "execution_count": 133,
   "id": "29e2a8b3",
   "metadata": {},
   "outputs": [
    {
     "data": {
      "image/png": "[encoded data removed]",
      "text/plain": [
       "<Figure size 1200x800 with 4 Axes>"
      ]
     },
     "metadata": {},
     "output_type": "display_data"
    }
   ],
   "source": [
    "plt.figure(figsize=(12,8))\n",
    "\n",
    "plt.subplot(411)\n",
    "sns.histplot(data['votes'])\n",
    "\n",
    "plt.subplot(412)\n",
    "# sns.boxplot(data['approx_cost(for two people)'])\n",
    "\n",
    "sns.boxplot(x=data['votes'])\n",
    "\n",
    "plt.subplot(413)\n",
    "sns.distplot(data['votes'])\n",
    "\n",
    "plt.subplot(414)\n",
    "stats.probplot(data['votes'],plot =plt)\n",
    "\n",
    "plt.show()"
   ]
  },
  {
   "cell_type": "markdown",
   "id": "2990c672",
   "metadata": {},
   "source": [
    "## Building a Machine Learning Model"
   ]
  },
  {
   "cell_type": "markdown",
   "id": "8b50109a",
   "metadata": {},
   "source": [
    "Machine learning models work with data of the type\n",
    "numbers or vectors.\n",
    "That is, we need our vectors to be numbered (as we have done so far)."
   ]
  },
  {
   "cell_type": "code",
   "execution_count": 134,
   "id": "8b6b4db6",
   "metadata": {},
   "outputs": [
    {
     "data": {
      "text/plain": [
       "votes                                 float64\n",
       "location                              float64\n",
       "approx_cost(for two people)           float64\n",
       "listed_in(city)                       float64\n",
       "target                                  int64\n",
       "online_order_Yes                        int64\n",
       "book_table_Yes                          int64\n",
       "rest_type_Casual Dining                 int64\n",
       "rest_type_Delivery                      int64\n",
       "rest_type_Dessert Parlor                int64\n",
       "rest_type_Quick Bites                   int64\n",
       "rest_type_other                         int64\n",
       "listed_in(type)_Cafes                   int64\n",
       "listed_in(type)_Delivery                int64\n",
       "listed_in(type)_Desserts                int64\n",
       "listed_in(type)_Dine-out                int64\n",
       "listed_in(type)_Drinks & nightlife      int64\n",
       "listed_in(type)_Pubs and bars           int64\n",
       "dtype: object"
      ]
     },
     "execution_count": 134,
     "metadata": {},
     "output_type": "execute_result"
    }
   ],
   "source": [
    "data.dtypes"
   ]
  },
  {
   "cell_type": "code",
   "execution_count": 140,
   "id": "871d58b3",
   "metadata": {},
   "outputs": [],
   "source": [
    "# We will split the data into dependent (target column) and independent variables.\n",
    "X = data.drop('target', axis=1)\n",
    "y= data['target']"
   ]
  },
  {
   "cell_type": "markdown",
   "id": "84306e9c",
   "metadata": {},
   "source": [
    "steps of building a ML model\n",
    "* split into train\\ test  data set\n",
    "* init ML algo\n",
    "* train ML using training set\n",
    "* prediction(testing)\n",
    "* ML model (evaluation) "
   ]
  },
  {
   "cell_type": "code",
   "execution_count": 143,
   "id": "760b80c3",
   "metadata": {},
   "outputs": [],
   "source": [
    "# Imports the train_test_split function from scikit-learn\n",
    "# This function is used to split the dataset into training and testing sets for model evaluation\n",
    "from sklearn.model_selection import train_test_split"
   ]
  },
  {
   "cell_type": "code",
   "execution_count": null,
   "id": "cb288a1a",
   "metadata": {},
   "outputs": [],
   "source": [
    "# Splits the data into training and testing sets\n",
    "# 70% of the data is used for training and 30% for testing (test_size=0.30)\n",
    "# random_state=42 ensures the split is reproducible each time the code is run\n",
    "X_train, X_test, y_train, y_test = train_test_split(X, y, test_size=0.3, random_state=42)"
   ]
  },
  {
   "cell_type": "code",
   "execution_count": null,
   "id": "366c61ee",
   "metadata": {},
   "outputs": [],
   "source": [
    "# Imports the RandomForestClassifier from scikit-learn’s ensemble module\n",
    "# This model builds multiple decision trees and combines their results to improve accuracy and reduce overfitting\n",
    "from sklearn.ensemble import RandomForestClassifier"
   ]
  },
  {
   "cell_type": "code",
   "execution_count": null,
   "id": "2e0207cf",
   "metadata": {},
   "outputs": [],
   "source": [
    "# Creates an instance of the RandomForestClassifier with default parameters\n",
    "# This object (rf_model) will later be trained on the dataset to predict the target variable\n",
    "rf_model = RandomForestClassifier()"
   ]
  },
  {
   "cell_type": "code",
   "execution_count": 150,
   "id": "b372bc33",
   "metadata": {},
   "outputs": [
    {
     "data": {
      "text/html": [
       "<style>#sk-container-id-1 {\n",
       "  /* Definition of color scheme common for light and dark mode */\n",
       "  --sklearn-color-text: #000;\n",
       "  --sklearn-color-text-muted: #666;\n",
       "  --sklearn-color-line: gray;\n",
       "  /* Definition of color scheme for unfitted estimators */\n",
       "  --sklearn-color-unfitted-level-0: #fff5e6;\n",
       "  --sklearn-color-unfitted-level-1: #f6e4d2;\n",
       "  --sklearn-color-unfitted-level-2: #ffe0b3;\n",
       "  --sklearn-color-unfitted-level-3: chocolate;\n",
       "  /* Definition of color scheme for fitted estimators */\n",
       "  --sklearn-color-fitted-level-0: #f0f8ff;\n",
       "  --sklearn-color-fitted-level-1: #d4ebff;\n",
       "  --sklearn-color-fitted-level-2: #b3dbfd;\n",
       "  --sklearn-color-fitted-level-3: cornflowerblue;\n",
       "\n",
       "  /* Specific color for light theme */\n",
       "  --sklearn-color-text-on-default-background: var(--sg-text-color, var(--theme-code-foreground, var(--jp-content-font-color1, black)));\n",
       "  --sklearn-color-background: var(--sg-background-color, var(--theme-background, var(--jp-layout-color0, white)));\n",
       "  --sklearn-color-border-box: var(--sg-text-color, var(--theme-code-foreground, var(--jp-content-font-color1, black)));\n",
       "  --sklearn-color-icon: #696969;\n",
       "\n",
       "  @media (prefers-color-scheme: dark) {\n",
       "    /* Redefinition of color scheme for dark theme */\n",
       "    --sklearn-color-text-on-default-background: var(--sg-text-color, var(--theme-code-foreground, var(--jp-content-font-color1, white)));\n",
       "    --sklearn-color-background: var(--sg-background-color, var(--theme-background, var(--jp-layout-color0, #111)));\n",
       "    --sklearn-color-border-box: var(--sg-text-color, var(--theme-code-foreground, var(--jp-content-font-color1, white)));\n",
       "    --sklearn-color-icon: #878787;\n",
       "  }\n",
       "}\n",
       "\n",
       "#sk-container-id-1 {\n",
       "  color: var(--sklearn-color-text);\n",
       "}\n",
       "\n",
       "#sk-container-id-1 pre {\n",
       "  padding: 0;\n",
       "}\n",
       "\n",
       "#sk-container-id-1 input.sk-hidden--visually {\n",
       "  border: 0;\n",
       "  clip: rect(1px 1px 1px 1px);\n",
       "  clip: rect(1px, 1px, 1px, 1px);\n",
       "  height: 1px;\n",
       "  margin: -1px;\n",
       "  overflow: hidden;\n",
       "  padding: 0;\n",
       "  position: absolute;\n",
       "  width: 1px;\n",
       "}\n",
       "\n",
       "#sk-container-id-1 div.sk-dashed-wrapped {\n",
       "  border: 1px dashed var(--sklearn-color-line);\n",
       "  margin: 0 0.4em 0.5em 0.4em;\n",
       "  box-sizing: border-box;\n",
       "  padding-bottom: 0.4em;\n",
       "  background-color: var(--sklearn-color-background);\n",
       "}\n",
       "\n",
       "#sk-container-id-1 div.sk-container {\n",
       "  /* jupyter's `normalize.less` sets `[hidden] { display: none; }`\n",
       "     but bootstrap.min.css set `[hidden] { display: none !important; }`\n",
       "     so we also need the `!important` here to be able to override the\n",
       "     default hidden behavior on the sphinx rendered scikit-learn.org.\n",
       "     See: https://github.com/scikit-learn/scikit-learn/issues/21755 */\n",
       "  display: inline-block !important;\n",
       "  position: relative;\n",
       "}\n",
       "\n",
       "#sk-container-id-1 div.sk-text-repr-fallback {\n",
       "  display: none;\n",
       "}\n",
       "\n",
       "div.sk-parallel-item,\n",
       "div.sk-serial,\n",
       "div.sk-item {\n",
       "  /* draw centered vertical line to link estimators */\n",
       "  background-image: linear-gradient(var(--sklearn-color-text-on-default-background), var(--sklearn-color-text-on-default-background));\n",
       "  background-size: 2px 100%;\n",
       "  background-repeat: no-repeat;\n",
       "  background-position: center center;\n",
       "}\n",
       "\n",
       "/* Parallel-specific style estimator block */\n",
       "\n",
       "#sk-container-id-1 div.sk-parallel-item::after {\n",
       "  content: \"\";\n",
       "  width: 100%;\n",
       "  border-bottom: 2px solid var(--sklearn-color-text-on-default-background);\n",
       "  flex-grow: 1;\n",
       "}\n",
       "\n",
       "#sk-container-id-1 div.sk-parallel {\n",
       "  display: flex;\n",
       "  align-items: stretch;\n",
       "  justify-content: center;\n",
       "  background-color: var(--sklearn-color-background);\n",
       "  position: relative;\n",
       "}\n",
       "\n",
       "#sk-container-id-1 div.sk-parallel-item {\n",
       "  display: flex;\n",
       "  flex-direction: column;\n",
       "}\n",
       "\n",
       "#sk-container-id-1 div.sk-parallel-item:first-child::after {\n",
       "  align-self: flex-end;\n",
       "  width: 50%;\n",
       "}\n",
       "\n",
       "#sk-container-id-1 div.sk-parallel-item:last-child::after {\n",
       "  align-self: flex-start;\n",
       "  width: 50%;\n",
       "}\n",
       "\n",
       "#sk-container-id-1 div.sk-parallel-item:only-child::after {\n",
       "  width: 0;\n",
       "}\n",
       "\n",
       "/* Serial-specific style estimator block */\n",
       "\n",
       "#sk-container-id-1 div.sk-serial {\n",
       "  display: flex;\n",
       "  flex-direction: column;\n",
       "  align-items: center;\n",
       "  background-color: var(--sklearn-color-background);\n",
       "  padding-right: 1em;\n",
       "  padding-left: 1em;\n",
       "}\n",
       "\n",
       "\n",
       "/* Toggleable style: style used for estimator/Pipeline/ColumnTransformer box that is\n",
       "clickable and can be expanded/collapsed.\n",
       "- Pipeline and ColumnTransformer use this feature and define the default style\n",
       "- Estimators will overwrite some part of the style using the `sk-estimator` class\n",
       "*/\n",
       "\n",
       "/* Pipeline and ColumnTransformer style (default) */\n",
       "\n",
       "#sk-container-id-1 div.sk-toggleable {\n",
       "  /* Default theme specific background. It is overwritten whether we have a\n",
       "  specific estimator or a Pipeline/ColumnTransformer */\n",
       "  background-color: var(--sklearn-color-background);\n",
       "}\n",
       "\n",
       "/* Toggleable label */\n",
       "#sk-container-id-1 label.sk-toggleable__label {\n",
       "  cursor: pointer;\n",
       "  display: flex;\n",
       "  width: 100%;\n",
       "  margin-bottom: 0;\n",
       "  padding: 0.5em;\n",
       "  box-sizing: border-box;\n",
       "  text-align: center;\n",
       "  align-items: start;\n",
       "  justify-content: space-between;\n",
       "  gap: 0.5em;\n",
       "}\n",
       "\n",
       "#sk-container-id-1 label.sk-toggleable__label .caption {\n",
       "  font-size: 0.6rem;\n",
       "  font-weight: lighter;\n",
       "  color: var(--sklearn-color-text-muted);\n",
       "}\n",
       "\n",
       "#sk-container-id-1 label.sk-toggleable__label-arrow:before {\n",
       "  /* Arrow on the left of the label */\n",
       "  content: \"▸\";\n",
       "  float: left;\n",
       "  margin-right: 0.25em;\n",
       "  color: var(--sklearn-color-icon);\n",
       "}\n",
       "\n",
       "#sk-container-id-1 label.sk-toggleable__label-arrow:hover:before {\n",
       "  color: var(--sklearn-color-text);\n",
       "}\n",
       "\n",
       "/* Toggleable content - dropdown */\n",
       "\n",
       "#sk-container-id-1 div.sk-toggleable__content {\n",
       "  max-height: 0;\n",
       "  max-width: 0;\n",
       "  overflow: hidden;\n",
       "  text-align: left;\n",
       "  /* unfitted */\n",
       "  background-color: var(--sklearn-color-unfitted-level-0);\n",
       "}\n",
       "\n",
       "#sk-container-id-1 div.sk-toggleable__content.fitted {\n",
       "  /* fitted */\n",
       "  background-color: var(--sklearn-color-fitted-level-0);\n",
       "}\n",
       "\n",
       "#sk-container-id-1 div.sk-toggleable__content pre {\n",
       "  margin: 0.2em;\n",
       "  border-radius: 0.25em;\n",
       "  color: var(--sklearn-color-text);\n",
       "  /* unfitted */\n",
       "  background-color: var(--sklearn-color-unfitted-level-0);\n",
       "}\n",
       "\n",
       "#sk-container-id-1 div.sk-toggleable__content.fitted pre {\n",
       "  /* unfitted */\n",
       "  background-color: var(--sklearn-color-fitted-level-0);\n",
       "}\n",
       "\n",
       "#sk-container-id-1 input.sk-toggleable__control:checked~div.sk-toggleable__content {\n",
       "  /* Expand drop-down */\n",
       "  max-height: 200px;\n",
       "  max-width: 100%;\n",
       "  overflow: auto;\n",
       "}\n",
       "\n",
       "#sk-container-id-1 input.sk-toggleable__control:checked~label.sk-toggleable__label-arrow:before {\n",
       "  content: \"▾\";\n",
       "}\n",
       "\n",
       "/* Pipeline/ColumnTransformer-specific style */\n",
       "\n",
       "#sk-container-id-1 div.sk-label input.sk-toggleable__control:checked~label.sk-toggleable__label {\n",
       "  color: var(--sklearn-color-text);\n",
       "  background-color: var(--sklearn-color-unfitted-level-2);\n",
       "}\n",
       "\n",
       "#sk-container-id-1 div.sk-label.fitted input.sk-toggleable__control:checked~label.sk-toggleable__label {\n",
       "  background-color: var(--sklearn-color-fitted-level-2);\n",
       "}\n",
       "\n",
       "/* Estimator-specific style */\n",
       "\n",
       "/* Colorize estimator box */\n",
       "#sk-container-id-1 div.sk-estimator input.sk-toggleable__control:checked~label.sk-toggleable__label {\n",
       "  /* unfitted */\n",
       "  background-color: var(--sklearn-color-unfitted-level-2);\n",
       "}\n",
       "\n",
       "#sk-container-id-1 div.sk-estimator.fitted input.sk-toggleable__control:checked~label.sk-toggleable__label {\n",
       "  /* fitted */\n",
       "  background-color: var(--sklearn-color-fitted-level-2);\n",
       "}\n",
       "\n",
       "#sk-container-id-1 div.sk-label label.sk-toggleable__label,\n",
       "#sk-container-id-1 div.sk-label label {\n",
       "  /* The background is the default theme color */\n",
       "  color: var(--sklearn-color-text-on-default-background);\n",
       "}\n",
       "\n",
       "/* On hover, darken the color of the background */\n",
       "#sk-container-id-1 div.sk-label:hover label.sk-toggleable__label {\n",
       "  color: var(--sklearn-color-text);\n",
       "  background-color: var(--sklearn-color-unfitted-level-2);\n",
       "}\n",
       "\n",
       "/* Label box, darken color on hover, fitted */\n",
       "#sk-container-id-1 div.sk-label.fitted:hover label.sk-toggleable__label.fitted {\n",
       "  color: var(--sklearn-color-text);\n",
       "  background-color: var(--sklearn-color-fitted-level-2);\n",
       "}\n",
       "\n",
       "/* Estimator label */\n",
       "\n",
       "#sk-container-id-1 div.sk-label label {\n",
       "  font-family: monospace;\n",
       "  font-weight: bold;\n",
       "  display: inline-block;\n",
       "  line-height: 1.2em;\n",
       "}\n",
       "\n",
       "#sk-container-id-1 div.sk-label-container {\n",
       "  text-align: center;\n",
       "}\n",
       "\n",
       "/* Estimator-specific */\n",
       "#sk-container-id-1 div.sk-estimator {\n",
       "  font-family: monospace;\n",
       "  border: 1px dotted var(--sklearn-color-border-box);\n",
       "  border-radius: 0.25em;\n",
       "  box-sizing: border-box;\n",
       "  margin-bottom: 0.5em;\n",
       "  /* unfitted */\n",
       "  background-color: var(--sklearn-color-unfitted-level-0);\n",
       "}\n",
       "\n",
       "#sk-container-id-1 div.sk-estimator.fitted {\n",
       "  /* fitted */\n",
       "  background-color: var(--sklearn-color-fitted-level-0);\n",
       "}\n",
       "\n",
       "/* on hover */\n",
       "#sk-container-id-1 div.sk-estimator:hover {\n",
       "  /* unfitted */\n",
       "  background-color: var(--sklearn-color-unfitted-level-2);\n",
       "}\n",
       "\n",
       "#sk-container-id-1 div.sk-estimator.fitted:hover {\n",
       "  /* fitted */\n",
       "  background-color: var(--sklearn-color-fitted-level-2);\n",
       "}\n",
       "\n",
       "/* Specification for estimator info (e.g. \"i\" and \"?\") */\n",
       "\n",
       "/* Common style for \"i\" and \"?\" */\n",
       "\n",
       ".sk-estimator-doc-link,\n",
       "a:link.sk-estimator-doc-link,\n",
       "a:visited.sk-estimator-doc-link {\n",
       "  float: right;\n",
       "  font-size: smaller;\n",
       "  line-height: 1em;\n",
       "  font-family: monospace;\n",
       "  background-color: var(--sklearn-color-background);\n",
       "  border-radius: 1em;\n",
       "  height: 1em;\n",
       "  width: 1em;\n",
       "  text-decoration: none !important;\n",
       "  margin-left: 0.5em;\n",
       "  text-align: center;\n",
       "  /* unfitted */\n",
       "  border: var(--sklearn-color-unfitted-level-1) 1pt solid;\n",
       "  color: var(--sklearn-color-unfitted-level-1);\n",
       "}\n",
       "\n",
       ".sk-estimator-doc-link.fitted,\n",
       "a:link.sk-estimator-doc-link.fitted,\n",
       "a:visited.sk-estimator-doc-link.fitted {\n",
       "  /* fitted */\n",
       "  border: var(--sklearn-color-fitted-level-1) 1pt solid;\n",
       "  color: var(--sklearn-color-fitted-level-1);\n",
       "}\n",
       "\n",
       "/* On hover */\n",
       "div.sk-estimator:hover .sk-estimator-doc-link:hover,\n",
       ".sk-estimator-doc-link:hover,\n",
       "div.sk-label-container:hover .sk-estimator-doc-link:hover,\n",
       ".sk-estimator-doc-link:hover {\n",
       "  /* unfitted */\n",
       "  background-color: var(--sklearn-color-unfitted-level-3);\n",
       "  color: var(--sklearn-color-background);\n",
       "  text-decoration: none;\n",
       "}\n",
       "\n",
       "div.sk-estimator.fitted:hover .sk-estimator-doc-link.fitted:hover,\n",
       ".sk-estimator-doc-link.fitted:hover,\n",
       "div.sk-label-container:hover .sk-estimator-doc-link.fitted:hover,\n",
       ".sk-estimator-doc-link.fitted:hover {\n",
       "  /* fitted */\n",
       "  background-color: var(--sklearn-color-fitted-level-3);\n",
       "  color: var(--sklearn-color-background);\n",
       "  text-decoration: none;\n",
       "}\n",
       "\n",
       "/* Span, style for the box shown on hovering the info icon */\n",
       ".sk-estimator-doc-link span {\n",
       "  display: none;\n",
       "  z-index: 9999;\n",
       "  position: relative;\n",
       "  font-weight: normal;\n",
       "  right: .2ex;\n",
       "  padding: .5ex;\n",
       "  margin: .5ex;\n",
       "  width: min-content;\n",
       "  min-width: 20ex;\n",
       "  max-width: 50ex;\n",
       "  color: var(--sklearn-color-text);\n",
       "  box-shadow: 2pt 2pt 4pt #999;\n",
       "  /* unfitted */\n",
       "  background: var(--sklearn-color-unfitted-level-0);\n",
       "  border: .5pt solid var(--sklearn-color-unfitted-level-3);\n",
       "}\n",
       "\n",
       ".sk-estimator-doc-link.fitted span {\n",
       "  /* fitted */\n",
       "  background: var(--sklearn-color-fitted-level-0);\n",
       "  border: var(--sklearn-color-fitted-level-3);\n",
       "}\n",
       "\n",
       ".sk-estimator-doc-link:hover span {\n",
       "  display: block;\n",
       "}\n",
       "\n",
       "/* \"?\"-specific style due to the `<a>` HTML tag */\n",
       "\n",
       "#sk-container-id-1 a.estimator_doc_link {\n",
       "  float: right;\n",
       "  font-size: 1rem;\n",
       "  line-height: 1em;\n",
       "  font-family: monospace;\n",
       "  background-color: var(--sklearn-color-background);\n",
       "  border-radius: 1rem;\n",
       "  height: 1rem;\n",
       "  width: 1rem;\n",
       "  text-decoration: none;\n",
       "  /* unfitted */\n",
       "  color: var(--sklearn-color-unfitted-level-1);\n",
       "  border: var(--sklearn-color-unfitted-level-1) 1pt solid;\n",
       "}\n",
       "\n",
       "#sk-container-id-1 a.estimator_doc_link.fitted {\n",
       "  /* fitted */\n",
       "  border: var(--sklearn-color-fitted-level-1) 1pt solid;\n",
       "  color: var(--sklearn-color-fitted-level-1);\n",
       "}\n",
       "\n",
       "/* On hover */\n",
       "#sk-container-id-1 a.estimator_doc_link:hover {\n",
       "  /* unfitted */\n",
       "  background-color: var(--sklearn-color-unfitted-level-3);\n",
       "  color: var(--sklearn-color-background);\n",
       "  text-decoration: none;\n",
       "}\n",
       "\n",
       "#sk-container-id-1 a.estimator_doc_link.fitted:hover {\n",
       "  /* fitted */\n",
       "  background-color: var(--sklearn-color-fitted-level-3);\n",
       "}\n",
       "</style><div id=\"sk-container-id-1\" class=\"sk-top-container\"><div class=\"sk-text-repr-fallback\"><pre>RandomForestClassifier()</pre><b>In a Jupyter environment, please rerun this cell to show the HTML representation or trust the notebook. <br />On GitHub, the HTML representation is unable to render, please try loading this page with nbviewer.org.</b></div><div class=\"sk-container\" hidden><div class=\"sk-item\"><div class=\"sk-estimator fitted sk-toggleable\"><input class=\"sk-toggleable__control sk-hidden--visually\" id=\"sk-estimator-id-1\" type=\"checkbox\" checked><label for=\"sk-estimator-id-1\" class=\"sk-toggleable__label fitted sk-toggleable__label-arrow\"><div><div>RandomForestClassifier</div></div><div><a class=\"sk-estimator-doc-link fitted\" rel=\"noreferrer\" target=\"_blank\" href=\"https://scikit-learn.org/1.6/modules/generated/sklearn.ensemble.RandomForestClassifier.html\">?<span>Documentation for RandomForestClassifier</span></a><span class=\"sk-estimator-doc-link fitted\">i<span>Fitted</span></span></div></label><div class=\"sk-toggleable__content fitted\"><pre>RandomForestClassifier()</pre></div> </div></div></div></div>"
      ],
      "text/plain": [
       "RandomForestClassifier()"
      ]
     },
     "execution_count": 150,
     "metadata": {},
     "output_type": "execute_result"
    }
   ],
   "source": [
    "# Trains the Random Forest model using the training data (features X_train and target y_train)\n",
    "# The model learns patterns and relationships between the input variables and the target labels\n",
    "rf_model.fit(X_train, y_train)"
   ]
  },
  {
   "cell_type": "code",
   "execution_count": 153,
   "id": "a4cc227a",
   "metadata": {},
   "outputs": [],
   "source": [
    "# Uses the trained Random Forest model to predict target values for the test set (X_test)\n",
    "# The output is an array of predicted classes (e.g., 0 or 1) for each record in the test data\n",
    "predictions = rf_model.predict(X_test)"
   ]
  },
  {
   "cell_type": "code",
   "execution_count": 154,
   "id": "91989bc0",
   "metadata": {},
   "outputs": [
    {
     "data": {
      "text/plain": [
       "array([0, 0, 1, ..., 0, 1, 1])"
      ]
     },
     "execution_count": 154,
     "metadata": {},
     "output_type": "execute_result"
    }
   ],
   "source": [
    "predictions"
   ]
  },
  {
   "cell_type": "code",
   "execution_count": 156,
   "id": "20ed7a51",
   "metadata": {},
   "outputs": [],
   "source": [
    "# Imports two evaluation metrics from scikit-learn:\n",
    "# - accuracy_score: measures the percentage of correct predictions made by the model\n",
    "# - confusion_matrix: shows how many predictions were correct or incorrect for each class\n",
    "from sklearn.metrics import accuracy_score, confusion_matrix"
   ]
  },
  {
   "cell_type": "code",
   "execution_count": null,
   "id": "9b9b0625",
   "metadata": {},
   "outputs": [
    {
     "data": {
      "text/plain": [
       "0.9358081979891725"
      ]
     },
     "execution_count": 157,
     "metadata": {},
     "output_type": "execute_result"
    }
   ],
   "source": [
    "# Calculates the model’s accuracy by comparing predicted values with the actual test labels (y_test)\n",
    "# Returns the proportion of correct predictions as a decimal between 0 and 1\n",
    "accuracy_score(predictions, y_test)"
   ]
  },
  {
   "cell_type": "code",
   "execution_count": null,
   "id": "243c7619",
   "metadata": {},
   "outputs": [
    {
     "data": {
      "text/plain": [
       "array([[8900,  587],\n",
       "       [ 409, 5620]])"
      ]
     },
     "execution_count": 158,
     "metadata": {},
     "output_type": "execute_result"
    }
   ],
   "source": [
    "# Generates a confusion matrix comparing predicted labels to the actual labels (y_test)\n",
    "# It shows the counts of true positives, true negatives, false positives, and false negatives — useful for evaluating model performance\n",
    "confusion_matrix(predictions, y_test)"
   ]
  },
  {
   "cell_type": "markdown",
   "id": "7e8b6361",
   "metadata": {},
   "source": [
    "for the following output:\n",
    "\n",
    "array([[8900,  587],\n",
    "       [ 409, 5620]])\n",
    "\n",
    "       \n",
    "\n",
    "The confusion matrix output can be interpreted as follows:\n",
    "- Top-left (8900): True Negatives — correctly predicted low-rated restaurants\n",
    "- Top-right (587): False Positives — predicted high-rated but actually low-rated\n",
    "- Bottom-left (409): False Negatives — predicted low-rated but actually high-rated\n",
    "- Bottom-right (5620): True Positives — correctly predicted high-rated restaurants\n",
    "Overall, most predictions are correct, showing the model performs quite well"
   ]
  }
 ],
 "metadata": {
  "kernelspec": {
   "display_name": "base",
   "language": "python",
   "name": "python3"
  },
  "language_info": {
   "codemirror_mode": {
    "name": "ipython",
    "version": 3
   },
   "file_extension": ".py",
   "mimetype": "text/x-python",
   "name": "python",
   "nbconvert_exporter": "python",
   "pygments_lexer": "ipython3",
   "version": "3.13.5"
  }
 },
 "nbformat": 4,
 "nbformat_minor": 5
}
